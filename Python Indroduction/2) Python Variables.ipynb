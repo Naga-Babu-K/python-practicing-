{
 "cells": [
  {
   "cell_type": "markdown",
   "id": "c13829ff-bf39-443a-bf6c-7abb4f1ca601",
   "metadata": {},
   "source": [
    "### In Python, variables are created when you assign a value to it"
   ]
  },
  {
   "cell_type": "code",
   "execution_count": 2,
   "id": "e64d057f-dc63-4820-a9d4-478fc6a828b9",
   "metadata": {},
   "outputs": [],
   "source": [
    "# Here 5 is the value\n",
    "# \"a\" is variable \n",
    "# \"=\" is the assignment operator\n",
    "a = 5 # here \"5\" is stored in variable \"a\".\n"
   ]
  },
  {
   "cell_type": "code",
   "execution_count": 4,
   "id": "ed063251-9d08-4989-ab86-b06e546c2aa0",
   "metadata": {},
   "outputs": [
    {
     "data": {
      "text/plain": [
       "'Print'"
      ]
     },
     "execution_count": 4,
     "metadata": {},
     "output_type": "execute_result"
    }
   ],
   "source": [
    "# here diffrent names are avilable for object \"variable_name\", \"feature_name\", \"object_\", \"column_name\"\n",
    "a = \"rint\" \n",
    "a"
   ]
  },
  {
   "cell_type": "markdown",
   "id": "5b34d871-ac46-4bd5-ae9f-ea5126fd149c",
   "metadata": {},
   "source": [
    "## **Variable Names**"
   ]
  },
  {
   "cell_type": "markdown",
   "id": "0c33b412-dda7-4db0-ab61-4bbde10e29bf",
   "metadata": {},
   "source": [
    "A variable can have a short name (like x and y) or a more descriptive name (age, carname, total_volume). Rules for Python variables:\n",
    "\n",
    "- A variable name must start with a letter or the underscore character\n",
    "- A variable name cannot start with a number\n",
    "- A variable name can only contain alpha-numeric characters and underscores (A-z, 0-9, and _ )\n",
    "- Variable names are case-sensitive (age, Age and AGE are three different variables)\n",
    "- A variable name cannot be any of the Python keywords.\n"
   ]
  },
  {
   "cell_type": "code",
   "execution_count": 12,
   "id": "ff477e92-baa5-48a0-8f20-b82eafda8cc5",
   "metadata": {},
   "outputs": [
    {
     "name": "stdout",
     "output_type": "stream",
     "text": [
      "25\n"
     ]
    }
   ],
   "source": [
    "a = 10\n",
    "B = 15\n",
    "print(a+ B)"
   ]
  },
  {
   "cell_type": "code",
   "execution_count": 15,
   "id": "f93bc5be-8ce7-49e0-9ae8-13a0f18dfb03",
   "metadata": {},
   "outputs": [],
   "source": [
    "myvar = \"name\"\n",
    "my_var = \"name\"\n",
    "_my_var = \"name\"\n",
    "myVar = \"name\"\n",
    "MYVAR = \"name\"\n",
    "myvar2 = \"naga\""
   ]
  },
  {
   "cell_type": "code",
   "execution_count": 16,
   "id": "010af4c1-fbf6-4f22-8c04-a6dbcd0f1c06",
   "metadata": {},
   "outputs": [
    {
     "data": {
      "text/plain": [
       "'naga'"
      ]
     },
     "execution_count": 16,
     "metadata": {},
     "output_type": "execute_result"
    }
   ],
   "source": [
    "myvar2"
   ]
  },
  {
   "cell_type": "code",
   "execution_count": 2,
   "id": "29d06b87-a356-40d9-84eb-87966f9dbc1e",
   "metadata": {},
   "outputs": [
    {
     "ename": "SyntaxError",
     "evalue": "invalid decimal literal (4088156526.py, line 2)",
     "output_type": "error",
     "traceback": [
      "\u001b[1;36m  Cell \u001b[1;32mIn[2], line 2\u001b[1;36m\u001b[0m\n\u001b[1;33m    2myvar = \"megha\"\u001b[0m\n\u001b[1;37m    ^\u001b[0m\n\u001b[1;31mSyntaxError\u001b[0m\u001b[1;31m:\u001b[0m invalid decimal literal\n"
     ]
    }
   ],
   "source": [
    "# these are the invalid variable names\n",
    "2myvar = \"name\"\n",
    "my var = \"name\"\n",
    "my-Var = \"name"
   ]
  },
  {
   "cell_type": "code",
   "execution_count": 2,
   "id": "febfadaf-e3a7-4b83-867e-3331116ffd13",
   "metadata": {},
   "outputs": [
    {
     "name": "stdout",
     "output_type": "stream",
     "text": [
      "hello world\n"
     ]
    }
   ],
   "source": [
    "print(\"hello world\")"
   ]
  },
  {
   "cell_type": "code",
   "execution_count": null,
   "id": "d6b8de9c-b3f7-435b-ac19-5f85d8bfa50d",
   "metadata": {},
   "outputs": [],
   "source": []
  },
  {
   "cell_type": "code",
   "execution_count": null,
   "id": "a61d90b5-7e1b-42c4-ab8e-4eff0554483c",
   "metadata": {},
   "outputs": [],
   "source": []
  },
  {
   "cell_type": "markdown",
   "id": "5e08ebe2-43e4-48bf-bb88-53f1b0fb9aac",
   "metadata": {},
   "source": [
    "## Snake case"
   ]
  },
  {
   "cell_type": "code",
   "execution_count": 1,
   "id": "67668225-d90f-455f-8310-7f0a76bfe104",
   "metadata": {},
   "outputs": [],
   "source": [
    "#Each word is separated by an underscore character:\n",
    "\n",
    "my_variable_name = \"megha\""
   ]
  },
  {
   "cell_type": "markdown",
   "id": "ace9e963-e196-40f0-9981-94d5f43b06db",
   "metadata": {},
   "source": []
  },
  {
   "cell_type": "code",
   "execution_count": null,
   "id": "42d63699-9d52-4f46-aec8-873155ccbc9e",
   "metadata": {},
   "outputs": [],
   "source": []
  }
 ],
 "metadata": {
  "kernelspec": {
   "display_name": "Python 3 (ipykernel)",
   "language": "python",
   "name": "python3"
  },
  "language_info": {
   "codemirror_mode": {
    "name": "ipython",
    "version": 3
   },
   "file_extension": ".py",
   "mimetype": "text/x-python",
   "name": "python",
   "nbconvert_exporter": "python",
   "pygments_lexer": "ipython3",
   "version": "3.10.6"
  }
 },
 "nbformat": 4,
 "nbformat_minor": 5
}
