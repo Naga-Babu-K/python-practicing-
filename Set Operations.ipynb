{
 "cells": [
  {
   "cell_type": "markdown",
   "id": "a81ef1fd-e9af-447e-ae27-62476afb1701",
   "metadata": {},
   "source": [
    " ## Create a set named \"countries\" containing the following countries: \"USA\", \"Canada\", \"Mexico\", \"Brazil\", \"India\""
   ]
  },
  {
   "cell_type": "code",
   "execution_count": 63,
   "id": "8c2900d9-3991-4671-a3a1-3d9a72000e8a",
   "metadata": {},
   "outputs": [],
   "source": [
    "countries = {\"USA\", \"Canada\", \"Mexico\", \"Brazil\", \"India\"}"
   ]
  },
  {
   "cell_type": "code",
   "execution_count": 64,
   "id": "cca63e92-8dbc-4b53-a97f-e993e6d05115",
   "metadata": {},
   "outputs": [],
   "source": [
    "countries = {\"USA\", \"Canada\", \"Mexico\", \"Brazil\", \"India\"}"
   ]
  },
  {
   "cell_type": "markdown",
   "id": "b326a686-f0ab-4c4e-bd2f-47780cf6a889",
   "metadata": {},
   "source": [
    "## Print the set \"countries\"."
   ]
  },
  {
   "cell_type": "code",
   "execution_count": 65,
   "id": "d69e06c7-634c-4b81-afca-5ef4ad6b00d7",
   "metadata": {},
   "outputs": [
    {
     "data": {
      "text/plain": [
       "{'Brazil', 'Canada', 'India', 'Mexico', 'USA'}"
      ]
     },
     "execution_count": 65,
     "metadata": {},
     "output_type": "execute_result"
    }
   ],
   "source": [
    "countries"
   ]
  },
  {
   "cell_type": "markdown",
   "id": "740b21a5-53b4-4f09-b81e-ba153ef73594",
   "metadata": {},
   "source": [
    "## Add \"China\" and \"Germany\" to the set \"countries\"."
   ]
  },
  {
   "cell_type": "code",
   "execution_count": 66,
   "id": "4c4fdc80-cf3c-4bfa-8eb4-30f4ca2fd301",
   "metadata": {},
   "outputs": [],
   "source": [
    "countries.add(('China', 'Germany'))"
   ]
  },
  {
   "cell_type": "code",
   "execution_count": 67,
   "id": "61cd233d-5e15-41b8-8ce4-f3dde39d8cf2",
   "metadata": {},
   "outputs": [
    {
     "data": {
      "text/plain": [
       "{('China', 'Germany'), 'Brazil', 'Canada', 'India', 'Mexico', 'USA'}"
      ]
     },
     "execution_count": 67,
     "metadata": {},
     "output_type": "execute_result"
    }
   ],
   "source": [
    "countries"
   ]
  },
  {
   "cell_type": "markdown",
   "id": "9887d153-7170-4963-b7a3-e2c64353359d",
   "metadata": {},
   "source": [
    "## 4.Print the updated set \"countries\". "
   ]
  },
  {
   "cell_type": "code",
   "execution_count": 68,
   "id": "b55194a0-cbf5-4e5e-8c67-c313bcd07073",
   "metadata": {},
   "outputs": [
    {
     "data": {
      "text/plain": [
       "{('China', 'Germany'), 'Brazil', 'Canada', 'India', 'Mexico', 'USA'}"
      ]
     },
     "execution_count": 68,
     "metadata": {},
     "output_type": "execute_result"
    }
   ],
   "source": [
    "countries"
   ]
  },
  {
   "cell_type": "markdown",
   "id": "b6620fd7-6278-4b8f-9ea7-9c92b222714f",
   "metadata": {},
   "source": [
    "## 5.Create a set named \"european_countries\" containing the following countries: \"Germany\", \"France\", \"Spain\", \"Italy\", \"United Kingdom\"."
   ]
  },
  {
   "cell_type": "code",
   "execution_count": 69,
   "id": "f6acd23e-6605-4163-b880-9856074a2268",
   "metadata": {},
   "outputs": [],
   "source": [
    "european_countries = {\"Germany\", \"France\", \"Spain\", \"Italy\", \"United Kingdom\"}"
   ]
  },
  {
   "cell_type": "markdown",
   "id": "7e418142-49af-484a-a35c-8e4ec5533a95",
   "metadata": {},
   "source": [
    "## 6.Print the set \"european_countries\"."
   ]
  },
  {
   "cell_type": "code",
   "execution_count": 70,
   "id": "1c63507f-71d3-41f9-96b5-34c0c2f33bd9",
   "metadata": {},
   "outputs": [
    {
     "data": {
      "text/plain": [
       "{'France', 'Germany', 'Italy', 'Spain', 'United Kingdom'}"
      ]
     },
     "execution_count": 70,
     "metadata": {},
     "output_type": "execute_result"
    }
   ],
   "source": [
    "european_countries"
   ]
  },
  {
   "cell_type": "markdown",
   "id": "3706cf02-ce97-49fa-8dfc-660144da3cd1",
   "metadata": {},
   "source": [
    "## 7.Find and print the intersection of the sets \"countries\" and \"european_countries\"."
   ]
  },
  {
   "cell_type": "code",
   "execution_count": null,
   "id": "9a97849b-aebf-4bc6-8aa8-95b9b1b7ba31",
   "metadata": {},
   "outputs": [],
   "source": [
    "european_countries\n",
    "countries"
   ]
  },
  {
   "cell_type": "markdown",
   "id": "9e3a5030-900f-480b-9ddb-d8e4ba898da1",
   "metadata": {},
   "source": [
    "## 8.Find and print the union of the sets \"countries\" and \"european_countries\".\n"
   ]
  },
  {
   "cell_type": "code",
   "execution_count": 60,
   "id": "295b5c03-6677-49f7-aae8-a4d7920f66ce",
   "metadata": {},
   "outputs": [
    {
     "ename": "TypeError",
     "evalue": "unsupported operand type(s) for +: 'set' and 'set'",
     "output_type": "error",
     "traceback": [
      "\u001b[1;31m---------------------------------------------------------------------------\u001b[0m",
      "\u001b[1;31mTypeError\u001b[0m                                 Traceback (most recent call last)",
      "Cell \u001b[1;32mIn[60], line 1\u001b[0m\n\u001b[1;32m----> 1\u001b[0m \u001b[38;5;28mprint\u001b[39m(\u001b[43meuropean_countries\u001b[49m\u001b[43m \u001b[49m\u001b[38;5;241;43m+\u001b[39;49m\u001b[43m \u001b[49m\u001b[43mcountries\u001b[49m)\n",
      "\u001b[1;31mTypeError\u001b[0m: unsupported operand type(s) for +: 'set' and 'set'"
     ]
    }
   ],
   "source": [
    "print(european_countries + countries)"
   ]
  },
  {
   "cell_type": "markdown",
   "id": "39901664-cdca-4696-8064-3f45f094fe65",
   "metadata": {},
   "source": [
    "## 9.Remove \"India\" from the set \"countries\". Print the undated set countries"
   ]
  },
  {
   "cell_type": "code",
   "execution_count": 71,
   "id": "df773f34-9513-42e5-9518-4e44218c6d87",
   "metadata": {},
   "outputs": [],
   "source": [
    "countries.remove(\"India\")"
   ]
  },
  {
   "cell_type": "code",
   "execution_count": 72,
   "id": "9091dc17-13ae-48bf-beee-1fd161813089",
   "metadata": {},
   "outputs": [
    {
     "data": {
      "text/plain": [
       "{('China', 'Germany'), 'Brazil', 'Canada', 'Mexico', 'USA'}"
      ]
     },
     "execution_count": 72,
     "metadata": {},
     "output_type": "execute_result"
    }
   ],
   "source": [
    "countries"
   ]
  },
  {
   "cell_type": "code",
   "execution_count": null,
   "id": "00eaca25-6886-4880-8312-4df0ad7bd40b",
   "metadata": {},
   "outputs": [],
   "source": []
  }
 ],
 "metadata": {
  "kernelspec": {
   "display_name": "Python 3 (ipykernel)",
   "language": "python",
   "name": "python3"
  },
  "language_info": {
   "codemirror_mode": {
    "name": "ipython",
    "version": 3
   },
   "file_extension": ".py",
   "mimetype": "text/x-python",
   "name": "python",
   "nbconvert_exporter": "python",
   "pygments_lexer": "ipython3",
   "version": "3.10.2"
  }
 },
 "nbformat": 4,
 "nbformat_minor": 5
}
