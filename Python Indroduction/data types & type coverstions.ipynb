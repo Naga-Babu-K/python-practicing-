{
 "cells": [
  {
   "cell_type": "code",
   "execution_count": 1,
   "id": "5e259469-2b19-48df-bfbb-5780c4d9b660",
   "metadata": {},
   "outputs": [],
   "source": [
    "width = 17\n",
    "height = 12.0\n",
    "delimeter = \".\""
   ]
  },
  {
   "cell_type": "code",
   "execution_count": 4,
   "id": "3814935e-5d71-4a60-8af4-b0131677ae0c",
   "metadata": {},
   "outputs": [
    {
     "name": "stdout",
     "output_type": "stream",
     "text": [
      "width/2 :  8.5\n"
     ]
    }
   ],
   "source": [
    "print(\"width/2 : \",width/2)"
   ]
  },
  {
   "cell_type": "code",
   "execution_count": null,
   "id": "411bad52-434c-4924-8448-a55345d9d441",
   "metadata": {},
   "outputs": [],
   "source": []
  }
 ],
 "metadata": {
  "kernelspec": {
   "display_name": "Python 3 (ipykernel)",
   "language": "python",
   "name": "python3"
  },
  "language_info": {
   "codemirror_mode": {
    "name": "ipython",
    "version": 3
   },
   "file_extension": ".py",
   "mimetype": "text/x-python",
   "name": "python",
   "nbconvert_exporter": "python",
   "pygments_lexer": "ipython3",
   "version": "3.10.6"
  }
 },
 "nbformat": 4,
 "nbformat_minor": 5
}
