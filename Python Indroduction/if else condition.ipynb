{
 "cells": [
  {
   "cell_type": "markdown",
   "id": "2489722e-0e56-45d5-b173-96fc3f2f45bb",
   "metadata": {},
   "source": [
    "- Python’s if statement allows you to examine the current state of a program and respond appropriately to that state.\n",
    "\n",
    "## Conditional Tests\n",
    "- At the heart of every if statement is an expression that can be evaluated as True or False and is called a conditional test.\n",
    "- Python uses the values True and False to decide whether the code in an if statement should be executed.\n",
    "- If a conditional test evaluates to True, Python executes the code following the if statement.\n",
    "- If the test evaluates to False, Python ignores the code following the if statement."
   ]
  },
  {
   "cell_type": "code",
   "execution_count": 1,
   "id": "1274a431-1db5-4b02-8d89-87c3769d8ff2",
   "metadata": {},
   "outputs": [
    {
     "data": {
      "text/plain": [
       "True"
      ]
     },
     "execution_count": 1,
     "metadata": {},
     "output_type": "execute_result"
    }
   ],
   "source": [
    "college = \"megha\"  \n",
    "college == \"megha\""
   ]
  },
  {
   "cell_type": "code",
   "execution_count": 2,
   "id": "eb0f3dec-a8dd-46d6-b012-bc6919b07d63",
   "metadata": {},
   "outputs": [
    {
     "data": {
      "text/plain": [
       "False"
      ]
     },
     "execution_count": 2,
     "metadata": {},
     "output_type": "execute_result"
    }
   ],
   "source": [
    "college != \"megha\""
   ]
  },
  {
   "cell_type": "markdown",
   "id": "19a135e7-6e1c-40a4-a99c-282c1b712cce",
   "metadata": {},
   "source": [
    "## Python Conditions and If statements\n",
    "- Python supports the usual logical conditions from mathematics:\n",
    "- These conditions can be used in several ways, most commonly in \"if statements\" and loops.\n",
    "\n",
    "- An \"if statement\" is written by using the if keyword."
   ]
  },
  {
   "cell_type": "code",
   "execution_count": 3,
   "id": "1ecb5cac-5936-48c4-a88e-c81a0f5799b5",
   "metadata": {},
   "outputs": [
    {
     "name": "stdout",
     "output_type": "stream",
     "text": [
      "b is greater than a\n"
     ]
    }
   ],
   "source": [
    "a = 33\n",
    "b = 200\n",
    "if b > a:\n",
    "    print(\"b is greater than a\")"
   ]
  },
  {
   "cell_type": "markdown",
   "id": "ea28b761-6944-43df-9f61-9a6625928568",
   "metadata": {},
   "source": [
    "## **Indentation**\n",
    "- Python relies on indentation (whitespace at the beginning of a line) to define scope in the code. Other programming languages often use curly-bracketsfor this purpose."
   ]
  },
  {
   "cell_type": "code",
   "execution_count": 2,
   "id": "8baa3bd2-1ebe-4afe-89f2-10408a6fbeb4",
   "metadata": {},
   "outputs": [
    {
     "ename": "IndentationError",
     "evalue": "expected an indented block after 'if' statement on line 3 (1111622982.py, line 4)",
     "output_type": "error",
     "traceback": [
      "\u001b[1;36m  Cell \u001b[1;32mIn[2], line 4\u001b[1;36m\u001b[0m\n\u001b[1;33m    print(\"b is greater than a\")\u001b[0m\n\u001b[1;37m    ^\u001b[0m\n\u001b[1;31mIndentationError\u001b[0m\u001b[1;31m:\u001b[0m expected an indented block after 'if' statement on line 3\n"
     ]
    }
   ],
   "source": [
    "a = 33\n",
    "b = 200\n",
    "if b > a:\n",
    "print(\"b is greater than a\")"
   ]
  },
  {
   "cell_type": "code",
   "execution_count": null,
   "id": "a852c719-2c79-4e9f-8268-e79d8b2bf34f",
   "metadata": {},
   "outputs": [],
   "source": []
  },
  {
   "cell_type": "markdown",
   "id": "a46a98aa-052f-442a-b902-517f6412e402",
   "metadata": {},
   "source": [
    "## Elif\n",
    "- The elif keyword is Python's way of saying \"if the previous conditions were not true, then try this condition."
   ]
  },
  {
   "cell_type": "code",
   "execution_count": 4,
   "id": "c79725c2-798e-4a8a-a5f9-27dc383c18e0",
   "metadata": {},
   "outputs": [
    {
     "name": "stdout",
     "output_type": "stream",
     "text": [
      "a and b are equal\n"
     ]
    }
   ],
   "source": [
    "a = 33\n",
    "b = 33\n",
    "if b > a:\n",
    "  print(\"b is greater than a\")\n",
    "elif a == b:\n",
    "  print(\"a and b are equal\")\n",
    "# In this example a is equal to b, so the first condition is not true, but the elif condition is true, so we print to screen that \"a and b are equal\"."
   ]
  },
  {
   "cell_type": "markdown",
   "id": "473b14a6-5864-4047-9b52-322531982fc5",
   "metadata": {},
   "source": [
    "## **Else** \n",
    "- The else keyword catches anything which isn't caught by the preceding conditions."
   ]
  },
  {
   "cell_type": "code",
   "execution_count": 5,
   "id": "52febc67-ce74-4fce-8333-f5c8b0be51bc",
   "metadata": {},
   "outputs": [
    {
     "name": "stdout",
     "output_type": "stream",
     "text": [
      "a is greater than b\n"
     ]
    }
   ],
   "source": [
    "a = 200\n",
    "b = 33\n",
    "if b > a:\n",
    "  print(\"b is greater than a\")\n",
    "elif a == b:\n",
    "  print(\"a and b are equal\")\n",
    "else:\n",
    "  print(\"a is greater than b\")"
   ]
  },
  {
   "cell_type": "code",
   "execution_count": 6,
   "id": "ed6a229a-caf1-42da-bacb-6a2aba060564",
   "metadata": {},
   "outputs": [
    {
     "name": "stdout",
     "output_type": "stream",
     "text": [
      "b is not greater than a\n"
     ]
    }
   ],
   "source": [
    "a = 200\n",
    "b = 33\n",
    "if b > a:\n",
    "  print(\"b is greater than a\")\n",
    "else:\n",
    "  print(\"b is not greater than a\")"
   ]
  },
  {
   "cell_type": "code",
   "execution_count": 7,
   "id": "86a2f6f5-90fb-4a64-a500-cc13ef2f4a21",
   "metadata": {},
   "outputs": [
    {
     "name": "stdin",
     "output_type": "stream",
     "text": [
      "enter a num 8\n"
     ]
    },
    {
     "name": "stdout",
     "output_type": "stream",
     "text": [
      "Even\n"
     ]
    }
   ],
   "source": [
    "n = int(input(\"enter a num\"))\n",
    "res = \"Even\" if n % 2 == 0 else \"Odd\"\n",
    "print(res)  "
   ]
  },
  {
   "cell_type": "code",
   "execution_count": 12,
   "id": "a768f667-20d6-43ce-a851-9cc41e2ddad6",
   "metadata": {},
   "outputs": [
    {
     "name": "stdout",
     "output_type": "stream",
     "text": [
      "True\n"
     ]
    }
   ],
   "source": [
    "n = 20\n",
    "print(True if n >= 20 else False)"
   ]
  },
  {
   "cell_type": "code",
   "execution_count": 1,
   "id": "d16baaad-01e0-4e6f-bd90-43c490cb740e",
   "metadata": {},
   "outputs": [
    {
     "name": "stdin",
     "output_type": "stream",
     "text": [
      "Enter year :  2025\n"
     ]
    },
    {
     "name": "stdout",
     "output_type": "stream",
     "text": [
      "not leap year\n"
     ]
    }
   ],
   "source": [
    "n = int(input(\"Enter year : \"))\n",
    "if (n % 4 == 0 or n % 400 == 0) and (n % 100 != 0): \n",
    "    print(\"leap year\")\n",
    "else:\n",
    "    print(\"not leap year\")"
   ]
  },
  {
   "cell_type": "code",
   "execution_count": null,
   "id": "61157bf3-be9f-450f-be84-0ad42db244d2",
   "metadata": {},
   "outputs": [],
   "source": []
  },
  {
   "cell_type": "markdown",
   "id": "b3cd1311-d39e-4653-817d-9d2f78a7fb3c",
   "metadata": {},
   "source": [
    "## **Nested If**\n",
    "- You can have if statements inside if statements, this is called nested if statements.\n"
   ]
  },
  {
   "cell_type": "code",
   "execution_count": 5,
   "id": "1aaa2005-869f-4f45-b70d-5ad5efe75f21",
   "metadata": {},
   "outputs": [
    {
     "name": "stdin",
     "output_type": "stream",
     "text": [
      "Enter a num 5\n"
     ]
    },
    {
     "name": "stdout",
     "output_type": "stream",
     "text": [
      "given num is below 10\n"
     ]
    }
   ],
   "source": [
    "x = int(input(\"Enter a num\"))\n",
    "\n",
    "if x > 10:\n",
    "  print(\"Above ten,\")\n",
    "  if x > 20:\n",
    "    print(\"and also above 20!\")\n",
    "  else:\n",
    "    print(\"but not above 20.\")\n",
    "else:\n",
    "    print(\"given num is below 10\")\n"
   ]
  },
  {
   "cell_type": "code",
   "execution_count": 8,
   "id": "4dff8929-3c93-4182-85e8-33027af92bb2",
   "metadata": {},
   "outputs": [
    {
     "name": "stdin",
     "output_type": "stream",
     "text": [
      "enter a marks 97\n"
     ]
    },
    {
     "name": "stdout",
     "output_type": "stream",
     "text": [
      "Distention\n"
     ]
    }
   ],
   "source": [
    "n = int(input(\"enter a marks\"))\n",
    "if n > 91:\n",
    "    print(\"Distention\")\n",
    "elif n >=75 and n<91:\n",
    "    print(\"first calss\")\n",
    "elif n>=65 and n< 75 :\n",
    "    print(\"Second class\")\n",
    "elif n>=51 and n< 65:\n",
    "    print(\"Third class\")\n",
    "elif n>=47 and n<51:\n",
    "    print(\"Pass\")\n",
    "elif n>=35 and n<47:\n",
    "    print(\"just pass\")\n",
    "else:\n",
    "   print(\"fail\")"
   ]
  },
  {
   "cell_type": "code",
   "execution_count": 10,
   "id": "278762b3-21e5-4b5f-82a6-e35724ac01ea",
   "metadata": {},
   "outputs": [
    {
     "name": "stdin",
     "output_type": "stream",
     "text": [
      "Enter a num 5\n"
     ]
    },
    {
     "name": "stdout",
     "output_type": "stream",
     "text": [
      "odd\n"
     ]
    }
   ],
   "source": [
    "n = int(input(\"Enter a num\"))\n",
    "if n % 2 == 0:\n",
    "    print(\"even\")\n",
    "else:\n",
    "    print(\"odd\")"
   ]
  },
  {
   "cell_type": "code",
   "execution_count": 4,
   "id": "7afe8fd5-9840-4153-8f7a-456c4bda2b69",
   "metadata": {},
   "outputs": [
    {
     "name": "stdin",
     "output_type": "stream",
     "text": [
      "enter a word Abhi\n"
     ]
    },
    {
     "name": "stdout",
     "output_type": "stream",
     "text": [
      "ovel\n"
     ]
    }
   ],
   "source": [
    "n = input(\"enter a word\")\n",
    "if n.lower().startswith((\"a\", \"e\", \"i\", \"o\", \"u\")):\n",
    "    print(\"ovel\")\n",
    "else:\n",
    "    print(\"not ovel\")"
   ]
  },
  {
   "cell_type": "code",
   "execution_count": null,
   "id": "d34c778a-5595-4b11-a7c0-a7fdde71af09",
   "metadata": {},
   "outputs": [],
   "source": []
  },
  {
   "cell_type": "code",
   "execution_count": null,
   "id": "e07cce65-ad58-474a-bab3-33e2f89c178e",
   "metadata": {},
   "outputs": [],
   "source": []
  },
  {
   "cell_type": "code",
   "execution_count": null,
   "id": "e321772e-47e6-4deb-9bc4-3ccabd402fb1",
   "metadata": {},
   "outputs": [],
   "source": []
  }
 ],
 "metadata": {
  "kernelspec": {
   "display_name": "Python 3 (ipykernel)",
   "language": "python",
   "name": "python3"
  },
  "language_info": {
   "codemirror_mode": {
    "name": "ipython",
    "version": 3
   },
   "file_extension": ".py",
   "mimetype": "text/x-python",
   "name": "python",
   "nbconvert_exporter": "python",
   "pygments_lexer": "ipython3",
   "version": "3.10.6"
  }
 },
 "nbformat": 4,
 "nbformat_minor": 5
}
