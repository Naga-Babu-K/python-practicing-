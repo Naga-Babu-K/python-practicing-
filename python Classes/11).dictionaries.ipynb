{
 "cells": [
  {
   "cell_type": "markdown",
   "id": "0dbd1315-d9d8-415e-ab0f-620528912dbe",
   "metadata": {},
   "source": [
    "## Dictionary\n",
    "- Dictionaries are defined byusing  { } flower braces\n",
    "- key, value pair\n",
    "- **key** is like a dictionary word\n",
    "- **value** like dictionary meaning\n",
    "- key, value pairs separated by using : Operator\n",
    "- each pair is separated using comma \",\"\n",
    "\n",
    "- Dictionary keys are case sensitive: the same name but different cases of Key will be treated distinctly.\n",
    "- Keys must be immutable: This means keys can be strings, numbers, or tuples but not lists.\n",
    "- Keys must be unique: Duplicate keys are not allowed and any duplicate key will overwrite the previous value.\n",
    "- Dictionary internally uses Hashing. Hence, operations like search, insert, delete can be performed in Constant Time. "
   ]
  },
  {
   "cell_type": "code",
   "execution_count": null,
   "id": "f549a548-7b97-4b91-9ad3-061af17032b1",
   "metadata": {},
   "outputs": [],
   "source": [
    "[ ] # list brackets [1, 2, 3, 5, 5, 6, ]\n",
    "( ) # tuples\n",
    "{ } # with flower braces we can create  sets and dictionary\n",
    "{ } key : values"
   ]
  },
  {
   "cell_type": "code",
   "execution_count": 2,
   "id": "50851cf6-4928-4b56-b03f-94f65716990b",
   "metadata": {},
   "outputs": [
    {
     "name": "stdout",
     "output_type": "stream",
     "text": [
      "{'name': 'jonny', 'batch': 'Online'}\n"
     ]
    }
   ],
   "source": [
    "di  = { \"name\" : \"jonny\",\n",
    "      \"batch\" : \"Online\"\n",
    "      }\n",
    "print(di)"
   ]
  },
  {
   "cell_type": "code",
   "execution_count": 3,
   "id": "38746a0d-e217-41b2-8fa6-e4f3cdc6f5c1",
   "metadata": {},
   "outputs": [
    {
     "name": "stdout",
     "output_type": "stream",
     "text": [
      "Online\n"
     ]
    }
   ],
   "source": [
    "print(di[\"batch\"])"
   ]
  },
  {
   "cell_type": "code",
   "execution_count": null,
   "id": "72fa153f-3101-4b87-a29a-8fea2b7c1b47",
   "metadata": {},
   "outputs": [],
   "source": [
    "# when we say that dictionaries are ordered. It menas that the items have aa defined order, and theat order will not change\n",
    "# unordered means that the items do not have a defined order, you cannot refer to an item by uing an index"
   ]
  },
  {
   "cell_type": "code",
   "execution_count": null,
   "id": "92fdae7f-8ee5-4221-a193-f4dd7454c265",
   "metadata": {},
   "outputs": [],
   "source": [
    "# Changeable:\n",
    "# dictionaries cannot have two items with  the same key "
   ]
  },
  {
   "cell_type": "code",
   "execution_count": 5,
   "id": "9653fd9b-91c4-4330-befd-f2c9828a5d8d",
   "metadata": {},
   "outputs": [
    {
     "name": "stdout",
     "output_type": "stream",
     "text": [
      "{'name': 'johnny', 'batch': ' Online', 'year': 2025}\n"
     ]
    }
   ],
   "source": [
    "thisdi = { \"name\" : \"johnny\",\n",
    "         \"batch\" : \" Online\",\n",
    "         \"year\": 2024,\n",
    "         \"year\": 2025\n",
    "         }\n",
    "\n",
    "print(thisdi)"
   ]
  },
  {
   "cell_type": "code",
   "execution_count": 6,
   "id": "2fa89211-8ea5-40fa-b48b-d73645e6ee49",
   "metadata": {},
   "outputs": [
    {
     "name": "stdout",
     "output_type": "stream",
     "text": [
      "3\n"
     ]
    }
   ],
   "source": [
    "print(len(thisdi))"
   ]
  },
  {
   "cell_type": "code",
   "execution_count": 7,
   "id": "177c015e-0094-454e-8b77-e9a6c5dc5790",
   "metadata": {},
   "outputs": [
    {
     "name": "stdout",
     "output_type": "stream",
     "text": [
      "{'brand': 'BMW', 'elctiric': False, 'year': 1964, 'colors': ['red', 'white', 'blue']}\n"
     ]
    }
   ],
   "source": [
    "dic = {\"brand\": \"BMW\",\n",
    "      \"elctiric\" : False,\n",
    "      \"year\": 1964,\n",
    "      \"colors\": [\"red\", \"white\", \"blue\"]\n",
    "      } \n",
    "\n",
    "print(dic)"
   ]
  },
  {
   "cell_type": "code",
   "execution_count": 8,
   "id": "9f20e54d-8db3-4446-a4b7-09fc2ebd2d4d",
   "metadata": {},
   "outputs": [
    {
     "name": "stdout",
     "output_type": "stream",
     "text": [
      "<class 'dict'>\n"
     ]
    }
   ],
   "source": [
    "print(type(dic))"
   ]
  },
  {
   "cell_type": "code",
   "execution_count": 9,
   "id": "383e75a2-d77e-4ecf-a586-d8393cff3663",
   "metadata": {},
   "outputs": [
    {
     "name": "stdout",
     "output_type": "stream",
     "text": [
      "{'name': 'jhonny', 'age': 23, 'country': 'india'}\n"
     ]
    }
   ],
   "source": [
    "# a = list(1,23,4,5,67,8) # list(), []\n",
    "# b = tuple(1,2,5,3,6,8,9) # tuple (), ()\n",
    "# dict \n",
    "div = dict( name = \"jhonny\",\n",
    "age = 23,\n",
    "country = \"india\")\n",
    "\n",
    "print(div)"
   ]
  },
  {
   "cell_type": "code",
   "execution_count": 10,
   "id": "ec955a5f-501d-4bb5-8103-938ba6bc2723",
   "metadata": {},
   "outputs": [
    {
     "name": "stdout",
     "output_type": "stream",
     "text": [
      "Online\n"
     ]
    }
   ],
   "source": [
    "print(di[\"batch\"])"
   ]
  },
  {
   "cell_type": "code",
   "execution_count": 13,
   "id": "4ca96870-3950-4780-8939-97610f2e1be5",
   "metadata": {},
   "outputs": [],
   "source": [
    "d = dic.get(\"colors\")"
   ]
  },
  {
   "cell_type": "code",
   "execution_count": 14,
   "id": "1076347a-ca27-4609-a80f-3b6f14b0aaf2",
   "metadata": {},
   "outputs": [
    {
     "data": {
      "text/plain": [
       "['red', 'white', 'blue']"
      ]
     },
     "execution_count": 14,
     "metadata": {},
     "output_type": "execute_result"
    }
   ],
   "source": [
    "d"
   ]
  },
  {
   "cell_type": "code",
   "execution_count": 16,
   "id": "d7599a2d-47c3-4981-82fb-fa9f2b838f2f",
   "metadata": {},
   "outputs": [
    {
     "data": {
      "text/plain": [
       "dict_keys(['brand', 'elctiric', 'year', 'colors'])"
      ]
     },
     "execution_count": 16,
     "metadata": {},
     "output_type": "execute_result"
    }
   ],
   "source": [
    "# the keys() method will return a list of all the keys in the dictionary\n",
    "# the klist of keys is a view of the dictionary, meaning that any changes done to the dicionary will be reflected in the keys list \n",
    "x =dic.keys()\n",
    "x"
   ]
  },
  {
   "cell_type": "markdown",
   "id": "7f0826a1-ca69-4a59-9c4b-7ad1a7a1db56",
   "metadata": {},
   "source": [
    "## changes values\n",
    "- can change the value of a specific item by referring to its key name"
   ]
  },
  {
   "cell_type": "code",
   "execution_count": null,
   "id": "640fad68-80b2-48a4-85ee-8f8172c2a99d",
   "metadata": {},
   "outputs": [],
   "source": [
    "thisdi = { \"name\" : \"johnny\",\n",
    "         \"batch\" : \" Online\",\n",
    "         \"year\": 2024,\n",
    "         \"year\": 2025\n",
    "         }\n",
    "\n",
    "thisdi[\"batch\"]= \"regular\"\n",
    "thisdi"
   ]
  },
  {
   "cell_type": "code",
   "execution_count": 1,
   "id": "b9f9119e-4c0c-471b-a617-a60744f43bf6",
   "metadata": {},
   "outputs": [
    {
     "name": "stdout",
     "output_type": "stream",
     "text": [
      "Help on class dict in module builtins:\n",
      "\n",
      "class dict(object)\n",
      " |  dict() -> new empty dictionary\n",
      " |  dict(mapping) -> new dictionary initialized from a mapping object's\n",
      " |      (key, value) pairs\n",
      " |  dict(iterable) -> new dictionary initialized as if via:\n",
      " |      d = {}\n",
      " |      for k, v in iterable:\n",
      " |          d[k] = v\n",
      " |  dict(**kwargs) -> new dictionary initialized with the name=value pairs\n",
      " |      in the keyword argument list.  For example:  dict(one=1, two=2)\n",
      " |  \n",
      " |  Built-in subclasses:\n",
      " |      StgDict\n",
      " |  \n",
      " |  Methods defined here:\n",
      " |  \n",
      " |  __contains__(self, key, /)\n",
      " |      True if the dictionary has the specified key, else False.\n",
      " |  \n",
      " |  __delitem__(self, key, /)\n",
      " |      Delete self[key].\n",
      " |  \n",
      " |  __eq__(self, value, /)\n",
      " |      Return self==value.\n",
      " |  \n",
      " |  __ge__(self, value, /)\n",
      " |      Return self>=value.\n",
      " |  \n",
      " |  __getattribute__(self, name, /)\n",
      " |      Return getattr(self, name).\n",
      " |  \n",
      " |  __getitem__(...)\n",
      " |      x.__getitem__(y) <==> x[y]\n",
      " |  \n",
      " |  __gt__(self, value, /)\n",
      " |      Return self>value.\n",
      " |  \n",
      " |  __init__(self, /, *args, **kwargs)\n",
      " |      Initialize self.  See help(type(self)) for accurate signature.\n",
      " |  \n",
      " |  __ior__(self, value, /)\n",
      " |      Return self|=value.\n",
      " |  \n",
      " |  __iter__(self, /)\n",
      " |      Implement iter(self).\n",
      " |  \n",
      " |  __le__(self, value, /)\n",
      " |      Return self<=value.\n",
      " |  \n",
      " |  __len__(self, /)\n",
      " |      Return len(self).\n",
      " |  \n",
      " |  __lt__(self, value, /)\n",
      " |      Return self<value.\n",
      " |  \n",
      " |  __ne__(self, value, /)\n",
      " |      Return self!=value.\n",
      " |  \n",
      " |  __or__(self, value, /)\n",
      " |      Return self|value.\n",
      " |  \n",
      " |  __repr__(self, /)\n",
      " |      Return repr(self).\n",
      " |  \n",
      " |  __reversed__(self, /)\n",
      " |      Return a reverse iterator over the dict keys.\n",
      " |  \n",
      " |  __ror__(self, value, /)\n",
      " |      Return value|self.\n",
      " |  \n",
      " |  __setitem__(self, key, value, /)\n",
      " |      Set self[key] to value.\n",
      " |  \n",
      " |  __sizeof__(...)\n",
      " |      D.__sizeof__() -> size of D in memory, in bytes\n",
      " |  \n",
      " |  clear(...)\n",
      " |      D.clear() -> None.  Remove all items from D.\n",
      " |  \n",
      " |  copy(...)\n",
      " |      D.copy() -> a shallow copy of D\n",
      " |  \n",
      " |  get(self, key, default=None, /)\n",
      " |      Return the value for key if key is in the dictionary, else default.\n",
      " |  \n",
      " |  items(...)\n",
      " |      D.items() -> a set-like object providing a view on D's items\n",
      " |  \n",
      " |  keys(...)\n",
      " |      D.keys() -> a set-like object providing a view on D's keys\n",
      " |  \n",
      " |  pop(...)\n",
      " |      D.pop(k[,d]) -> v, remove specified key and return the corresponding value.\n",
      " |      \n",
      " |      If the key is not found, return the default if given; otherwise,\n",
      " |      raise a KeyError.\n",
      " |  \n",
      " |  popitem(self, /)\n",
      " |      Remove and return a (key, value) pair as a 2-tuple.\n",
      " |      \n",
      " |      Pairs are returned in LIFO (last-in, first-out) order.\n",
      " |      Raises KeyError if the dict is empty.\n",
      " |  \n",
      " |  setdefault(self, key, default=None, /)\n",
      " |      Insert key with a value of default if key is not in the dictionary.\n",
      " |      \n",
      " |      Return the value for key if key is in the dictionary, else default.\n",
      " |  \n",
      " |  update(...)\n",
      " |      D.update([E, ]**F) -> None.  Update D from dict/iterable E and F.\n",
      " |      If E is present and has a .keys() method, then does:  for k in E: D[k] = E[k]\n",
      " |      If E is present and lacks a .keys() method, then does:  for k, v in E: D[k] = v\n",
      " |      In either case, this is followed by: for k in F:  D[k] = F[k]\n",
      " |  \n",
      " |  values(...)\n",
      " |      D.values() -> an object providing a view on D's values\n",
      " |  \n",
      " |  ----------------------------------------------------------------------\n",
      " |  Class methods defined here:\n",
      " |  \n",
      " |  __class_getitem__(...) from builtins.type\n",
      " |      See PEP 585\n",
      " |  \n",
      " |  fromkeys(iterable, value=None, /) from builtins.type\n",
      " |      Create a new dictionary with keys from iterable and values set to value.\n",
      " |  \n",
      " |  ----------------------------------------------------------------------\n",
      " |  Static methods defined here:\n",
      " |  \n",
      " |  __new__(*args, **kwargs) from builtins.type\n",
      " |      Create and return a new object.  See help(type) for accurate signature.\n",
      " |  \n",
      " |  ----------------------------------------------------------------------\n",
      " |  Data and other attributes defined here:\n",
      " |  \n",
      " |  __hash__ = None\n",
      "\n"
     ]
    }
   ],
   "source": [
    "help(dict)"
   ]
  },
  {
   "cell_type": "code",
   "execution_count": null,
   "id": "79cf7427-e7af-4466-9317-d02429c1ef76",
   "metadata": {},
   "outputs": [],
   "source": [
    "  "
   ]
  }
 ],
 "metadata": {
  "kernelspec": {
   "display_name": "Python 3 (ipykernel)",
   "language": "python",
   "name": "python3"
  },
  "language_info": {
   "codemirror_mode": {
    "name": "ipython",
    "version": 3
   },
   "file_extension": ".py",
   "mimetype": "text/x-python",
   "name": "python",
   "nbconvert_exporter": "python",
   "pygments_lexer": "ipython3",
   "version": "3.10.6"
  }
 },
 "nbformat": 4,
 "nbformat_minor": 5
}
