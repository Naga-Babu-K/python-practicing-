{
 "cells": [
  {
   "cell_type": "markdown",
   "id": "bdd1a2df-19c4-4a4f-bbc7-1fadcd8401a8",
   "metadata": {},
   "source": [
    "##  what is function?\n",
    "- Function is a group of statements that performs a specific task\n",
    "- A function is a collection of statements grouped together that performs an operation. When you call the random.randint(a, b) function, for example the system actually executes the statements in the function and returns the result.\n"
   ]
  },
  {
   "cell_type": "markdown",
   "id": "089a2c1b-bab0-4147-8019-26a670f19474",
   "metadata": {},
   "source": [
    "##  Advantages of functions:\n",
    "- makes your code more organized and manageable.\n",
    "- Brings reusability thereby avoiding code redundancy.\n"
   ]
  },
  {
   "cell_type": "markdown",
   "id": "41312993-0567-4d45-ba66-2833d7e30054",
   "metadata": {},
   "source": [
    "## Some terminologies/ keywords used in functions\n",
    "\n",
    "- **def** - makes the start of the function header.\n",
    "- **function name** -used to identify the function uniquely. Function naming follows the same checke list whiich we followed for variations.\n",
    "- **Params/ Args** - USed to pass values to a function.Params are optional.\n",
    "- **Colon(:)** - makes the end of teh function header.\n",
    "- **Doc Staring** - A short description  about the function. This is optional.\n",
    "-  **Business logic/Statements** - One more valid python statemetns to perform the requires task\n",
    "-  **return** - This optional. BUt this statement is help you  to return a value from the function\n",
    "-  **print** - To display the value form the  function. This is optional. Either print or return need to be included at the end of the fucntion."
   ]
  },
  {
   "cell_type": "code",
   "execution_count": 2,
   "id": "4038630d-2e3f-4ea7-b808-ee2ce7a2be09",
   "metadata": {},
   "outputs": [],
   "source": [
    "# Positional arguments a, b \n",
    "def addition(a, b):\n",
    "    result = a+b\n",
    "    return result"
   ]
  },
  {
   "cell_type": "code",
   "execution_count": 5,
   "id": "c57b68e5-4aa9-4d3e-9d3f-61cad55c7906",
   "metadata": {},
   "outputs": [
    {
     "data": {
      "text/plain": [
       "9"
      ]
     },
     "execution_count": 5,
     "metadata": {},
     "output_type": "execute_result"
    }
   ],
   "source": [
    "addition(4,5)"
   ]
  },
  {
   "cell_type": "code",
   "execution_count": 17,
   "id": "94bdc141-6477-4993-9278-65062a12db24",
   "metadata": {},
   "outputs": [
    {
     "ename": "SyntaxError",
     "evalue": "non-default argument follows default argument (3384038244.py, line 1)",
     "output_type": "error",
     "traceback": [
      "\u001b[1;36m  Cell \u001b[1;32mIn[17], line 1\u001b[1;36m\u001b[0m\n\u001b[1;33m    def addition(c = 12, d = 25, a, b):\u001b[0m\n\u001b[1;37m                                 ^\u001b[0m\n\u001b[1;31mSyntaxError\u001b[0m\u001b[1;31m:\u001b[0m non-default argument follows default argument\n"
     ]
    }
   ],
   "source": [
    "def addition(a, b, c = 12, d = 25, ):\n",
    "    result = a+b+c+d\n",
    "    return result"
   ]
  },
  {
   "cell_type": "code",
   "execution_count": 16,
   "id": "eb99b0ea-b040-4874-85aa-f3dfe9707127",
   "metadata": {},
   "outputs": [
    {
     "data": {
      "text/plain": [
       "46"
      ]
     },
     "execution_count": 16,
     "metadata": {},
     "output_type": "execute_result"
    }
   ],
   "source": [
    "addition(4, 5)"
   ]
  },
  {
   "cell_type": "code",
   "execution_count": 18,
   "id": "84735816-cd52-4b88-8c4f-200b574a671d",
   "metadata": {},
   "outputs": [],
   "source": [
    "def max(a,b, *args):\n",
    "    s = \n",
    "    return max"
   ]
  },
  {
   "cell_type": "code",
   "execution_count": 19,
   "id": "86524fc1-5863-4424-bc61-05fdfd08de23",
   "metadata": {},
   "outputs": [
    {
     "data": {
      "text/plain": [
       "<function __main__.max(a, b, c, d, e, f, *args)>"
      ]
     },
     "execution_count": 19,
     "metadata": {},
     "output_type": "execute_result"
    }
   ],
   "source": [
    "max(1,2,5,3,6,8,9,7,5)"
   ]
  },
  {
   "cell_type": "code",
   "execution_count": null,
   "id": "02c2045d-dd68-4a3e-8e32-e840e03ead8b",
   "metadata": {},
   "outputs": [],
   "source": []
  },
  {
   "cell_type": "code",
   "execution_count": null,
   "id": "c8dd9c74-35b1-45ff-9363-f2841930979a",
   "metadata": {},
   "outputs": [],
   "source": []
  },
  {
   "cell_type": "markdown",
   "id": "0a7d8d9c-581d-4dfa-9c23-dc747504c4c5",
   "metadata": {},
   "source": [
    "## types of parameters:\n",
    "- Positional arguments\n",
    "- Default arguments ( keyword arguments)\n",
    "- Variable length arguments\n",
    "- Keyword list variable length arguments \n"
   ]
  },
  {
   "cell_type": "markdown",
   "id": "bbc5255a-3ba1-4a06-9192-bc75ac9384a0",
   "metadata": {},
   "source": [
    "## Positional and Keyword Arguments:\n",
    "The power of a function is its ability to work with parameters. When calling a function, you need pass arguments to parameters. these are two kinfs of arguments:Positional arguments and keyword arguments.\n",
    "\n",
    "The Positional arguments requires the arguments be passed in the same order as their respective parameters in the function header. The arguments must match the parameters in order. number, and compatable type, as defined in the function header.\n",
    "\n",
    "You must also call a function using keyword arguments. Passing each arguments in the form **name == value**. The arguments can appear in any order using keyword arguments."
   ]
  },
  {
   "cell_type": "code",
   "execution_count": null,
   "id": "abec8734-e858-4ada-a6ce-70dfce902fd5",
   "metadata": {},
   "outputs": [],
   "source": [
    "##  it must be given in order to call the function\n",
    "## All positional arguments are mandatory for functions\n",
    "## Positional arguments should come first before default, Variance, kwargs etc if any"
   ]
  },
  {
   "cell_type": "code",
   "execution_count": 8,
   "id": "a4e8e4e4-8b3a-4125-ac50-46b758f73449",
   "metadata": {},
   "outputs": [],
   "source": [
    "def max(a,b, c = 10 , d = 15):\n",
    "    if a> b :\n",
    "        print(\"A is greater num then B\")\n",
    "    else:\n",
    "        print(\"B is greater num\")\n",
    "    if c> d:\n",
    "        print(c)\n",
    "        print(\"C ic greater num then D\")\n",
    "    else:\n",
    "        print(d)\n",
    "        print(\"D id greater num then C\")"
   ]
  },
  {
   "cell_type": "code",
   "execution_count": 9,
   "id": "cedda3bb-c30d-4b74-b7e6-7dc8bbc63e99",
   "metadata": {},
   "outputs": [
    {
     "name": "stdout",
     "output_type": "stream",
     "text": [
      "B is greater num\n",
      "15\n",
      "D id greater num then C\n"
     ]
    }
   ],
   "source": [
    "max(5, 10)"
   ]
  },
  {
   "cell_type": "code",
   "execution_count": null,
   "id": "d3614631-2946-472f-84b2-fad3972a4304",
   "metadata": {},
   "outputs": [],
   "source": []
  },
  {
   "cell_type": "code",
   "execution_count": null,
   "id": "4e4d1674-360f-47fd-ad20-2f4b2075aca0",
   "metadata": {},
   "outputs": [],
   "source": []
  },
  {
   "cell_type": "code",
   "execution_count": null,
   "id": "3baecfe6-2434-4c8b-b7d1-72d60503b6d4",
   "metadata": {},
   "outputs": [],
   "source": []
  },
  {
   "cell_type": "markdown",
   "id": "bc815e6a-b466-4ed5-9da4-fe3c2413d31a",
   "metadata": {},
   "source": [
    "## What are Functions?\n",
    "- Functions are a convenient way to divide your code into useful blocks, allowing us to order our code, make it more readable, reuse it and save some time.\n",
    "- Also functions are a key way to define interfaces so programmers can share their code."
   ]
  },
  {
   "cell_type": "markdown",
   "id": "458ba608-1235-46d7-8e79-873a19e33a0c",
   "metadata": {},
   "source": [
    "## How do you write functions in Python?\n",
    "- As we have seen on previous tutorials, Python makes use of blocks.\n",
    "- Where a block line is more Python code (even another block), and the block head is of the following format: block_keyword\n",
    "- block_name(argument1,argument2, ...) Block keywords you already know are \"if\", \"for\", and \"while\".\n",
    "- Functions in python are defined using the block keyword \"def\", followed with the function's name as the block's name. For example:"
   ]
  },
  {
   "cell_type": "code",
   "execution_count": 37,
   "id": "1c65b7d1-75a6-472e-ac2e-3f34f80f267d",
   "metadata": {},
   "outputs": [],
   "source": [
    "def sum(a):\n",
    "    s = a+ b\n",
    "    return s\n",
    "\n",
    "#a = int(input(\"Enter a num1:\"))\n",
    "#b = int(input(\"ener a num2:\"))\n",
    "#sum(a, b)"
   ]
  },
  {
   "cell_type": "code",
   "execution_count": 18,
   "id": "422eaf33-6d74-4909-a7e7-4ea3db6aba03",
   "metadata": {},
   "outputs": [
    {
     "name": "stdout",
     "output_type": "stream",
     "text": [
      "<function sum at 0x000002A6757684C0>\n"
     ]
    }
   ],
   "source": [
    "print(sum(a, b))"
   ]
  },
  {
   "cell_type": "code",
   "execution_count": null,
   "id": "2cacb6ef-0d0f-46cd-bee2-3e556b408ca9",
   "metadata": {},
   "outputs": [],
   "source": []
  },
  {
   "cell_type": "code",
   "execution_count": 34,
   "id": "d2deffd7-586a-4e78-b0d1-d821e0b937ed",
   "metadata": {},
   "outputs": [
    {
     "ename": "TypeError",
     "evalue": "unsupported operand type(s) for +: 'int' and 'tuple'",
     "output_type": "error",
     "traceback": [
      "\u001b[1;31m---------------------------------------------------------------------------\u001b[0m",
      "\u001b[1;31mTypeError\u001b[0m                                 Traceback (most recent call last)",
      "Cell \u001b[1;32mIn[34], line 1\u001b[0m\n\u001b[1;32m----> 1\u001b[0m \u001b[38;5;28;43msum\u001b[39;49m\u001b[43m(\u001b[49m\u001b[38;5;241;43m63\u001b[39;49m\u001b[43m,\u001b[49m\u001b[43m \u001b[49m\u001b[38;5;241;43m20\u001b[39;49m\u001b[43m,\u001b[49m\u001b[43m \u001b[49m\u001b[38;5;241;43m25\u001b[39;49m\u001b[43m)\u001b[49m\n",
      "Cell \u001b[1;32mIn[33], line 2\u001b[0m, in \u001b[0;36msum\u001b[1;34m(a, *b)\u001b[0m\n\u001b[0;32m      1\u001b[0m \u001b[38;5;28;01mdef\u001b[39;00m \u001b[38;5;21msum\u001b[39m(a, \u001b[38;5;241m*\u001b[39mb):\n\u001b[1;32m----> 2\u001b[0m     s \u001b[38;5;241m=\u001b[39m \u001b[43ma\u001b[49m\u001b[38;5;241;43m+\u001b[39;49m\u001b[43m \u001b[49m\u001b[43mb\u001b[49m\n\u001b[0;32m      3\u001b[0m     \u001b[38;5;28;01mreturn\u001b[39;00m s\n",
      "\u001b[1;31mTypeError\u001b[0m: unsupported operand type(s) for +: 'int' and 'tuple'"
     ]
    }
   ],
   "source": [
    "sum(63, 20, 25)"
   ]
  },
  {
   "cell_type": "code",
   "execution_count": null,
   "id": "bd98424a-c963-4a83-80d7-164f4ab74750",
   "metadata": {},
   "outputs": [],
   "source": []
  },
  {
   "cell_type": "code",
   "execution_count": null,
   "id": "f09d8855-6c46-44d6-9bc0-60529c97deeb",
   "metadata": {},
   "outputs": [],
   "source": []
  },
  {
   "cell_type": "code",
   "execution_count": 20,
   "id": "3272ef82-6c7a-4971-a6c5-9e4b51ed059b",
   "metadata": {},
   "outputs": [
    {
     "name": "stdout",
     "output_type": "stream",
     "text": [
      "25\n"
     ]
    }
   ],
   "source": [
    "sum(a, b)"
   ]
  },
  {
   "cell_type": "code",
   "execution_count": null,
   "id": "1820a616-a532-4ff6-8e94-32a231a3ddc0",
   "metadata": {},
   "outputs": [],
   "source": [
    "def # is keyword \n",
    "function name # methon method\n",
    "(arguments )"
   ]
  },
  {
   "cell_type": "markdown",
   "id": "e9ecbea2-e145-474a-80aa-b9991ca97f16",
   "metadata": {},
   "source": [
    "## Arguments\n",
    "- Information can be passed into functions as arguments.\n",
    "- Arguments are specified after the function name, inside the parentheses.\n",
    "- You can add as many arguments as you want, just separate them with a comma.\n",
    "\n",
    "## Arbitrary Arguments, *args\n",
    "- If you do not know how many arguments that will be passed into your function, add a * before the parameter name in the function definition.\n",
    "\n",
    "## Keyword Arguments\n",
    "- You can also send arguments with the key = value syntax.\n",
    "- This way the order of the arguments does not matter."
   ]
  },
  {
   "cell_type": "code",
   "execution_count": 38,
   "id": "f69305c5-bcc2-442a-b96b-9609c6e0d451",
   "metadata": {},
   "outputs": [
    {
     "name": "stdout",
     "output_type": "stream",
     "text": [
      "The youngest child is Linus\n"
     ]
    }
   ],
   "source": [
    "def my_function(child3, child2, child1):\n",
    "  print(\"The youngest child is \" + child3)\n",
    "\n",
    "my_function(child1 = \"Emil\", child2 = \"Tobias\", child3 = \"Linus\")"
   ]
  },
  {
   "cell_type": "code",
   "execution_count": 39,
   "id": "5e91f7af-de1b-4c3d-93a6-c585ec01ca63",
   "metadata": {},
   "outputs": [
    {
     "name": "stdout",
     "output_type": "stream",
     "text": [
      "The youngest child is erik\n"
     ]
    }
   ],
   "source": [
    "my_function(\"erik\", \"raju\", \"pavan\")"
   ]
  },
  {
   "cell_type": "markdown",
   "id": "6808777e-e356-4358-822f-0ecb9bb1b0fc",
   "metadata": {},
   "source": [
    "## Arbitrary Keyword Arguments, **kwargs\n",
    "- If you do not know how many keyword arguments that will be passed into your function, add two asterisk: ** before the parameter name in the function definition."
   ]
  },
  {
   "cell_type": "markdown",
   "id": "8f32720f-c72e-4b27-b511-8e93cfeaa3ef",
   "metadata": {},
   "source": [
    "## Default Parameter Value\n",
    "- The following example shows how to use a default parameter value.\n",
    "- If we call the function without argument, it uses the default value:"
   ]
  },
  {
   "cell_type": "code",
   "execution_count": 43,
   "id": "a5c5fa13-267c-4684-a317-302ccfd69c1e",
   "metadata": {},
   "outputs": [],
   "source": [
    "def my_function(country = \"Norway\"):\n",
    "    return \"I am from \" + country\n"
   ]
  },
  {
   "cell_type": "code",
   "execution_count": 44,
   "id": "15a74f0f-b471-4601-ba84-26cbcb165120",
   "metadata": {},
   "outputs": [
    {
     "data": {
      "text/plain": [
       "'I am from India'"
      ]
     },
     "execution_count": 44,
     "metadata": {},
     "output_type": "execute_result"
    }
   ],
   "source": [
    "my_function(\"India\")"
   ]
  },
  {
   "cell_type": "code",
   "execution_count": 2,
   "id": "5f30204f-beec-4f96-828e-2fdfee3234cd",
   "metadata": {},
   "outputs": [],
   "source": [
    "def max(a, b, c = 10, d = 20, ):\n",
    "    print(a)\n",
    "    print(b)\n",
    "    print(c)\n",
    "    print(d)"
   ]
  },
  {
   "cell_type": "code",
   "execution_count": 4,
   "id": "75c3ed54-d2f3-4a42-b649-1eb4382d9962",
   "metadata": {},
   "outputs": [
    {
     "name": "stdout",
     "output_type": "stream",
     "text": [
      "5\n",
      "8\n",
      "10\n",
      "20\n"
     ]
    },
    {
     "ename": "NameError",
     "evalue": "name 'args' is not defined",
     "output_type": "error",
     "traceback": [
      "\u001b[1;31m---------------------------------------------------------------------------\u001b[0m",
      "\u001b[1;31mNameError\u001b[0m                                 Traceback (most recent call last)",
      "Cell \u001b[1;32mIn[4], line 1\u001b[0m\n\u001b[1;32m----> 1\u001b[0m \u001b[38;5;28;43mmax\u001b[39;49m\u001b[43m(\u001b[49m\u001b[38;5;241;43m5\u001b[39;49m\u001b[43m,\u001b[49m\u001b[38;5;241;43m8\u001b[39;49m\u001b[43m)\u001b[49m\n",
      "Cell \u001b[1;32mIn[2], line 6\u001b[0m, in \u001b[0;36mmax\u001b[1;34m(a, b, c, d)\u001b[0m\n\u001b[0;32m      4\u001b[0m \u001b[38;5;28mprint\u001b[39m(c)\n\u001b[0;32m      5\u001b[0m \u001b[38;5;28mprint\u001b[39m(d)\n\u001b[1;32m----> 6\u001b[0m \u001b[38;5;28mprint\u001b[39m(\u001b[43margs\u001b[49m)\n",
      "\u001b[1;31mNameError\u001b[0m: name 'args' is not defined"
     ]
    }
   ],
   "source": [
    "max(5,8)"
   ]
  },
  {
   "cell_type": "code",
   "execution_count": 5,
   "id": "92bff6d4-f67d-4556-8ab0-e670013f9418",
   "metadata": {},
   "outputs": [],
   "source": [
    "def max(a, b, c = 10, d = 20, *args):\n",
    "    print(a)\n",
    "    print(b)\n",
    "    print(c)\n",
    "    print(d)\n",
    "    print(args)"
   ]
  },
  {
   "cell_type": "code",
   "execution_count": 7,
   "id": "385c3b82-e9c6-455e-91b4-a5fe4ce8d83d",
   "metadata": {},
   "outputs": [
    {
     "name": "stdout",
     "output_type": "stream",
     "text": [
      "10\n",
      "20\n",
      "10\n",
      "20\n",
      "()\n",
      "10\n",
      "20\n",
      "30\n",
      "40\n",
      "()\n",
      "10\n",
      "20\n",
      "30\n",
      "42\n",
      "()\n",
      "10\n",
      "20\n",
      "30\n",
      "50\n",
      "()\n"
     ]
    }
   ],
   "source": [
    "max(10, 20)\n",
    "max(10, 20, 30, 40)\n",
    "max(10, 20, c = 30, d = 42)\n",
    "max(10, 20, d = 50, c = 30)"
   ]
  },
  {
   "cell_type": "code",
   "execution_count": 1,
   "id": "e241f820-4b5b-42ad-82a9-ade7bfb0b318",
   "metadata": {},
   "outputs": [
    {
     "name": "stdout",
     "output_type": "stream",
     "text": [
      "25\n"
     ]
    }
   ],
   "source": [
    "def sum(a,b):\n",
    "    s = a + b\n",
    "    return s\n",
    "\n",
    "a  = 10\n",
    "b = 15\n",
    "print(sum(a, b))"
   ]
  },
  {
   "cell_type": "code",
   "execution_count": null,
   "id": "ec394aac-b78f-4f2a-89bd-26f197666798",
   "metadata": {},
   "outputs": [],
   "source": [
    "#  Defined in function using *variable_name\n",
    "# By default it will take tuple as data type by including are parameters elements\n",
    "# Variable length params should come after Default or Positional arguments."
   ]
  },
  {
   "cell_type": "code",
   "execution_count": null,
   "id": "46430f8c-26e9-4b7d-8b5e-ff40e1d0696e",
   "metadata": {},
   "outputs": [],
   "source": [
    "## Positional --> VAriable length\n",
    "## Default --> Variable length"
   ]
  },
  {
   "cell_type": "code",
   "execution_count": 20,
   "id": "a07ee104-7e0d-490a-a840-d21f8ea45cf3",
   "metadata": {},
   "outputs": [],
   "source": [
    "def max1(a, b, c,d, *args):\n",
    "    print(a)\n",
    "    print(b)\n",
    "    print(c)\n",
    "    print(d)\n",
    "    print(args)"
   ]
  },
  {
   "cell_type": "code",
   "execution_count": 21,
   "id": "8d00259e-b8ab-4d96-8b33-3bdf5755ea86",
   "metadata": {},
   "outputs": [
    {
     "name": "stdout",
     "output_type": "stream",
     "text": [
      "1\n",
      "2\n",
      "3\n",
      "4\n",
      "(5, 6, 7, 8, 9, 15, 125)\n"
     ]
    }
   ],
   "source": [
    "max1(1,2,3,4,5,6,7,8,9, 15,125)"
   ]
  },
  {
   "cell_type": "code",
   "execution_count": 8,
   "id": "e5d6149e-d94d-429d-9180-87086c0b09cc",
   "metadata": {},
   "outputs": [
    {
     "ename": "SyntaxError",
     "evalue": "invalid syntax (1921297791.py, line 1)",
     "output_type": "error",
     "traceback": [
      "\u001b[1;36m  Cell \u001b[1;32mIn[8], line 1\u001b[1;36m\u001b[0m\n\u001b[1;33m    Positional -->\u001b[0m\n\u001b[1;37m                ^\u001b[0m\n\u001b[1;31mSyntaxError\u001b[0m\u001b[1;31m:\u001b[0m invalid syntax\n"
     ]
    }
   ],
   "source": [
    "Positional --> Default -- > Variable length"
   ]
  },
  {
   "cell_type": "markdown",
   "id": "e7407a02-2011-4c17-947c-99a80015ec76",
   "metadata": {},
   "source": [
    "## The Scope of variables\n",
    "- The scope of variable is the part of the program where the variable can referenced. A Variable created inside a function is refered to as a local variable. Local variables can only be accessed within a function. The scope of a local variable starts from its cration and continues to the end of the function that contains the Variable.\n",
    "\n",
    "- In python, you can also use global variables. They are created outside all functions and are accessible to all functions in their scope.\n",
    "\n",
    "- "
   ]
  },
  {
   "cell_type": "code",
   "execution_count": 12,
   "id": "0b47ca6a-1a71-4363-8bef-bae6f60d3b0b",
   "metadata": {},
   "outputs": [
    {
     "name": "stdout",
     "output_type": "stream",
     "text": [
      "4\n"
     ]
    },
    {
     "ename": "NameError",
     "evalue": "name 'd' is not defined",
     "output_type": "error",
     "traceback": [
      "\u001b[1;31m---------------------------------------------------------------------------\u001b[0m",
      "\u001b[1;31mNameError\u001b[0m                                 Traceback (most recent call last)",
      "Cell \u001b[1;32mIn[12], line 6\u001b[0m\n\u001b[0;32m      4\u001b[0m     \u001b[38;5;28mprint\u001b[39m(a\u001b[38;5;241m+\u001b[39mb\u001b[38;5;241m+\u001b[39mc\u001b[38;5;241m+\u001b[39md)\n\u001b[0;32m      5\u001b[0m fact1(\u001b[38;5;241m0\u001b[39m,\u001b[38;5;241m1\u001b[39m,\u001b[38;5;241m2\u001b[39m)\n\u001b[1;32m----> 6\u001b[0m \u001b[38;5;28mprint\u001b[39m(\u001b[43md\u001b[49m)\n",
      "\u001b[1;31mNameError\u001b[0m: name 'd' is not defined"
     ]
    }
   ],
   "source": [
    "# Any Variables decleared in function, those variables are valid till the end of function.\n",
    "def fact1(a,b,c):\n",
    "    d = 1\n",
    "    print(a+b+c+d)\n",
    "fact1(0,1,2)\n",
    "print(d)\n",
    "    "
   ]
  },
  {
   "cell_type": "code",
   "execution_count": 22,
   "id": "5d34f9b4-85e9-405c-8ed8-d6271b130322",
   "metadata": {},
   "outputs": [],
   "source": [
    "def msg():\n",
    "    \"\"\" Doc string here i need to print the ,message\"\"\"\n",
    "    return \"hii Im from online batch\""
   ]
  },
  {
   "cell_type": "code",
   "execution_count": 23,
   "id": "61459b34-72bb-4d3d-a351-d3b7eeaa7448",
   "metadata": {},
   "outputs": [
    {
     "data": {
      "text/plain": [
       "'hii Im from online batch'"
      ]
     },
     "execution_count": 23,
     "metadata": {},
     "output_type": "execute_result"
    }
   ],
   "source": [
    "msg()"
   ]
  },
  {
   "cell_type": "code",
   "execution_count": 24,
   "id": "a451608d-64e4-43ee-a3a5-cab11148513e",
   "metadata": {},
   "outputs": [
    {
     "name": "stdout",
     "output_type": "stream",
     "text": [
      "5\n"
     ]
    }
   ],
   "source": [
    "def my_func(*, x):\n",
    "    print(x)\n",
    "\n",
    "my_func(x = 5)"
   ]
  },
  {
   "cell_type": "markdown",
   "id": "f9174a05-04c8-4e75-8438-81a5a09dd96a",
   "metadata": {},
   "source": [
    "Recursion function:\n",
    "# which means a defined function can call itself\n",
    "- Recussion is common mathematical and Programming concept. It means that a function call itself. This has the benfit of  meaning that you can lopp through data to reach a result."
   ]
  },
  {
   "cell_type": "code",
   "execution_count": 25,
   "id": "4ac9082f-039b-4a4f-a03d-71351aaa12ea",
   "metadata": {},
   "outputs": [
    {
     "name": "stdout",
     "output_type": "stream",
     "text": [
      "720\n"
     ]
    }
   ],
   "source": [
    "def factorial(n):\n",
    "    if n ==0 or n ==1:\n",
    "        return 1\n",
    "    return n *factorial(n-1)\n",
    "\n",
    "print(factorial(6))"
   ]
  },
  {
   "cell_type": "code",
   "execution_count": 27,
   "id": "de9a3b85-c7f9-4b58-b74d-9b87192ebee5",
   "metadata": {},
   "outputs": [
    {
     "name": "stdout",
     "output_type": "stream",
     "text": [
      "36\n"
     ]
    }
   ],
   "source": [
    "def sum_n(n):\n",
    "    if n ==0:\n",
    "        return 0\n",
    "    return n +sum_n(n-1)\n",
    "\n",
    "print(sum_n(8))"
   ]
  },
  {
   "cell_type": "code",
   "execution_count": 30,
   "id": "1d773e55-2635-464d-af63-8f0347b60a2d",
   "metadata": {},
   "outputs": [
    {
     "name": "stdin",
     "output_type": "stream",
     "text": [
      " 5\n"
     ]
    }
   ],
   "source": [
    "\n",
    "def greater_num(n):\n",
    "    if n>15:\n",
    "        print( True\n",
    "    else:\n",
    "        return False"
   ]
  },
  {
   "cell_type": "code",
   "execution_count": 32,
   "id": "3fa950fb-2594-40c5-8e51-e9a044ebe7e2",
   "metadata": {},
   "outputs": [
    {
     "name": "stdout",
     "output_type": "stream",
     "text": [
      "python  is easy coding language\n"
     ]
    }
   ],
   "source": [
    "x = \"python\"\n",
    "def my_fun():\n",
    "    print(x, \" is easy coding language\")\n",
    "\n",
    "my_fun()"
   ]
  },
  {
   "cell_type": "code",
   "execution_count": 33,
   "id": "a9b185e5-9a15-4855-a63a-bb1e0af0e79f",
   "metadata": {},
   "outputs": [
    {
     "name": "stdout",
     "output_type": "stream",
     "text": [
      "Excellent   programing language is python\n",
      "python my fav programing language\n"
     ]
    }
   ],
   "source": [
    "x = \"python\"\n",
    "def my_fun():\n",
    "\n",
    "    x = \"Excellent \"\n",
    "    print(x, \" programing language is python\")\n",
    "\n",
    "my_fun()\n",
    "print(x, \"my fav programing language\")"
   ]
  },
  {
   "cell_type": "code",
   "execution_count": 36,
   "id": "3f1a5b23-513e-4308-9425-8796ac3a8a71",
   "metadata": {},
   "outputs": [
    {
     "name": "stdout",
     "output_type": "stream",
     "text": [
      "python is  Awesome\n"
     ]
    }
   ],
   "source": [
    "print(\"python is \", x)\n",
    "\n",
    "def my_fun():\n",
    "    global x\n",
    "    x = \"Awesome\"\n",
    "\n",
    "\n",
    "my_fun()\n"
   ]
  },
  {
   "cell_type": "code",
   "execution_count": null,
   "id": "a7521e30-1e5e-4930-a0f8-f4f2000f3815",
   "metadata": {},
   "outputs": [],
   "source": []
  }
 ],
 "metadata": {
  "kernelspec": {
   "display_name": "Python 3 (ipykernel)",
   "language": "python",
   "name": "python3"
  },
  "language_info": {
   "codemirror_mode": {
    "name": "ipython",
    "version": 3
   },
   "file_extension": ".py",
   "mimetype": "text/x-python",
   "name": "python",
   "nbconvert_exporter": "python",
   "pygments_lexer": "ipython3",
   "version": "3.10.6"
  }
 },
 "nbformat": 4,
 "nbformat_minor": 5
}
