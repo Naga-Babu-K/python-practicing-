{
 "cells": [
  {
   "cell_type": "markdown",
   "id": "9610bef7-2d9d-437e-96d6-12a93c0aadbf",
   "metadata": {},
   "source": [
    "## **Numbers**\n",
    "\n",
    "- Python treats numbers in several different ways, depending on how they’re being used.\n",
    "- Python manages integers, because they’re the simplest to work with\n",
    "- Let’s first look at how Python manages integers, because they’re the simplest to work with."
   ]
  },
  {
   "cell_type": "markdown",
   "id": "6996c3a9-7764-4a8c-86af-2cef82ae5f91",
   "metadata": {},
   "source": [
    "## Integers\n",
    "\n",
    "You can add (+), subtract (-), multiply (*), and divide (/) integers in Python.\n"
   ]
  },
  {
   "cell_type": "code",
   "execution_count": 1,
   "id": "bc0f78d4-8807-4bf3-a2ef-7715efd447f8",
   "metadata": {},
   "outputs": [
    {
     "data": {
      "text/plain": [
       "7"
      ]
     },
     "execution_count": 1,
     "metadata": {},
     "output_type": "execute_result"
    }
   ],
   "source": [
    "2 + 5"
   ]
  },
  {
   "cell_type": "code",
   "execution_count": 2,
   "id": "abd4806c-3af8-4910-acb5-45881d3573b9",
   "metadata": {},
   "outputs": [
    {
     "data": {
      "text/plain": [
       "47"
      ]
     },
     "execution_count": 2,
     "metadata": {},
     "output_type": "execute_result"
    }
   ],
   "source": [
    "53-6"
   ]
  },
  {
   "cell_type": "code",
   "execution_count": 3,
   "id": "4ac3a04a-60f5-49da-a65d-de9586809892",
   "metadata": {},
   "outputs": [
    {
     "data": {
      "text/plain": [
       "5.0"
      ]
     },
     "execution_count": 3,
     "metadata": {},
     "output_type": "execute_result"
    }
   ],
   "source": [
    " 10/ 2 "
   ]
  },
  {
   "cell_type": "code",
   "execution_count": 10,
   "id": "cabf0797-b81f-4ec3-84b9-c8841e32b978",
   "metadata": {},
   "outputs": [
    {
     "name": "stdout",
     "output_type": "stream",
     "text": [
      "0b11001\n"
     ]
    }
   ],
   "source": [
    "print(bin(25))"
   ]
  },
  {
   "cell_type": "code",
   "execution_count": 13,
   "id": "fdb143dc-b58b-46b4-8a2d-fcd64247ca4c",
   "metadata": {},
   "outputs": [
    {
     "data": {
      "text/plain": [
       "'0b1100001'"
      ]
     },
     "execution_count": 13,
     "metadata": {},
     "output_type": "execute_result"
    }
   ],
   "source": [
    "bin(ord(\"a\"))"
   ]
  },
  {
   "cell_type": "markdown",
   "id": "dfa6e368-092b-4604-af80-30742e01cc21",
   "metadata": {},
   "source": [
    "## float\n",
    "\n",
    "- Python calls any number with a decimal point a float.\n",
    "- so numbers behave appropriately, no matter where the decimal point appears.\n"
   ]
  },
  {
   "cell_type": "code",
   "execution_count": 5,
   "id": "633f180d-0d79-4611-9038-b870977028e8",
   "metadata": {},
   "outputs": [
    {
     "data": {
      "text/plain": [
       "0.2"
      ]
     },
     "execution_count": 5,
     "metadata": {},
     "output_type": "execute_result"
    }
   ],
   "source": [
    "0.1 + 0.1"
   ]
  },
  {
   "cell_type": "code",
   "execution_count": 6,
   "id": "5d228942-ee1f-4264-9919-8c5ad6923e22",
   "metadata": {},
   "outputs": [
    {
     "data": {
      "text/plain": [
       "4.0"
      ]
     },
     "execution_count": 6,
     "metadata": {},
     "output_type": "execute_result"
    }
   ],
   "source": [
    "2.0+2.0"
   ]
  },
  {
   "cell_type": "code",
   "execution_count": 7,
   "id": "6b4a5ddf-8764-4196-bd27-4893de6a7f57",
   "metadata": {},
   "outputs": [
    {
     "data": {
      "text/plain": [
       "7.5"
      ]
     },
     "execution_count": 7,
     "metadata": {},
     "output_type": "execute_result"
    }
   ],
   "source": [
    "2 + 5.5"
   ]
  },
  {
   "cell_type": "code",
   "execution_count": 8,
   "id": "aa06bb7c-0e58-43ed-8814-4fa448f92959",
   "metadata": {},
   "outputs": [
    {
     "data": {
      "text/plain": [
       "10.4"
      ]
     },
     "execution_count": 8,
     "metadata": {},
     "output_type": "execute_result"
    }
   ],
   "source": [
    "5.2*2 # When we multiply \"integers\" and \"floating num\" the output is \"floating num\""
   ]
  },
  {
   "cell_type": "code",
   "execution_count": 14,
   "id": "4d6fbe69-fd92-49c3-8d3f-16bc30d6ec69",
   "metadata": {},
   "outputs": [
    {
     "data": {
      "text/plain": [
       "'0b110111'"
      ]
     },
     "execution_count": 14,
     "metadata": {},
     "output_type": "execute_result"
    }
   ],
   "source": [
    "bin(55)"
   ]
  },
  {
   "cell_type": "markdown",
   "id": "030e1f5b-205b-4a83-9aa5-33a54153c4a2",
   "metadata": {},
   "source": [
    "## **Integers and Floats**\n",
    "- When you divide any two numbers, even if they are integers that result in a\n",
    "whole number, you’ll always get a float:\n",
    "- If you mix an integer and a float in any other operation, you’ll get a float as\n",
    "well:"
   ]
  },
  {
   "cell_type": "code",
   "execution_count": 15,
   "id": "2edaadd9-5c03-456e-8191-b6d8cbb3804b",
   "metadata": {},
   "outputs": [
    {
     "data": {
      "text/plain": [
       "7.0"
      ]
     },
     "execution_count": 15,
     "metadata": {},
     "output_type": "execute_result"
    }
   ],
   "source": [
    "5 + 2.0"
   ]
  },
  {
   "cell_type": "code",
   "execution_count": 16,
   "id": "863d3221-8145-4b88-a3c2-04d0ddea64de",
   "metadata": {},
   "outputs": [
    {
     "data": {
      "text/plain": [
       "9.0"
      ]
     },
     "execution_count": 16,
     "metadata": {},
     "output_type": "execute_result"
    }
   ],
   "source": [
    "3 * 3.0"
   ]
  },
  {
   "cell_type": "code",
   "execution_count": 18,
   "id": "a875afe6-ee89-4a3f-a26a-e5060c83791b",
   "metadata": {},
   "outputs": [
    {
     "data": {
      "text/plain": [
       "9.0"
      ]
     },
     "execution_count": 18,
     "metadata": {},
     "output_type": "execute_result"
    }
   ],
   "source": [
    "3.0 ** 2"
   ]
  },
  {
   "cell_type": "code",
   "execution_count": null,
   "id": "6892f748-7dec-4c2b-a685-3768a582ced1",
   "metadata": {},
   "outputs": [],
   "source": []
  }
 ],
 "metadata": {
  "kernelspec": {
   "display_name": "Python 3 (ipykernel)",
   "language": "python",
   "name": "python3"
  },
  "language_info": {
   "codemirror_mode": {
    "name": "ipython",
    "version": 3
   },
   "file_extension": ".py",
   "mimetype": "text/x-python",
   "name": "python",
   "nbconvert_exporter": "python",
   "pygments_lexer": "ipython3",
   "version": "3.10.6"
  }
 },
 "nbformat": 4,
 "nbformat_minor": 5
}
