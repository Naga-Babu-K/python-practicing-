{
 "cells": [
  {
   "cell_type": "markdown",
   "id": "c13829ff-bf39-443a-bf6c-7abb4f1ca601",
   "metadata": {},
   "source": [
    "### In Python, variables are created when you assign a value to it"
   ]
  },
  {
   "cell_type": "code",
   "execution_count": 2,
   "id": "e64d057f-dc63-4820-a9d4-478fc6a828b9",
   "metadata": {},
   "outputs": [],
   "source": [
    "# Here 5 is the value\n",
    "# \"a\" is variable \n",
    "# \"=\" is the assignment operator\n",
    "a = 5 # here \"5\" is stored in variable \"a\".\n"
   ]
  },
  {
   "cell_type": "code",
   "execution_count": 4,
   "id": "ed063251-9d08-4989-ab86-b06e546c2aa0",
   "metadata": {},
   "outputs": [
    {
     "data": {
      "text/plain": [
       "'Print'"
      ]
     },
     "execution_count": 4,
     "metadata": {},
     "output_type": "execute_result"
    }
   ],
   "source": [
    "# here diffrent names are avilable for object \"variable_name\", \"feature_name\", \"object_\", \"column_name\"\n",
    "a = \"rint\" \n",
    "a"
   ]
  },
  {
   "cell_type": "markdown",
   "id": "5b34d871-ac46-4bd5-ae9f-ea5126fd149c",
   "metadata": {},
   "source": [
    "## **Variable Names**"
   ]
  },
  {
   "cell_type": "markdown",
   "id": "0c33b412-dda7-4db0-ab61-4bbde10e29bf",
   "metadata": {},
   "source": [
    "A variable can have a short name (like x and y) or a more descriptive name (age, carname, total_volume). Rules for Python variables:\n",
    "\n",
    "- A variable name must start with a letter or the underscore character\n",
    "- A variable name cannot start with a number\n",
    "- A variable name can only contain alpha-numeric characters and underscores (A-z, 0-9, and _ )\n",
    "- Variable names are case-sensitive (age, Age and AGE are three different variables)\n",
    "- A variable name cannot be any of the Python keywords.\n"
   ]
  },
  {
   "cell_type": "code",
   "execution_count": 12,
   "id": "ff477e92-baa5-48a0-8f20-b82eafda8cc5",
   "metadata": {},
   "outputs": [
    {
     "name": "stdout",
     "output_type": "stream",
     "text": [
      "25\n"
     ]
    }
   ],
   "source": [
    "a = 10\n",
    "B = 15\n",
    "print(a+ B)"
   ]
  },
  {
   "cell_type": "code",
   "execution_count": 15,
   "id": "f93bc5be-8ce7-49e0-9ae8-13a0f18dfb03",
   "metadata": {},
   "outputs": [],
   "source": [
    "myvar = \"name\"\n",
    "my_var = \"name\"\n",
    "_my_var = \"name\"\n",
    "myVar = \"name\"\n",
    "MYVAR = \"name\"\n",
    "myvar2 = \"naga\""
   ]
  },
  {
   "cell_type": "code",
   "execution_count": 16,
   "id": "010af4c1-fbf6-4f22-8c04-a6dbcd0f1c06",
   "metadata": {},
   "outputs": [
    {
     "data": {
      "text/plain": [
       "'naga'"
      ]
     },
     "execution_count": 16,
     "metadata": {},
     "output_type": "execute_result"
    }
   ],
   "source": [
    "myvar2"
   ]
  },
  {
   "cell_type": "code",
   "execution_count": 2,
   "id": "29d06b87-a356-40d9-84eb-87966f9dbc1e",
   "metadata": {},
   "outputs": [
    {
     "ename": "SyntaxError",
     "evalue": "invalid decimal literal (4088156526.py, line 2)",
     "output_type": "error",
     "traceback": [
      "\u001b[1;36m  Cell \u001b[1;32mIn[2], line 2\u001b[1;36m\u001b[0m\n\u001b[1;33m    2myvar = \"megha\"\u001b[0m\n\u001b[1;37m    ^\u001b[0m\n\u001b[1;31mSyntaxError\u001b[0m\u001b[1;31m:\u001b[0m invalid decimal literal\n"
     ]
    }
   ],
   "source": [
    "# these are the invalid variable names\n",
    "2myvar = \"name\"\n",
    "my var = \"name\"\n",
    "my-Var = \"name"
   ]
  },
  {
   "cell_type": "code",
   "execution_count": 2,
   "id": "febfadaf-e3a7-4b83-867e-3331116ffd13",
   "metadata": {},
   "outputs": [
    {
     "name": "stdout",
     "output_type": "stream",
     "text": [
      "hello world\n"
     ]
    }
   ],
   "source": [
    "print(\"hello world\")"
   ]
  },
  {
   "cell_type": "code",
   "execution_count": null,
   "id": "d6b8de9c-b3f7-435b-ac19-5f85d8bfa50d",
   "metadata": {},
   "outputs": [],
   "source": []
  },
  {
   "cell_type": "markdown",
   "id": "b53a915b-f478-4c61-bf1a-c8cd5e96d4ec",
   "metadata": {},
   "source": [
    "- The Python variables you’re using at this point should be\n",
    "lowercase. You won’t get errors if you use uppercase letters, but\n",
    "uppercase letters in variable names have special meanings that\n",
    "we’ll discuss in later chapters."
   ]
  },
  {
   "cell_type": "markdown",
   "id": "a2f15925-2f69-415c-bb0b-8141ebd04410",
   "metadata": {},
   "source": [
    "## Avoiding Name Errors When Using Variables"
   ]
  },
  {
   "cell_type": "code",
   "execution_count": 1,
   "id": "560117d6-3439-4580-8601-8efb84f0caf0",
   "metadata": {},
   "outputs": [
    {
     "ename": "NameError",
     "evalue": "name 'mesage' is not defined",
     "output_type": "error",
     "traceback": [
      "\u001b[1;31m---------------------------------------------------------------------------\u001b[0m",
      "\u001b[1;31mNameError\u001b[0m                                 Traceback (most recent call last)",
      "Cell \u001b[1;32mIn[1], line 2\u001b[0m\n\u001b[0;32m      1\u001b[0m message \u001b[38;5;241m=\u001b[39m \u001b[38;5;124m\"\u001b[39m\u001b[38;5;124mHello Python Crash Course reader!\u001b[39m\u001b[38;5;124m\"\u001b[39m\n\u001b[1;32m----> 2\u001b[0m \u001b[38;5;28mprint\u001b[39m(\u001b[43mmesage\u001b[49m)\n",
      "\u001b[1;31mNameError\u001b[0m: name 'mesage' is not defined"
     ]
    }
   ],
   "source": [
    "message = \"Hello Python Crash Course reader!\"\n",
    "print(mesage)"
   ]
  },
  {
   "cell_type": "markdown",
   "id": "1578e0c2-1ce9-450b-8947-19eccb5e559d",
   "metadata": {},
   "source": [
    "- In that above error occurred it is \"NameErorr\"\n",
    "- Python provides after you’ve\n",
    "accidentally misspelled a variable’s name"
   ]
  },
  {
   "cell_type": "code",
   "execution_count": null,
   "id": "703e0371-0ed7-47dd-9599-4f626ea44219",
   "metadata": {},
   "outputs": [],
   "source": []
  },
  {
   "cell_type": "code",
   "execution_count": null,
   "id": "82cf3ffa-6e8f-4dea-b3c6-9fb8311b1c1e",
   "metadata": {},
   "outputs": [],
   "source": []
  },
  {
   "cell_type": "markdown",
   "id": "ace9e963-e196-40f0-9981-94d5f43b06db",
   "metadata": {},
   "source": [
    "## **Data Type converstion**\n",
    "- Here we need to pass the information."
   ]
  },
  {
   "cell_type": "code",
   "execution_count": 3,
   "id": "42d63699-9d52-4f46-aec8-873155ccbc9e",
   "metadata": {},
   "outputs": [
    {
     "name": "stdout",
     "output_type": "stream",
     "text": [
      "megha\n"
     ]
    }
   ],
   "source": [
    "print(m)"
   ]
  },
  {
   "cell_type": "code",
   "execution_count": 4,
   "id": "ba85568e-2ee7-4ea6-ba40-12ad5a8f6aef",
   "metadata": {},
   "outputs": [
    {
     "name": "stdout",
     "output_type": "stream",
     "text": [
      "<class 'str'>\n"
     ]
    }
   ],
   "source": [
    "print(type(m))"
   ]
  },
  {
   "cell_type": "code",
   "execution_count": 5,
   "id": "2c1a929e-3481-4f32-9322-1463b9d4ce73",
   "metadata": {},
   "outputs": [
    {
     "ename": "ValueError",
     "evalue": "invalid literal for int() with base 10: 'megha'",
     "output_type": "error",
     "traceback": [
      "\u001b[1;31m---------------------------------------------------------------------------\u001b[0m",
      "\u001b[1;31mValueError\u001b[0m                                Traceback (most recent call last)",
      "Cell \u001b[1;32mIn[5], line 1\u001b[0m\n\u001b[1;32m----> 1\u001b[0m \u001b[38;5;28mprint\u001b[39m(\u001b[38;5;28;43mint\u001b[39;49m\u001b[43m(\u001b[49m\u001b[43mm\u001b[49m\u001b[43m)\u001b[49m)\n",
      "\u001b[1;31mValueError\u001b[0m: invalid literal for int() with base 10: 'megha'"
     ]
    }
   ],
   "source": [
    "print(int(m))"
   ]
  },
  {
   "cell_type": "code",
   "execution_count": null,
   "id": "92788f45-133f-410b-8306-87758ced557a",
   "metadata": {},
   "outputs": [],
   "source": []
  },
  {
   "cell_type": "code",
   "execution_count": null,
   "id": "890d6e5d-e6eb-4ce8-ad1e-fbadb76764f3",
   "metadata": {},
   "outputs": [],
   "source": []
  },
  {
   "cell_type": "code",
   "execution_count": null,
   "id": "f732c823-f765-4218-b85b-4b38644dbcea",
   "metadata": {},
   "outputs": [],
   "source": []
  },
  {
   "cell_type": "code",
   "execution_count": null,
   "id": "49cc79dd-a801-442d-9006-a7b1ade03066",
   "metadata": {},
   "outputs": [],
   "source": []
  },
  {
   "cell_type": "code",
   "execution_count": null,
   "id": "b4c04057-34ba-465a-86a4-20e795d241d2",
   "metadata": {},
   "outputs": [],
   "source": []
  },
  {
   "cell_type": "code",
   "execution_count": null,
   "id": "030160fa-818f-48f4-80d7-7057e6ebb6ee",
   "metadata": {},
   "outputs": [],
   "source": []
  },
  {
   "cell_type": "code",
   "execution_count": null,
   "id": "211a4d5e-a838-4e02-8aef-3fd2d9435272",
   "metadata": {},
   "outputs": [],
   "source": []
  },
  {
   "cell_type": "code",
   "execution_count": null,
   "id": "bf941134-93c1-4941-8615-65f53c8ef907",
   "metadata": {},
   "outputs": [],
   "source": []
  },
  {
   "cell_type": "code",
   "execution_count": null,
   "id": "6627ca6f-57d9-41ba-bae9-f40d08b8e349",
   "metadata": {},
   "outputs": [],
   "source": []
  },
  {
   "cell_type": "markdown",
   "id": "fcc72988-ff2f-4178-936a-d2f6ca7836ac",
   "metadata": {},
   "source": [
    "In the above code we print(the )"
   ]
  }
 ],
 "metadata": {
  "kernelspec": {
   "display_name": "Python 3 (ipykernel)",
   "language": "python",
   "name": "python3"
  },
  "language_info": {
   "codemirror_mode": {
    "name": "ipython",
    "version": 3
   },
   "file_extension": ".py",
   "mimetype": "text/x-python",
   "name": "python",
   "nbconvert_exporter": "python",
   "pygments_lexer": "ipython3",
   "version": "3.10.6"
  }
 },
 "nbformat": 4,
 "nbformat_minor": 5
}
