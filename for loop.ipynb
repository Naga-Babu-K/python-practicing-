{
 "cells": [
  {
   "cell_type": "markdown",
   "id": "f5d13679-b5aa-4001-9a78-17b98e0d8bd0",
   "metadata": {},
   "source": [
    "## 1.write a program which will accept a word from the user and is going to check whether the word starts with or notb"
   ]
  },
  {
   "cell_type": "code",
   "execution_count": 24,
   "id": "31946892-baa2-4f6c-afa9-f6fbbae7f7c8",
   "metadata": {},
   "outputs": [
    {
     "name": "stdin",
     "output_type": "stream",
     "text": [
      "Enter word :  word\n",
      "Enter the prefix word :  nice\n"
     ]
    },
    {
     "name": "stdout",
     "output_type": "stream",
     "text": [
      "The word 'word' does not start with the prefix 'nice'.\n"
     ]
    }
   ],
   "source": [
    "def cheak_prefix(word, prefix):\n",
    "    return word.startswith(prefix)\n",
    "    \n",
    "user_word = input(\"Enter word : \")\n",
    "user_prefix = input(\"Enter the prefix word : \")\n",
    "\n",
    "if cheak_prefix(user_word, user_prefix):\n",
    "    print(f\"The word '{user_word}' starts with the prefix '{user_prefix}'.\")\n",
    "else:\n",
    "    print(f\"The word '{user_word}' does not start with the prefix '{user_prefix}'.\")"
   ]
  },
  {
   "cell_type": "markdown",
   "id": "004c6ccb-996e-48f5-9209-1d0a2c68e4c7",
   "metadata": {},
   "source": [
    "# 2.write a program that prints the numbers from 1 to 10, each on a new line."
   ]
  },
  {
   "cell_type": "code",
   "execution_count": 8,
   "id": "e6280cd5-8e0f-4bb8-8bfa-2691ced67bdc",
   "metadata": {},
   "outputs": [
    {
     "name": "stdout",
     "output_type": "stream",
     "text": [
      "1\n",
      "2\n",
      "3\n",
      "4\n",
      "5\n",
      "6\n",
      "7\n",
      "8\n",
      "9\n",
      "10\n"
     ]
    }
   ],
   "source": [
    "for i in range(1, 11):\n",
    "    print(i)"
   ]
  },
  {
   "cell_type": "markdown",
   "id": "d17a79ca-48b3-455c-9c22-cf4598acc76a",
   "metadata": {},
   "source": [
    "## 3.write a program that prints the even numbers 1 to 20, each on a new line."
   ]
  },
  {
   "cell_type": "code",
   "execution_count": 11,
   "id": "2c31529d-8d8d-4069-b67b-2d0d248732ec",
   "metadata": {},
   "outputs": [
    {
     "name": "stdout",
     "output_type": "stream",
     "text": [
      "2\n",
      "4\n",
      "6\n",
      "8\n",
      "10\n",
      "12\n",
      "14\n",
      "16\n",
      "18\n",
      "20\n"
     ]
    }
   ],
   "source": [
    "for i in range(2, 21, 2):\n",
    "    print(i)"
   ]
  },
  {
   "cell_type": "markdown",
   "id": "674f99db-2cac-4592-812a-ac0ca41b9d4e",
   "metadata": {},
   "source": [
    "## 4.write a program that calculates and prints the square of each number from 1 to 5."
   ]
  },
  {
   "cell_type": "code",
   "execution_count": 15,
   "id": "c0d23fa2-c9e9-4589-91ee-1ad27166c781",
   "metadata": {},
   "outputs": [
    {
     "name": "stdout",
     "output_type": "stream",
     "text": [
      "1\n",
      "4\n",
      "9\n",
      "16\n",
      "25\n"
     ]
    }
   ],
   "source": [
    "for i in range(1, 6):\n",
    "    square = i ** 2\n",
    "    print(square)"
   ]
  },
  {
   "cell_type": "markdown",
   "id": "abeeb8a3-7c4b-476a-b552-264e69dec5e3",
   "metadata": {},
   "source": [
    "## 5.write a program that prints the multiples of 3 from 3 to 30, each on a new line."
   ]
  },
  {
   "cell_type": "code",
   "execution_count": 16,
   "id": "16744fef-05a0-4add-941f-4439534de729",
   "metadata": {},
   "outputs": [
    {
     "name": "stdout",
     "output_type": "stream",
     "text": [
      "9\n",
      "12\n",
      "15\n",
      "18\n",
      "21\n",
      "24\n",
      "27\n",
      "30\n",
      "33\n",
      "36\n",
      "39\n",
      "42\n",
      "45\n",
      "48\n",
      "51\n",
      "54\n",
      "57\n",
      "60\n",
      "63\n",
      "66\n",
      "69\n",
      "72\n",
      "75\n",
      "78\n",
      "81\n",
      "84\n",
      "87\n"
     ]
    }
   ],
   "source": [
    "for i in range(3, 30):\n",
    "    mul = i * 3\n",
    "    print(mul)"
   ]
  },
  {
   "cell_type": "markdown",
   "id": "e3d12698-f2e6-464b-be83-1490f9ee55be",
   "metadata": {},
   "source": [
    "## 6.write a program that prints the numbers from 10 to 1 in descending order, each on a new line."
   ]
  },
  {
   "cell_type": "code",
   "execution_count": 21,
   "id": "4c3f3981-a935-458c-ac0e-bbd5a357f973",
   "metadata": {},
   "outputs": [
    {
     "name": "stdout",
     "output_type": "stream",
     "text": [
      "10\n",
      "9\n",
      "8\n",
      "7\n",
      "6\n",
      "5\n",
      "4\n",
      "3\n",
      "2\n"
     ]
    }
   ],
   "source": [
    "for i in range(10,1,-1):\n",
    "    print(i)"
   ]
  },
  {
   "cell_type": "code",
   "execution_count": null,
   "id": "14cffde4-4154-42f3-b879-65337e8722ae",
   "metadata": {},
   "outputs": [],
   "source": []
  }
 ],
 "metadata": {
  "kernelspec": {
   "display_name": "Python 3 (ipykernel)",
   "language": "python",
   "name": "python3"
  },
  "language_info": {
   "codemirror_mode": {
    "name": "ipython",
    "version": 3
   },
   "file_extension": ".py",
   "mimetype": "text/x-python",
   "name": "python",
   "nbconvert_exporter": "python",
   "pygments_lexer": "ipython3",
   "version": "3.10.2"
  }
 },
 "nbformat": 4,
 "nbformat_minor": 5
}
