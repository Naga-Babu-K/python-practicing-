{
 "cells": [
  {
   "cell_type": "code",
   "execution_count": 1,
   "id": "d324be55-ddfb-4184-befd-7b0091e7fcce",
   "metadata": {},
   "outputs": [
    {
     "name": "stdout",
     "output_type": "stream",
     "text": [
      "Help on class tuple in module builtins:\n",
      "\n",
      "class tuple(object)\n",
      " |  tuple(iterable=(), /)\n",
      " |  \n",
      " |  Built-in immutable sequence.\n",
      " |  \n",
      " |  If no argument is given, the constructor returns an empty tuple.\n",
      " |  If iterable is specified the tuple is initialized from iterable's items.\n",
      " |  \n",
      " |  If the argument is a tuple, the return value is the same object.\n",
      " |  \n",
      " |  Built-in subclasses:\n",
      " |      asyncgen_hooks\n",
      " |      UnraisableHookArgs\n",
      " |  \n",
      " |  Methods defined here:\n",
      " |  \n",
      " |  __add__(self, value, /)\n",
      " |      Return self+value.\n",
      " |  \n",
      " |  __contains__(self, key, /)\n",
      " |      Return key in self.\n",
      " |  \n",
      " |  __eq__(self, value, /)\n",
      " |      Return self==value.\n",
      " |  \n",
      " |  __ge__(self, value, /)\n",
      " |      Return self>=value.\n",
      " |  \n",
      " |  __getattribute__(self, name, /)\n",
      " |      Return getattr(self, name).\n",
      " |  \n",
      " |  __getitem__(self, key, /)\n",
      " |      Return self[key].\n",
      " |  \n",
      " |  __getnewargs__(self, /)\n",
      " |  \n",
      " |  __gt__(self, value, /)\n",
      " |      Return self>value.\n",
      " |  \n",
      " |  __hash__(self, /)\n",
      " |      Return hash(self).\n",
      " |  \n",
      " |  __iter__(self, /)\n",
      " |      Implement iter(self).\n",
      " |  \n",
      " |  __le__(self, value, /)\n",
      " |      Return self<=value.\n",
      " |  \n",
      " |  __len__(self, /)\n",
      " |      Return len(self).\n",
      " |  \n",
      " |  __lt__(self, value, /)\n",
      " |      Return self<value.\n",
      " |  \n",
      " |  __mul__(self, value, /)\n",
      " |      Return self*value.\n",
      " |  \n",
      " |  __ne__(self, value, /)\n",
      " |      Return self!=value.\n",
      " |  \n",
      " |  __repr__(self, /)\n",
      " |      Return repr(self).\n",
      " |  \n",
      " |  __rmul__(self, value, /)\n",
      " |      Return value*self.\n",
      " |  \n",
      " |  count(self, value, /)\n",
      " |      Return number of occurrences of value.\n",
      " |  \n",
      " |  index(self, value, start=0, stop=9223372036854775807, /)\n",
      " |      Return first index of value.\n",
      " |      \n",
      " |      Raises ValueError if the value is not present.\n",
      " |  \n",
      " |  ----------------------------------------------------------------------\n",
      " |  Class methods defined here:\n",
      " |  \n",
      " |  __class_getitem__(...) from builtins.type\n",
      " |      See PEP 585\n",
      " |  \n",
      " |  ----------------------------------------------------------------------\n",
      " |  Static methods defined here:\n",
      " |  \n",
      " |  __new__(*args, **kwargs) from builtins.type\n",
      " |      Create and return a new object.  See help(type) for accurate signature.\n",
      "\n"
     ]
    }
   ],
   "source": [
    "help(tuple)"
   ]
  },
  {
   "cell_type": "code",
   "execution_count": 2,
   "id": "31be5bb9-2f41-479a-bde1-8c2933a17225",
   "metadata": {},
   "outputs": [
    {
     "name": "stdout",
     "output_type": "stream",
     "text": [
      "Help on class list in module builtins:\n",
      "\n",
      "class list(object)\n",
      " |  list(iterable=(), /)\n",
      " |  \n",
      " |  Built-in mutable sequence.\n",
      " |  \n",
      " |  If no argument is given, the constructor creates a new empty list.\n",
      " |  The argument must be an iterable if specified.\n",
      " |  \n",
      " |  Methods defined here:\n",
      " |  \n",
      " |  __add__(self, value, /)\n",
      " |      Return self+value.\n",
      " |  \n",
      " |  __contains__(self, key, /)\n",
      " |      Return key in self.\n",
      " |  \n",
      " |  __delitem__(self, key, /)\n",
      " |      Delete self[key].\n",
      " |  \n",
      " |  __eq__(self, value, /)\n",
      " |      Return self==value.\n",
      " |  \n",
      " |  __ge__(self, value, /)\n",
      " |      Return self>=value.\n",
      " |  \n",
      " |  __getattribute__(self, name, /)\n",
      " |      Return getattr(self, name).\n",
      " |  \n",
      " |  __getitem__(...)\n",
      " |      x.__getitem__(y) <==> x[y]\n",
      " |  \n",
      " |  __gt__(self, value, /)\n",
      " |      Return self>value.\n",
      " |  \n",
      " |  __iadd__(self, value, /)\n",
      " |      Implement self+=value.\n",
      " |  \n",
      " |  __imul__(self, value, /)\n",
      " |      Implement self*=value.\n",
      " |  \n",
      " |  __init__(self, /, *args, **kwargs)\n",
      " |      Initialize self.  See help(type(self)) for accurate signature.\n",
      " |  \n",
      " |  __iter__(self, /)\n",
      " |      Implement iter(self).\n",
      " |  \n",
      " |  __le__(self, value, /)\n",
      " |      Return self<=value.\n",
      " |  \n",
      " |  __len__(self, /)\n",
      " |      Return len(self).\n",
      " |  \n",
      " |  __lt__(self, value, /)\n",
      " |      Return self<value.\n",
      " |  \n",
      " |  __mul__(self, value, /)\n",
      " |      Return self*value.\n",
      " |  \n",
      " |  __ne__(self, value, /)\n",
      " |      Return self!=value.\n",
      " |  \n",
      " |  __repr__(self, /)\n",
      " |      Return repr(self).\n",
      " |  \n",
      " |  __reversed__(self, /)\n",
      " |      Return a reverse iterator over the list.\n",
      " |  \n",
      " |  __rmul__(self, value, /)\n",
      " |      Return value*self.\n",
      " |  \n",
      " |  __setitem__(self, key, value, /)\n",
      " |      Set self[key] to value.\n",
      " |  \n",
      " |  __sizeof__(self, /)\n",
      " |      Return the size of the list in memory, in bytes.\n",
      " |  \n",
      " |  append(self, object, /)\n",
      " |      Append object to the end of the list.\n",
      " |  \n",
      " |  clear(self, /)\n",
      " |      Remove all items from list.\n",
      " |  \n",
      " |  copy(self, /)\n",
      " |      Return a shallow copy of the list.\n",
      " |  \n",
      " |  count(self, value, /)\n",
      " |      Return number of occurrences of value.\n",
      " |  \n",
      " |  extend(self, iterable, /)\n",
      " |      Extend list by appending elements from the iterable.\n",
      " |  \n",
      " |  index(self, value, start=0, stop=9223372036854775807, /)\n",
      " |      Return first index of value.\n",
      " |      \n",
      " |      Raises ValueError if the value is not present.\n",
      " |  \n",
      " |  insert(self, index, object, /)\n",
      " |      Insert object before index.\n",
      " |  \n",
      " |  pop(self, index=-1, /)\n",
      " |      Remove and return item at index (default last).\n",
      " |      \n",
      " |      Raises IndexError if list is empty or index is out of range.\n",
      " |  \n",
      " |  remove(self, value, /)\n",
      " |      Remove first occurrence of value.\n",
      " |      \n",
      " |      Raises ValueError if the value is not present.\n",
      " |  \n",
      " |  reverse(self, /)\n",
      " |      Reverse *IN PLACE*.\n",
      " |  \n",
      " |  sort(self, /, *, key=None, reverse=False)\n",
      " |      Sort the list in ascending order and return None.\n",
      " |      \n",
      " |      The sort is in-place (i.e. the list itself is modified) and stable (i.e. the\n",
      " |      order of two equal elements is maintained).\n",
      " |      \n",
      " |      If a key function is given, apply it once to each list item and sort them,\n",
      " |      ascending or descending, according to their function values.\n",
      " |      \n",
      " |      The reverse flag can be set to sort in descending order.\n",
      " |  \n",
      " |  ----------------------------------------------------------------------\n",
      " |  Class methods defined here:\n",
      " |  \n",
      " |  __class_getitem__(...) from builtins.type\n",
      " |      See PEP 585\n",
      " |  \n",
      " |  ----------------------------------------------------------------------\n",
      " |  Static methods defined here:\n",
      " |  \n",
      " |  __new__(*args, **kwargs) from builtins.type\n",
      " |      Create and return a new object.  See help(type) for accurate signature.\n",
      " |  \n",
      " |  ----------------------------------------------------------------------\n",
      " |  Data and other attributes defined here:\n",
      " |  \n",
      " |  __hash__ = None\n",
      "\n"
     ]
    }
   ],
   "source": [
    "help(list)"
   ]
  },
  {
   "cell_type": "markdown",
   "id": "2ce149d9-9407-438f-bc93-e7a718040db5",
   "metadata": {},
   "source": [
    "- Lists work well for storing collections of items\n",
    "## what is Tuples()?\n",
    "- Tuples are used to store multilple items in a single variable\n",
    "- Tuples are one of 4 built-in  data types in python used to store data, the other 3 are liat, set and Dictionray, all with different qualities and using\n",
    "- A tuple is a collection which is ordered and Unchangeable\n",
    "- Tuples are written with round brackets."
   ]
  },
  {
   "cell_type": "markdown",
   "id": "dba62853-c7a5-4a45-92c0-20f98d7497b4",
   "metadata": {},
   "source": [
    "## Ordered:\n",
    "       When we say thet tuples are orderd, it means that the items have a define order, and that order will not chang.\n",
    "## Unchangeable:\n",
    "      Tuples are unchangeable, meaning that we cannot change, add or remove items after the tuples has been created\n",
    "## Allow Duplicates:\n",
    "      Since tuples are index, they can have items with the same value."
   ]
  },
  {
   "cell_type": "markdown",
   "id": "954a5eaf-7a1c-4923-a689-5b92cb55d159",
   "metadata": {},
   "source": [
    "## using different types of functions:\n",
    "- len()\n",
    "- type()"
   ]
  },
  {
   "cell_type": "code",
   "execution_count": null,
   "id": "76c53bb9-d050-48e3-8456-58a817018a38",
   "metadata": {},
   "outputs": [],
   "source": []
  },
  {
   "cell_type": "code",
   "execution_count": 4,
   "id": "c737ed3a-2a5c-4fdd-b041-0a8957cdcd95",
   "metadata": {},
   "outputs": [
    {
     "name": "stdout",
     "output_type": "stream",
     "text": [
      "200\n",
      "50\n",
      "84\n"
     ]
    }
   ],
   "source": [
    "dimensions = (200, 50, 84)\n",
    "print(dimensions[0])\n",
    "print(dimensions[1])\n",
    "print(dimensions[2])"
   ]
  },
  {
   "cell_type": "code",
   "execution_count": 1,
   "id": "7b27ae9a-62d6-4785-9cc2-5b7da775bc61",
   "metadata": {},
   "outputs": [],
   "source": [
    "# tuple are fast and lists are slow\n",
    "tup = tuple(\"string\")"
   ]
  },
  {
   "cell_type": "code",
   "execution_count": 2,
   "id": "f91798ae-3035-449f-a6c8-81dd7e4b468d",
   "metadata": {},
   "outputs": [
    {
     "data": {
      "text/plain": [
       "('s', 't', 'r', 'i', 'n', 'g')"
      ]
     },
     "execution_count": 2,
     "metadata": {},
     "output_type": "execute_result"
    }
   ],
   "source": [
    "tup"
   ]
  },
  {
   "cell_type": "code",
   "execution_count": 1,
   "id": "182a365d-4a61-4ce8-b285-c8f013f9f936",
   "metadata": {},
   "outputs": [],
   "source": [
    "t1 = (1,2,3,45,5,)"
   ]
  },
  {
   "cell_type": "code",
   "execution_count": 2,
   "id": "6b00dd2e-3ba7-4933-b529-debd0426d196",
   "metadata": {},
   "outputs": [
    {
     "name": "stdout",
     "output_type": "stream",
     "text": [
      "<class 'tuple'>\n"
     ]
    }
   ],
   "source": [
    "print(type(t1))"
   ]
  },
  {
   "cell_type": "markdown",
   "id": "aa30b661-b057-4893-9e22-5b1dfadfe85d",
   "metadata": {},
   "source": [
    "## Update Tuples\n",
    "Tuples are unchangeable, meaning that you cannot change, add, or remove items once the tuple is created.\n",
    "\n",
    "But there are some workarounds."
   ]
  },
  {
   "cell_type": "markdown",
   "id": "db88e135-12a8-423b-b563-161c03684518",
   "metadata": {},
   "source": [
    "## Change Tuple values:\n",
    "- Once tuple is created you cannot change thits values. Tuples are Unchangeable, or immutable as it also is called.\n",
    "- But there is a workaround. You can convert the tuple into a list, change the list, convert the list back into a tuple."
   ]
  },
  {
   "cell_type": "code",
   "execution_count": 3,
   "id": "651d988b-ce00-4bb8-888d-c88191444402",
   "metadata": {},
   "outputs": [
    {
     "name": "stdout",
     "output_type": "stream",
     "text": [
      "[1, 2, 3, 45, 5]\n",
      "<class 'list'>\n"
     ]
    }
   ],
   "source": [
    "# converting tuple to list using list method\n",
    "l = list(t1)\n",
    "print(l)\n",
    "print(type(l))"
   ]
  },
  {
   "cell_type": "markdown",
   "id": "2c2f9d28-b6f8-4afa-a070-dc5ebae850ec",
   "metadata": {},
   "source": [
    "## Add items"
   ]
  },
  {
   "cell_type": "code",
   "execution_count": 4,
   "id": "936032d9-08a6-4a74-8112-6cd3906fca02",
   "metadata": {},
   "outputs": [],
   "source": [
    "l.append(56)"
   ]
  },
  {
   "cell_type": "code",
   "execution_count": 5,
   "id": "51919194-ae5a-4242-8ddd-5b8da3688d87",
   "metadata": {},
   "outputs": [
    {
     "name": "stdout",
     "output_type": "stream",
     "text": [
      "(1, 2, 3, 45, 5, 56)\n",
      "<class 'tuple'>\n"
     ]
    }
   ],
   "source": [
    "t1 = tuple(l)\n",
    "print(t1)\n",
    "print(type(t1))"
   ]
  },
  {
   "cell_type": "code",
   "execution_count": null,
   "id": "34bd82c9-890f-4e55-95ac-61edbcfc32a5",
   "metadata": {},
   "outputs": [],
   "source": [
    "# we can convert string to list by using split(),\n",
    "# tuple to list using list()\n",
    "# we can convert list, string to tuple using tuple(),\n",
    "# we can convert list,  tuple into string "
   ]
  },
  {
   "cell_type": "code",
   "execution_count": 1,
   "id": "cea6c5f5-6948-45c3-9d40-462f2f1109ae",
   "metadata": {},
   "outputs": [
    {
     "name": "stdout",
     "output_type": "stream",
     "text": [
      "['p', 'y', 't', 'h', 'o', 'n', ' ', 'i', 's', ' ', 'a', ' ', 's', 'n', 'a', 'k', 'e']\n",
      "('p', 'y', 't', 'h', 'o', 'n', ' ', 'i', 's', ' ', 'a', ' ', 's', 'n', 'a', 'k', 'e')\n"
     ]
    }
   ],
   "source": [
    "# string is list or tuple using list() or tuple will convert each character as a separate element in list or tuple\n",
    "str_ = \"python is a snake\"\n",
    "print(list(str_))\n",
    "print(tuple(str_))"
   ]
  },
  {
   "cell_type": "markdown",
   "id": "a76cbdc5-788c-4d62-a9f7-f28c288e8515",
   "metadata": {},
   "source": [
    "## Add tuple to a tuple\n",
    "- you are alloed to add tuples, so if you to add one item create a new tuple with the item(s), and add it the existing tuple. "
   ]
  },
  {
   "cell_type": "code",
   "execution_count": 5,
   "id": "a02241d2-d4cf-4ce8-a113-b46157432289",
   "metadata": {},
   "outputs": [
    {
     "name": "stdout",
     "output_type": "stream",
     "text": [
      "<class 'tuple'>\n",
      "<class 'tuple'>\n",
      "('omegha', 'megha', 'ACE', 'lbrc')\n"
     ]
    }
   ],
   "source": [
    "t = (\"omegha\", \"megha\", \"ACE\")\n",
    "print(type(t))\n",
    "y = (\"lbrc\",)\n",
    "print(type(y))\n",
    "t += y\n",
    "print(t)"
   ]
  },
  {
   "cell_type": "code",
   "execution_count": 14,
   "id": "4ff560c6-cbe2-4400-bd5e-869281876dd6",
   "metadata": {},
   "outputs": [
    {
     "data": {
      "text/plain": [
       "['python', 'is', 'a', 'snake']"
      ]
     },
     "execution_count": 14,
     "metadata": {},
     "output_type": "execute_result"
    }
   ],
   "source": [
    "str_.split(\" \")"
   ]
  },
  {
   "cell_type": "code",
   "execution_count": 3,
   "id": "d7d538e3-f2f7-4e71-92ec-eab64a8c1a79",
   "metadata": {},
   "outputs": [
    {
     "name": "stdout",
     "output_type": "stream",
     "text": [
      "['python', 'is', 'a', 'snake']\n",
      "python is a snake\n"
     ]
    }
   ],
   "source": [
    "# list to string using join method\n",
    "split_Str = str_.split(\" \")\n",
    "print(split_Str)\n",
    "print(\" \".join(split_Str))"
   ]
  },
  {
   "cell_type": "code",
   "execution_count": null,
   "id": "28f00630-80fb-4226-89ec-382586bd3a9c",
   "metadata": {},
   "outputs": [],
   "source": [
    "# how diffrent ways to define tuple\n",
    "# tuple can be declared using ( ) with each value separated by \",\"\" comma\n",
    "# by using tuple ( ) inbuilt function, which converts sequence like data structure like string , list, set, etc"
   ]
  },
  {
   "cell_type": "code",
   "execution_count": null,
   "id": "2d67b1df-3881-466c-b9e6-ff7e4b971035",
   "metadata": {},
   "outputs": [],
   "source": [
    "list()\n",
    "[]"
   ]
  },
  {
   "cell_type": "code",
   "execution_count": 10,
   "id": "0f76945e-26a9-4949-ae1d-5a69002e2ca3",
   "metadata": {},
   "outputs": [],
   "source": [
    "tup = tuple(\"string\")"
   ]
  },
  {
   "cell_type": "code",
   "execution_count": 11,
   "id": "95ba9fe7-73c6-496f-8f17-ba052a562d4a",
   "metadata": {},
   "outputs": [],
   "source": [
    "tup2 = tuple([1,2,3,4,5])"
   ]
  },
  {
   "cell_type": "code",
   "execution_count": 13,
   "id": "78586b1f-71f7-4cfe-8284-f6fe1a7eb061",
   "metadata": {},
   "outputs": [
    {
     "name": "stdout",
     "output_type": "stream",
     "text": [
      "(1, 2, 3, 4, 5)\n",
      "<class 'tuple'>\n"
     ]
    }
   ],
   "source": [
    "print(tup2)\n",
    "print(type(tup2))"
   ]
  },
  {
   "cell_type": "code",
   "execution_count": 14,
   "id": "74347e7e-4cbc-48b3-aafd-5ca1095d253c",
   "metadata": {},
   "outputs": [
    {
     "name": "stdout",
     "output_type": "stream",
     "text": [
      "[1, 2, 3, 4, 5]\n",
      "<class 'list'>\n"
     ]
    }
   ],
   "source": [
    "# by convert tuple to list using list method\n",
    "li = list(tup2)\n",
    "print(li)\n",
    "print(type(li))"
   ]
  },
  {
   "cell_type": "code",
   "execution_count": null,
   "id": "5a0bd1c2-07d6-450b-b68a-b556c1b0e870",
   "metadata": {},
   "outputs": [],
   "source": []
  },
  {
   "cell_type": "markdown",
   "id": "580698cb-3b8e-4d45-b4cf-d1f0dea75fa6",
   "metadata": {},
   "source": [
    "## packing and unpacking"
   ]
  },
  {
   "cell_type": "code",
   "execution_count": 6,
   "id": "84599eaf-5636-4c6d-9092-cdbc824f8091",
   "metadata": {},
   "outputs": [
    {
     "name": "stdout",
     "output_type": "stream",
     "text": [
      "(1, 2, 3, 4, 5, 6)\n"
     ]
    }
   ],
   "source": [
    "# this is packing \n",
    "a= 1,2,3,4,5,6 # here i'm storing multiple values in a variable\n",
    "print(a)"
   ]
  },
  {
   "cell_type": "markdown",
   "id": "ab0625e4-b014-4031-b9ff-ea1f064f02ef",
   "metadata": {},
   "source": [
    "## unpacking\n",
    "- we are also allowed to extract the values back into variables. This is called unpacking\n",
    "### Note\n",
    "- The number of variables must the number of values in the tuple, if you must use an asterisk to collect the remaining values as a list."
   ]
  },
  {
   "cell_type": "code",
   "execution_count": 8,
   "id": "822f4755-a271-4684-83cb-d0d679e768a3",
   "metadata": {},
   "outputs": [
    {
     "name": "stdout",
     "output_type": "stream",
     "text": [
      "1\n",
      "2\n",
      "3\n",
      "4\n",
      "5\n",
      "6\n"
     ]
    }
   ],
   "source": [
    "# this is unpacking\n",
    "a,b,c,d,e,f = a\n",
    "print(a)\n",
    "print(b)\n",
    "print(c)\n",
    "print(d)\n",
    "print(e)\n",
    "print(f)"
   ]
  },
  {
   "cell_type": "markdown",
   "id": "cd881c02-7c4d-4692-9e2b-4308ff851961",
   "metadata": {},
   "source": [
    "## Tuple indexing"
   ]
  },
  {
   "cell_type": "code",
   "execution_count": null,
   "id": "0ce5cf7b-4da2-4283-bcba-791dcabf026a",
   "metadata": {},
   "outputs": [],
   "source": []
  },
  {
   "cell_type": "code",
   "execution_count": null,
   "id": "a3c1877a-40cc-4843-a870-97d2db4f5a66",
   "metadata": {},
   "outputs": [],
   "source": []
  },
  {
   "cell_type": "code",
   "execution_count": null,
   "id": "6ae209f0-5549-46c4-abab-274ce75d836b",
   "metadata": {},
   "outputs": [],
   "source": []
  },
  {
   "cell_type": "markdown",
   "id": "8dcb6883-b19d-4339-88e5-967ad21a2e20",
   "metadata": {},
   "source": [
    "## Create a tuple named \"fruits\" containing the following fruits: \"apple\", \"banana\", \"orange\", \"mango\", and \"kiwi\"."
   ]
  },
  {
   "cell_type": "code",
   "execution_count": 23,
   "id": "c4647e52-d31a-42ea-a9b3-82cf34d71f87",
   "metadata": {},
   "outputs": [],
   "source": [
    "fruits = (\"apple\"    , \"banana\", \"orange\", \"mango\", \"kiwi\")"
   ]
  },
  {
   "cell_type": "markdown",
   "id": "c50b2065-d478-484b-87c4-4edb4cfca501",
   "metadata": {},
   "source": [
    "## Print the tuple \"fruits\""
   ]
  },
  {
   "cell_type": "code",
   "execution_count": 24,
   "id": "16726c88-d3ef-4070-a874-4ce8ed544055",
   "metadata": {},
   "outputs": [
    {
     "name": "stdout",
     "output_type": "stream",
     "text": [
      "('apple', 'banana', 'orange', 'mango', 'kiwi')\n"
     ]
    }
   ],
   "source": [
    "print(fruits)"
   ]
  },
  {
   "cell_type": "markdown",
   "id": "f5e253e0-e55f-4b5a-b64f-83303edeaa60",
   "metadata": {},
   "source": [
    "## print the length of the tuple \"fruits\""
   ]
  },
  {
   "cell_type": "code",
   "execution_count": 25,
   "id": "e20de2e4-2e1b-4dbe-b26f-68d6b8fb9650",
   "metadata": {},
   "outputs": [
    {
     "data": {
      "text/plain": [
       "5"
      ]
     },
     "execution_count": 25,
     "metadata": {},
     "output_type": "execute_result"
    }
   ],
   "source": [
    "len(fruits)"
   ]
  },
  {
   "cell_type": "markdown",
   "id": "5bcf0c11-f191-4966-ba99-b8991831356e",
   "metadata": {},
   "source": [
    "## Access and print the third element of the tuple \"fruits\". Use slicing to print the elements from the second to the fourth element of the tuple \"fruits\".\n"
   ]
  },
  {
   "cell_type": "code",
   "execution_count": 26,
   "id": "aa68fe72-b7de-4967-acde-724d74fa64f0",
   "metadata": {},
   "outputs": [
    {
     "data": {
      "text/plain": [
       "'orange'"
      ]
     },
     "execution_count": 26,
     "metadata": {},
     "output_type": "execute_result"
    }
   ],
   "source": [
    "fruits[2]"
   ]
  },
  {
   "cell_type": "markdown",
   "id": "d50954a0-9240-4f26-8749-e64621fbb116",
   "metadata": {},
   "source": [
    "## .Create a new tuple named \"more_fruits\" containing the following fruits: \"grape\", \"pear\", \"pineapple\". .Concatenate the tuples \"fruits\" and \"more_fruits\" and assign the result to a new tuple named \"all_fruits\"."
   ]
  },
  {
   "cell_type": "code",
   "execution_count": 27,
   "id": "595a8f65-d9cc-4ca7-a74c-4488c48c969c",
   "metadata": {},
   "outputs": [],
   "source": [
    "more_fruits = (\"grape\", \"pear\", \"pineapple\")"
   ]
  },
  {
   "cell_type": "code",
   "execution_count": 28,
   "id": "7ae11e6c-6ee8-46b5-8ab6-cb8c1627c85b",
   "metadata": {},
   "outputs": [],
   "source": [
    "all_fruits = (fruits + more_fruits)"
   ]
  },
  {
   "cell_type": "markdown",
   "id": "051c9774-56dd-406b-8ec0-42ca0533a29b",
   "metadata": {},
   "source": [
    "## Print the tuple \"all_fruits\""
   ]
  },
  {
   "cell_type": "code",
   "execution_count": 29,
   "id": "34451d4b-1a9c-40db-8e21-1d1647718f2d",
   "metadata": {},
   "outputs": [
    {
     "data": {
      "text/plain": [
       "('apple', 'banana', 'orange', 'mango', 'kiwi', 'grape', 'pear', 'pineapple')"
      ]
     },
     "execution_count": 29,
     "metadata": {},
     "output_type": "execute_result"
    }
   ],
   "source": [
    "all_fruits"
   ]
  },
  {
   "cell_type": "markdown",
   "id": "3107cf2e-6ef6-43d8-851b-9c8766ddd65a",
   "metadata": {},
   "source": [
    "## Check if \"kiwi\" is present in the tuple \"all fruits\" and print the result."
   ]
  },
  {
   "cell_type": "code",
   "execution_count": 27,
   "id": "a0f757c1-1de6-4135-bf96-68bfe955b085",
   "metadata": {},
   "outputs": [
    {
     "data": {
      "text/plain": [
       "('apple', 'banana', 'orange', 'mango', 'kiwi', 'grape', 'pear', 'pineapple')"
      ]
     },
     "execution_count": 27,
     "metadata": {},
     "output_type": "execute_result"
    }
   ],
   "source": [
    "all_fruits "
   ]
  },
  {
   "cell_type": "code",
   "execution_count": 30,
   "id": "f19764ba-dfde-42f4-8acb-db94f1532218",
   "metadata": {},
   "outputs": [
    {
     "data": {
      "text/plain": [
       "'grape'"
      ]
     },
     "execution_count": 30,
     "metadata": {},
     "output_type": "execute_result"
    }
   ],
   "source": [
    "all_fruits[5]"
   ]
  },
  {
   "cell_type": "markdown",
   "id": "ce208007-076c-4440-8086-888bcb8aa0a7",
   "metadata": {},
   "source": [
    "## Find and print the index of \"banana\" in the tuple \"all_fruits\"."
   ]
  },
  {
   "cell_type": "code",
   "execution_count": 30,
   "id": "3e578a9d-e166-4f3c-85d0-f16c00e406aa",
   "metadata": {},
   "outputs": [
    {
     "data": {
      "text/plain": [
       "2"
      ]
     },
     "execution_count": 30,
     "metadata": {},
     "output_type": "execute_result"
    }
   ],
   "source": [
    "all_fruits.index('orange')"
   ]
  },
  {
   "cell_type": "code",
   "execution_count": null,
   "id": "943d9247-0d0a-41ae-8fb4-695ed8afcd97",
   "metadata": {},
   "outputs": [],
   "source": []
  }
 ],
 "metadata": {
  "kernelspec": {
   "display_name": "Python 3 (ipykernel)",
   "language": "python",
   "name": "python3"
  },
  "language_info": {
   "codemirror_mode": {
    "name": "ipython",
    "version": 3
   },
   "file_extension": ".py",
   "mimetype": "text/x-python",
   "name": "python",
   "nbconvert_exporter": "python",
   "pygments_lexer": "ipython3",
   "version": "3.10.6"
  }
 },
 "nbformat": 4,
 "nbformat_minor": 5
}
