{
 "cells": [
  {
   "cell_type": "markdown",
   "id": "cace8381-af98-4ac7-ad85-3e39bd0af3bc",
   "metadata": {},
   "source": [
    "## Python Introduction"
   ]
  },
  {
   "cell_type": "markdown",
   "id": "876964d4-671d-4bb1-a407-401b1a2a20d8",
   "metadata": {},
   "source": [
    "## **What is Python?**\n",
    "\n",
    "- Python is a popular programming language. It was created by Guido van Rossum, and released in 1991.\n",
    "\n",
    "It is used for:\n",
    "\n",
    "- web development (server-side),\n",
    "- software development,\n",
    "- mathematics,\n",
    "- system scripting.\n"
   ]
  },
  {
   "cell_type": "markdown",
   "id": "f46e9297-e16d-4239-9a88-8c0d35c04eba",
   "metadata": {},
   "source": [
    "# **Why Python?**\n",
    "\n",
    "- Python is an incredibly efficient language: your programs will do more in fewer lines of code than many other languages would require.\n",
    "- Python’s syntax will also help you write “clean” code.\n",
    "- Your code will be easier to read, easier to debug,\n",
    "- and easier to extend and build upon, compared to other languages.\n",
    "- People use Python for many purposes: to make games,\n",
    "- build web applications, solve business problems,\n",
    "- and develop internal tools at all kinds of interesting companies.\n",
    "\n",
    "\n"
   ]
  },
  {
   "cell_type": "markdown",
   "id": "ca13a721-b347-478a-9f40-5d6ceb38faae",
   "metadata": {},
   "source": [
    "## ceatting comments\n",
    "- by using **#** hash symbol we can create comment for one line\n",
    "- by using **\"\"\"name \"\"\"**  triple quotes we can commenting the num of lines."
   ]
  },
  {
   "cell_type": "code",
   "execution_count": null,
   "id": "4081c5f3-69ed-4afd-afbd-ab273a718289",
   "metadata": {},
   "outputs": [],
   "source": []
  },
  {
   "cell_type": "markdown",
   "id": "48a99040-3c0d-4489-94a8-b1a9ec21e6b7",
   "metadata": {},
   "source": [
    "### Python Syntax compared to other programming languages"
   ]
  },
  {
   "cell_type": "code",
   "execution_count": 29,
   "id": "15bf8acb-3e66-480a-93ac-b6a37eb6a48a",
   "metadata": {},
   "outputs": [
    {
     "name": "stdout",
     "output_type": "stream",
     "text": [
      "hello world\n"
     ]
    }
   ],
   "source": [
    "# value is Hello world!\n",
    "# a is variable\n",
    "# \" = \" is assignment operator\n",
    "\n",
    "a = \"hello world\" \n",
    "print(a)"
   ]
  },
  {
   "cell_type": "code",
   "execution_count": 28,
   "id": "0a58e86d-2fa7-4b36-bd2e-0f046eb68ba1",
   "metadata": {},
   "outputs": [
    {
     "name": "stdout",
     "output_type": "stream",
     "text": [
      "Hello world\n"
     ]
    }
   ],
   "source": [
    "print(\"Hello world\") #hello world!  is a value\n",
    "# here i need to print value by using  print() method\n"
   ]
  },
  {
   "cell_type": "code",
   "execution_count": 2,
   "id": "b5058e9b-092b-4b56-b1a5-5766c8b64c71",
   "metadata": {},
   "outputs": [
    {
     "name": "stdout",
     "output_type": "stream",
     "text": [
      "['False', 'None', 'True', 'and', 'as', 'assert', 'async', 'await', 'break', 'class', 'continue', 'def', 'del', 'elif', 'else', 'except', 'finally', 'for', 'from', 'global', 'if', 'import', 'in', 'is', 'lambda', 'nonlocal', 'not', 'or', 'pass', 'raise', 'return', 'try', 'while', 'with', 'yield']\n"
     ]
    }
   ],
   "source": [
    "import keyword\n",
    "keywords = keyword.kwlist\n",
    "print(keywords)"
   ]
  },
  {
   "cell_type": "code",
   "execution_count": null,
   "id": "83a2c5d8-70a2-4daa-abc1-34788ae7d153",
   "metadata": {},
   "outputs": [],
   "source": [
    "or, pass, raise, as , True, del, class,  "
   ]
  },
  {
   "cell_type": "code",
   "execution_count": null,
   "id": "3d67ea36-8017-4189-a466-106c3535dad0",
   "metadata": {},
   "outputs": [],
   "source": []
  },
  {
   "cell_type": "code",
   "execution_count": 3,
   "id": "f6bf9c79-76ec-45e9-9eaa-f5adf093557c",
   "metadata": {},
   "outputs": [
    {
     "name": "stdout",
     "output_type": "stream",
     "text": [
      "['False', 'None', 'True', 'and', 'as', 'assert', 'async', 'await', 'break', 'class', 'continue', 'def', 'del', 'elif', 'else', 'except', 'finally', 'for', 'from', 'global', 'if', 'import', 'in', 'is', 'lambda', 'nonlocal', 'not', 'or', 'pass', 'raise', 'return', 'try', 'while', 'with', 'yield']\n"
     ]
    }
   ],
   "source": [
    "import keyword\n",
    "keywords = keyword.kwlist\n",
    "print(keywords)"
   ]
  },
  {
   "cell_type": "code",
   "execution_count": 2,
   "id": "d559a61f-6a41-4b60-90ad-4ff0596ed583",
   "metadata": {},
   "outputs": [
    {
     "name": "stdout",
     "output_type": "stream",
     "text": [
      "jkgukbkukbgkjyftvdblkj bkljgfkhtdkyghcjmfhytjfgu,hjf,kjf hjfhgvtfygjncfbjvgdhvnb, kgvhj,jh vnbnvjyfymfcjdtr\n"
     ]
    }
   ],
   "source": [
    "a = \"jkgukbkukbgkjyftvdblkj bkljgfkhtdkyghcjmfhytjfgu,hjf,kjf hjfhgvtfygjncfbjvgdhvnb, kgvhj,jh vnbnvjyfymfcjdtr\"\n",
    "print(a)\n"
   ]
  },
  {
   "cell_type": "code",
   "execution_count": 1,
   "id": "58ddce87-e5e6-4c0e-b103-c603367ad8d9",
   "metadata": {},
   "outputs": [
    {
     "name": "stdout",
     "output_type": "stream",
     "text": [
      "jkgukbkukbgkjyftvdblkj bkljgfkhtdkyghcjmfhytjfgu,hjf,kjf hjfhgvtfygjncfbjvgdhvnb, kgvhj,jh vnbnvjyfymfcjdtr\n"
     ]
    }
   ],
   "source": [
    "print(\"jkgukbkukbgkjyftvdblkj bkljgfkhtdkyghcjmfhytjfgu,hjf,kjf hjfhgvtfygjncfbjvgdhvnb, kgvhj,jh vnbnvjyfymfcjdtr\")"
   ]
  },
  {
   "cell_type": "code",
   "execution_count": 35,
   "id": "300cbe0d-fab4-45d9-a760-effd2bb425ca",
   "metadata": {},
   "outputs": [
    {
     "name": "stdout",
     "output_type": "stream",
     "text": [
      "107\n"
     ]
    }
   ],
   "source": [
    "print(len(a))"
   ]
  },
  {
   "cell_type": "code",
   "execution_count": 30,
   "id": "f3fbc0aa-0d25-4d61-aa61-9ef88b3891e8",
   "metadata": {},
   "outputs": [
    {
     "name": "stdout",
     "output_type": "stream",
     "text": [
      "215\n"
     ]
    }
   ],
   "source": [
    "# single quote=  ''\n",
    "# double quotes = \"\"\n",
    "# when a value in single or double quotes it is considering it is a string:\n",
    "print(\"215\") # we never mention data type"
   ]
  },
  {
   "cell_type": "code",
   "execution_count": 1,
   "id": "460cb116-f5dd-49a3-9e38-38e81ce64d11",
   "metadata": {},
   "outputs": [
    {
     "ename": "SyntaxError",
     "evalue": "cannot assign to True (4040406499.py, line 3)",
     "output_type": "error",
     "traceback": [
      "\u001b[1;36m  Cell \u001b[1;32mIn[1], line 3\u001b[1;36m\u001b[0m\n\u001b[1;33m    True = a + b\u001b[0m\n\u001b[1;37m    ^\u001b[0m\n\u001b[1;31mSyntaxError\u001b[0m\u001b[1;31m:\u001b[0m cannot assign to True\n"
     ]
    }
   ],
   "source": [
    "a = 15\n",
    "b = 15\n",
    "True = a + b\n",
    "print(True)"
   ]
  },
  {
   "cell_type": "code",
   "execution_count": null,
   "id": "51402a86-7b67-4729-a3b5-6f796ab96e49",
   "metadata": {},
   "outputs": [],
   "source": []
  },
  {
   "cell_type": "code",
   "execution_count": 1,
   "id": "275aeba8-3ea6-45dd-bb79-81b95796eebd",
   "metadata": {},
   "outputs": [
    {
     "name": "stdout",
     "output_type": "stream",
     "text": [
      "hello\n"
     ]
    }
   ],
   "source": [
    "print(\"hello\")"
   ]
  },
  {
   "cell_type": "markdown",
   "id": "4d4b8961-f975-4c92-9cca-704819749e1d",
   "metadata": {},
   "source": [
    "# mistakes:\n",
    "- maximum mention the variable names in lowercase"
   ]
  },
  {
   "cell_type": "code",
   "execution_count": 2,
   "id": "9f919bd8-b565-4e47-bffa-0594250a72dd",
   "metadata": {},
   "outputs": [
    {
     "ename": "NameError",
     "evalue": "name 'Print' is not defined",
     "output_type": "error",
     "traceback": [
      "\u001b[1;31m---------------------------------------------------------------------------\u001b[0m",
      "\u001b[1;31mNameError\u001b[0m                                 Traceback (most recent call last)",
      "Cell \u001b[1;32mIn[2], line 1\u001b[0m\n\u001b[1;32m----> 1\u001b[0m \u001b[43mPrint\u001b[49m(\u001b[38;5;124m\"\u001b[39m\u001b[38;5;124mhello\u001b[39m\u001b[38;5;124m\"\u001b[39m)\n",
      "\u001b[1;31mNameError\u001b[0m: name 'Print' is not defined"
     ]
    }
   ],
   "source": [
    "Print(\"hello\")"
   ]
  },
  {
   "cell_type": "code",
   "execution_count": 3,
   "id": "dccfebf5-b5d3-494c-94fb-48517a9d748c",
   "metadata": {},
   "outputs": [
    {
     "name": "stdout",
     "output_type": "stream",
     "text": [
      "Hello World!\n"
     ]
    }
   ],
   "source": [
    "print('Hello World!')"
   ]
  },
  {
   "cell_type": "code",
   "execution_count": 4,
   "id": "dc68c25a-e6e1-447b-a9b1-4c0efe1fe3a6",
   "metadata": {},
   "outputs": [
    {
     "name": "stdout",
     "output_type": "stream",
     "text": [
      "Hello World!\n"
     ]
    }
   ],
   "source": [
    "print(\"Hello World!\")"
   ]
  },
  {
   "cell_type": "code",
   "execution_count": 5,
   "id": "c20b9282-0a5e-41ce-957b-183adb5de08f",
   "metadata": {},
   "outputs": [
    {
     "ename": "ValueError",
     "evalue": "invalid literal for int() with base 10: 'jkgukbkukbgkjyftvdblkj bkljgfkhtdkyghcjmfhytjfgu,hjf,kjf hjfhgvtfygjncfbjvgdhvnb, kgvhj,jh vnbnvjyfymfcjdtr'",
     "output_type": "error",
     "traceback": [
      "\u001b[1;31m---------------------------------------------------------------------------\u001b[0m",
      "\u001b[1;31mValueError\u001b[0m                                Traceback (most recent call last)",
      "Cell \u001b[1;32mIn[5], line 1\u001b[0m\n\u001b[1;32m----> 1\u001b[0m \u001b[38;5;28mprint\u001b[39m(\u001b[38;5;28;43mint\u001b[39;49m\u001b[43m(\u001b[49m\u001b[43ma\u001b[49m\u001b[43m)\u001b[49m)\n",
      "\u001b[1;31mValueError\u001b[0m: invalid literal for int() with base 10: 'jkgukbkukbgkjyftvdblkj bkljgfkhtdkyghcjmfhytjfgu,hjf,kjf hjfhgvtfygjncfbjvgdhvnb, kgvhj,jh vnbnvjyfymfcjdtr'"
     ]
    }
   ],
   "source": [
    "print(int(a))"
   ]
  },
  {
   "cell_type": "markdown",
   "id": "20409f33-4222-4cd1-b83b-84d6fdeee59e",
   "metadata": {},
   "source": [
    "## Hello world in **C** lang"
   ]
  },
  {
   "cell_type": "markdown",
   "id": "4375d7a9-c0f3-488b-986f-6f586c605dc4",
   "metadata": {},
   "source": [
    "#include <stdio.h>\n",
    "\n",
    "int main() {\n",
    "  printf(\"Hello World!\");\n",
    "  return 0;\n",
    "}"
   ]
  },
  {
   "cell_type": "markdown",
   "id": "1f11de47-0346-43af-a9f5-98145e8fc8ff",
   "metadata": {},
   "source": [
    "## Hello world in **Java** lang"
   ]
  },
  {
   "cell_type": "code",
   "execution_count": null,
   "id": "39ef0d1f-7046-497f-ae14-cb6aca9d8b6d",
   "metadata": {},
   "outputs": [],
   "source": [
    "public class Main {\n",
    "  public static void main(String[] args) {\n",
    "    System.out.println(\"Hello World\");\n",
    "  }\n",
    "}"
   ]
  },
  {
   "cell_type": "code",
   "execution_count": null,
   "id": "1d526ed7-a281-4dd2-9025-c3f398184970",
   "metadata": {},
   "outputs": [],
   "source": []
  }
 ],
 "metadata": {
  "kernelspec": {
   "display_name": "Python 3 (ipykernel)",
   "language": "python",
   "name": "python3"
  },
  "language_info": {
   "codemirror_mode": {
    "name": "ipython",
    "version": 3
   },
   "file_extension": ".py",
   "mimetype": "text/x-python",
   "name": "python",
   "nbconvert_exporter": "python",
   "pygments_lexer": "ipython3",
   "version": "3.10.6"
  }
 },
 "nbformat": 4,
 "nbformat_minor": 5
}
