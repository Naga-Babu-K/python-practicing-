{
 "cells": [
  {
   "cell_type": "markdown",
   "id": "9b6e2d1a-90c9-4c58-8b77-1c7010061463",
   "metadata": {},
   "source": [
    "# **Data Types**\n",
    "- We know that python is Dynamically typed programing laguage\n",
    "## Why we need to learn about Data types at all?\n",
    "-  python is automatically understands the data type but it is important to know about the datatypes.\n",
    "\n",
    "### Basic Datatypes avilable in python are:\n",
    "- Numerical:  -int, float, complex(immutable)\n",
    "- Boolean: -bool(True, False)\n",
    "- strings(Immutable):\n",
    "- List(mutable): means changable we edit values in list\n",
    "- Tuple(Immutable): means we can't change the values in tuple\n",
    "- set (unorderd collection of items, mutable, reomoves duplicates)\n",
    "- Dictionary ( it is a collection of key & value pairs, mutable, keys are unique, values may ot not be unique)"
   ]
  },
  {
   "cell_type": "code",
   "execution_count": 1,
   "id": "644b1144-aed6-4687-b453-beb4e5666f07",
   "metadata": {},
   "outputs": [
    {
     "name": "stdout",
     "output_type": "stream",
     "text": [
      "10 <class 'int'>\n",
      "25 <class 'str'>\n"
     ]
    }
   ],
   "source": [
    "a = 10\n",
    "print(a, type(a))\n",
    "b  = \"25\"\n",
    "print(b, type(b))\n"
   ]
  },
  {
   "cell_type": "code",
   "execution_count": 2,
   "id": "437ffce5-ecc3-4e73-b359-9830388e6d1d",
   "metadata": {},
   "outputs": [
    {
     "name": "stdout",
     "output_type": "stream",
     "text": [
      "10 <class 'str'>\n",
      "10.0 <class 'float'>\n"
     ]
    }
   ],
   "source": [
    "s = str(a)\n",
    "print(s, type(s))\n",
    "f = float(a)\n",
    "print(f, type(f))"
   ]
  },
  {
   "cell_type": "code",
   "execution_count": 3,
   "id": "1ede587a-2c13-4b75-9233-d9bbfac84495",
   "metadata": {},
   "outputs": [
    {
     "name": "stdout",
     "output_type": "stream",
     "text": [
      "25 <class 'int'>\n",
      "25.0 <class 'float'>\n"
     ]
    }
   ],
   "source": [
    " i = int(b)\n",
    "print(i ,type(i))\n",
    "f1 = float(b)\n",
    "\n",
    "print(f1, type(f1))"
   ]
  },
  {
   "cell_type": "code",
   "execution_count": null,
   "id": "a6f915d1-74e6-4063-8407-c8921c0215ce",
   "metadata": {},
   "outputs": [],
   "source": [
    "# str --> input(\"\")\n",
    "# int --> int(input())\n",
    "# float --> float(input())"
   ]
  },
  {
   "cell_type": "code",
   "execution_count": 1,
   "id": "a73be263-1121-4c09-9787-88e86963cbd4",
   "metadata": {},
   "outputs": [
    {
     "name": "stdin",
     "output_type": "stream",
     "text": [
      "enter  name Megha\n"
     ]
    },
    {
     "name": "stdout",
     "output_type": "stream",
     "text": [
      "Megha\n"
     ]
    }
   ],
   "source": [
    "a = input(\"enter  name:\")\n",
    "print(a)"
   ]
  },
  {
   "cell_type": "code",
   "execution_count": null,
   "id": "29d2f067-61d9-4637-bfa3-1b02a43b6c47",
   "metadata": {},
   "outputs": [],
   "source": [
    "print(\"width/2 =\", width/2)"
   ]
  },
  {
   "cell_type": "code",
   "execution_count": 2,
   "id": "f038fe88-e51e-4e9d-8fd1-7751aab62c5f",
   "metadata": {},
   "outputs": [
    {
     "name": "stdout",
     "output_type": "stream",
     "text": [
      "False\n"
     ]
    }
   ],
   "source": [
    "a = 10\n",
    "b = 15\n",
    "c = a == b \n",
    "print(c)"
   ]
  },
  {
   "cell_type": "code",
   "execution_count": 5,
   "id": "7c9301a1-0e85-4c7f-a671-2aa910e70072",
   "metadata": {},
   "outputs": [
    {
     "name": "stdout",
     "output_type": "stream",
     "text": [
      "10  - <class 'int'>\n"
     ]
    }
   ],
   "source": [
    "print(a,\" -\", type(a))"
   ]
  },
  {
   "cell_type": "code",
   "execution_count": 14,
   "id": "b6a36a73-88f7-4c30-91fe-288c46bf9bd8",
   "metadata": {},
   "outputs": [
    {
     "name": "stdout",
     "output_type": "stream",
     "text": [
      "325 <class 'str'>\n",
      "325 <class 'int'>\n",
      "375\n"
     ]
    }
   ],
   "source": [
    "b = 50\n",
    "a = \"325\"\n",
    "c = int(a)\n",
    "print(a, type(a))\n",
    "print(c, type(c))\n",
    "print(b+c)"
   ]
  },
  {
   "cell_type": "code",
   "execution_count": null,
   "id": "dbcb34d0-4bc4-4b6f-abb3-68166311f196",
   "metadata": {},
   "outputs": [],
   "source": [
    "a"
   ]
  },
  {
   "cell_type": "code",
   "execution_count": 2,
   "id": "93d97d1a-869f-4884-875a-ec588160d034",
   "metadata": {},
   "outputs": [
    {
     "name": "stdout",
     "output_type": "stream",
     "text": [
      "<class 'list'>\n",
      "<class 'tuple'>\n"
     ]
    }
   ],
   "source": [
    "lst = [ 2.5, 5, \"name\"]\n",
    "tup = (2.5, 5, \"name\")\n",
    "print(type(lst))\n",
    "print(type(tup))\n",
    "set = {}\n",
    "dict = {key, value}"
   ]
  },
  {
   "cell_type": "markdown",
   "id": "0fb22345-a6d5-43f6-83d1-5d7385254d4d",
   "metadata": {},
   "source": [
    "## type convertion"
   ]
  },
  {
   "cell_type": "code",
   "execution_count": 2,
   "id": "fe23ff56-241e-407c-9b62-0233c46e1398",
   "metadata": {},
   "outputs": [
    {
     "data": {
      "text/plain": [
       "int"
      ]
     },
     "execution_count": 2,
     "metadata": {},
     "output_type": "execute_result"
    }
   ],
   "source": [
    "a = 25\n",
    "type(a)"
   ]
  },
  {
   "cell_type": "code",
   "execution_count": 4,
   "id": "db34ab25-fbfa-4d7a-95ec-7dd96d7aae26",
   "metadata": {},
   "outputs": [
    {
     "name": "stdout",
     "output_type": "stream",
     "text": [
      "25.0\n",
      "<class 'float'>\n"
     ]
    }
   ],
   "source": [
    "f = float(a)\n",
    "print(f)\n",
    "print(type(f))"
   ]
  },
  {
   "cell_type": "code",
   "execution_count": 7,
   "id": "3f077ed2-44d4-4d7f-ae84-4a37fc0b03e8",
   "metadata": {},
   "outputs": [],
   "source": [
    "s =str(a)"
   ]
  },
  {
   "cell_type": "code",
   "execution_count": 8,
   "id": "111b35af-cea9-4788-b602-49d59c4e9901",
   "metadata": {},
   "outputs": [
    {
     "data": {
      "text/plain": [
       "str"
      ]
     },
     "execution_count": 8,
     "metadata": {},
     "output_type": "execute_result"
    }
   ],
   "source": [
    "type(s)"
   ]
  },
  {
   "cell_type": "code",
   "execution_count": 5,
   "id": "b842b91b-967e-41e6-b679-a63fa961f8a3",
   "metadata": {},
   "outputs": [
    {
     "name": "stdout",
     "output_type": "stream",
     "text": [
      "225.0\n",
      "<class 'float'>\n"
     ]
    }
   ],
   "source": [
    "f = 225.0\n",
    "print(f)\n",
    "print(type(f))"
   ]
  },
  {
   "cell_type": "code",
   "execution_count": 6,
   "id": "e8d2adf7-7897-432e-b5ba-4bbb2c93e1e0",
   "metadata": {},
   "outputs": [
    {
     "name": "stdout",
     "output_type": "stream",
     "text": [
      "225\n",
      "<class 'int'>\n"
     ]
    }
   ],
   "source": [
    "i = int(f)\n",
    "print(i)\n",
    "print(type(i))"
   ]
  },
  {
   "cell_type": "code",
   "execution_count": null,
   "id": "506134c4-560a-4714-9022-1d910609588f",
   "metadata": {},
   "outputs": [],
   "source": [
    "s = \"name\"\n",
    "print(s)\n",
    "print(type(s))"
   ]
  },
  {
   "cell_type": "code",
   "execution_count": null,
   "id": "ce443b96-a65a-4b33-8394-a148337491e4",
   "metadata": {},
   "outputs": [],
   "source": [
    "i = int(s)\n",
    "print(i)"
   ]
  },
  {
   "cell_type": "code",
   "execution_count": null,
   "id": "5cd55a4c-6e53-482d-81d8-4d1adf8fbec1",
   "metadata": {},
   "outputs": [],
   "source": []
  }
 ],
 "metadata": {
  "kernelspec": {
   "display_name": "Python 3 (ipykernel)",
   "language": "python",
   "name": "python3"
  },
  "language_info": {
   "codemirror_mode": {
    "name": "ipython",
    "version": 3
   },
   "file_extension": ".py",
   "mimetype": "text/x-python",
   "name": "python",
   "nbconvert_exporter": "python",
   "pygments_lexer": "ipython3",
   "version": "3.10.6"
  }
 },
 "nbformat": 4,
 "nbformat_minor": 5
}
