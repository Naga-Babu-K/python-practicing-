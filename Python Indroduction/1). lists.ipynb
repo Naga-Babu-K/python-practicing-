{
 "cells": [
  {
   "cell_type": "code",
   "execution_count": null,
   "id": "0b3c6b16-a9c9-4292-8b35-ac884282d338",
   "metadata": {},
   "outputs": [],
   "source": []
  },
  {
   "cell_type": "markdown",
   "id": "15094c40-eb20-43e4-a67b-9248a857050c",
   "metadata": {},
   "source": [
    "## List:\n",
    "- List is collection of diffrent data types ( 2.5, 5, \"Abhi\", \"megha\").\n",
    "- list is **mutable** (we can **add**, **remove**, **update**)means we can change the values. and **hashable**\n",
    "- List items are ordered, changeable, and allow duplicate values..\n",
    "- if we want to create list using square brackets [ ]\n",
    "- List items are indexed, the first item has index [0], the second item has index [1] etc."
   ]
  },
  {
   "cell_type": "markdown",
   "id": "67f79768-0479-4fad-86e4-d079d5923de0",
   "metadata": {},
   "source": [
    "## append()\n",
    "## extend()\n",
    "## insert()"
   ]
  },
  {
   "cell_type": "code",
   "execution_count": 1,
   "id": "3f3e14a2-cb5a-4b0b-84e5-688ce4f8d8e3",
   "metadata": {},
   "outputs": [
    {
     "name": "stdout",
     "output_type": "stream",
     "text": [
      "a\n",
      "b\n",
      "c\n",
      "d\n",
      "e\n",
      "f\n",
      "g\n",
      "h\n",
      "i\n",
      "j\n",
      "k\n",
      "l\n",
      "m\n",
      "a\n",
      "n\n",
      "o\n",
      "p\n",
      "q\n",
      "r\n",
      "s\n",
      "t\n",
      "u\n",
      "v\n",
      "w\n",
      "x\n",
      "y\n",
      "z\n"
     ]
    }
   ],
   "source": [
    "for i in \"abcdefghijklmanopqrstuvwxyz\":\n",
    "    print(i)"
   ]
  },
  {
   "cell_type": "code",
   "execution_count": 1,
   "id": "5d485ad2-8af5-4d96-909e-6344f51e8c70",
   "metadata": {},
   "outputs": [],
   "source": [
    "lst = [1,2,3,4, \"megha\", 25.6, True]"
   ]
  },
  {
   "cell_type": "code",
   "execution_count": 2,
   "id": "7643a18d-a29e-47bf-a195-d05b189d610e",
   "metadata": {},
   "outputs": [
    {
     "data": {
      "text/plain": [
       "[1, 2, 3, 4, 'megha', 25.6, True]"
      ]
     },
     "execution_count": 2,
     "metadata": {},
     "output_type": "execute_result"
    }
   ],
   "source": [
    "lst"
   ]
  },
  {
   "cell_type": "markdown",
   "id": "7d4be337-dbd2-4ca1-899e-c27cf6f0b664",
   "metadata": {},
   "source": [
    "## **append()** method\n",
    "- If you add new items to a list, the new items will be placed at the end of the list.\n"
   ]
  },
  {
   "cell_type": "code",
   "execution_count": 3,
   "id": "cf781f5f-24e6-4366-9a7f-2796ecfd8b1d",
   "metadata": {},
   "outputs": [
    {
     "data": {
      "text/plain": [
       "[1, 2, 3, 4, 'megha', 25.6, True, 'Omegha']"
      ]
     },
     "execution_count": 3,
     "metadata": {},
     "output_type": "execute_result"
    }
   ],
   "source": [
    "lst.append(\"Omegha\")\n",
    "lst"
   ]
  },
  {
   "cell_type": "code",
   "execution_count": 4,
   "id": "b135b5ca-25e6-407b-b2b9-55a53e6ba8c4",
   "metadata": {},
   "outputs": [],
   "source": [
    "li = [5,8,9,3,3,555555]"
   ]
  },
  {
   "cell_type": "code",
   "execution_count": 5,
   "id": "729c2812-9963-4461-8ab8-7032a94defb0",
   "metadata": {},
   "outputs": [
    {
     "data": {
      "text/plain": [
       "[1, 2, 3, 4, 'megha', 25.6, True, 'Omegha', 5, 8, 9, 3, 3, 555555]"
      ]
     },
     "execution_count": 5,
     "metadata": {},
     "output_type": "execute_result"
    }
   ],
   "source": [
    "lst.extend(li)\n",
    "lst"
   ]
  },
  {
   "cell_type": "code",
   "execution_count": 6,
   "id": "6043f5f8-5c1a-4327-a653-20edd40a71e3",
   "metadata": {},
   "outputs": [
    {
     "data": {
      "text/plain": [
       "[1,\n",
       " 2,\n",
       " 3,\n",
       " 4,\n",
       " 'megha',\n",
       " 25.6,\n",
       " True,\n",
       " 'Omegha',\n",
       " 5,\n",
       " 8,\n",
       " 9,\n",
       " 3,\n",
       " 3,\n",
       " 555555,\n",
       " [5, 8, 9, 3, 3, 555555]]"
      ]
     },
     "execution_count": 6,
     "metadata": {},
     "output_type": "execute_result"
    }
   ],
   "source": [
    "lst.append(li)\n",
    "lst"
   ]
  },
  {
   "cell_type": "code",
   "execution_count": 7,
   "id": "bfee5387-189d-49bb-a651-5b3dcb0e2081",
   "metadata": {},
   "outputs": [
    {
     "name": "stdout",
     "output_type": "stream",
     "text": [
      "0 1\n",
      "1 2\n",
      "2 3\n",
      "3 4\n",
      "4 megha\n",
      "5 25.6\n",
      "6 True\n",
      "7 Omegha\n",
      "8 5\n",
      "9 8\n",
      "10 9\n",
      "11 3\n",
      "12 3\n",
      "13 555555\n",
      "14 [5, 8, 9, 3, 3, 555555]\n"
     ]
    }
   ],
   "source": [
    "for i, v in enumerate(lst):\n",
    "    print(i, v)"
   ]
  },
  {
   "cell_type": "code",
   "execution_count": 8,
   "id": "dd67ed9f-0e84-419c-b0a6-4aa2c8f4540d",
   "metadata": {},
   "outputs": [
    {
     "data": {
      "text/plain": [
       "[1, 2, 3, 4, 'megha']"
      ]
     },
     "execution_count": 8,
     "metadata": {},
     "output_type": "execute_result"
    }
   ],
   "source": [
    "lst[0:5]"
   ]
  },
  {
   "cell_type": "code",
   "execution_count": 9,
   "id": "b3ed597a-82c5-47a6-89b2-e4f8160efec5",
   "metadata": {},
   "outputs": [
    {
     "ename": "TypeError",
     "evalue": "list.append() takes exactly one argument (2 given)",
     "output_type": "error",
     "traceback": [
      "\u001b[1;31m---------------------------------------------------------------------------\u001b[0m",
      "\u001b[1;31mTypeError\u001b[0m                                 Traceback (most recent call last)",
      "Cell \u001b[1;32mIn[9], line 1\u001b[0m\n\u001b[1;32m----> 1\u001b[0m \u001b[43mlst\u001b[49m\u001b[38;5;241;43m.\u001b[39;49m\u001b[43mappend\u001b[49m\u001b[43m(\u001b[49m\u001b[38;5;124;43m\"\u001b[39;49m\u001b[38;5;124;43mmegha\u001b[39;49m\u001b[38;5;124;43m\"\u001b[39;49m\u001b[43m,\u001b[49m\u001b[43m \u001b[49m\u001b[38;5;124;43m\"\u001b[39;49m\u001b[38;5;124;43momegha\u001b[39;49m\u001b[38;5;124;43m\"\u001b[39;49m\u001b[43m)\u001b[49m\n\u001b[0;32m      2\u001b[0m lst\n",
      "\u001b[1;31mTypeError\u001b[0m: list.append() takes exactly one argument (2 given)"
     ]
    }
   ],
   "source": [
    "lst.append(\"megha\", \"omegha\")\n",
    "lst"
   ]
  },
  {
   "cell_type": "code",
   "execution_count": null,
   "id": "6301e1ba-b839-4a62-b2b4-4ab4633553e6",
   "metadata": {},
   "outputs": [],
   "source": [
    "li = [9,10,15]\n",
    "li"
   ]
  },
  {
   "cell_type": "code",
   "execution_count": null,
   "id": "466fb534-dfef-4ba7-81be-9c660ac97459",
   "metadata": {},
   "outputs": [],
   "source": [
    "lst.extend(li)\n",
    "lst"
   ]
  },
  {
   "cell_type": "code",
   "execution_count": null,
   "id": "91ae66c2-67e8-436c-8d48-d61db74cd0c0",
   "metadata": {},
   "outputs": [],
   "source": [
    "len(lst)"
   ]
  },
  {
   "cell_type": "code",
   "execution_count": 10,
   "id": "633df191-e61c-4277-8ec1-7e01aae153e4",
   "metadata": {},
   "outputs": [
    {
     "name": "stdout",
     "output_type": "stream",
     "text": [
      "0 1\n",
      "1 2\n",
      "2 3\n",
      "3 4\n",
      "4 megha\n",
      "5 25.6\n",
      "6 True\n",
      "7 Omegha\n",
      "8 5\n",
      "9 8\n",
      "10 9\n",
      "11 3\n",
      "12 3\n",
      "13 555555\n",
      "14 [5, 8, 9, 3, 3, 555555]\n"
     ]
    }
   ],
   "source": [
    "for i,v in enumerate(lst):\n",
    "    print(i, v)"
   ]
  },
  {
   "cell_type": "code",
   "execution_count": 11,
   "id": "219e2c64-442a-4afd-90cd-54d3d0fc2bc0",
   "metadata": {},
   "outputs": [
    {
     "data": {
      "text/plain": [
       "[1, 2, 3, 4]"
      ]
     },
     "execution_count": 11,
     "metadata": {},
     "output_type": "execute_result"
    }
   ],
   "source": [
    "lst[0:4]"
   ]
  },
  {
   "cell_type": "code",
   "execution_count": 12,
   "id": "b19b1580-daeb-42e4-bd65-372f3c1e9306",
   "metadata": {},
   "outputs": [
    {
     "name": "stdout",
     "output_type": "stream",
     "text": [
      "None\n"
     ]
    }
   ],
   "source": [
    "a = lst.append(li)\n",
    "print(a)"
   ]
  },
  {
   "cell_type": "code",
   "execution_count": 13,
   "id": "e57e52e1-a367-4f0f-8647-23f75a828029",
   "metadata": {},
   "outputs": [
    {
     "data": {
      "text/plain": [
       "['ACE',\n",
       " 1,\n",
       " 2,\n",
       " 3,\n",
       " 4,\n",
       " 'megha',\n",
       " 25.6,\n",
       " True,\n",
       " 'Omegha',\n",
       " 5,\n",
       " 8,\n",
       " 9,\n",
       " 3,\n",
       " 3,\n",
       " 555555,\n",
       " [5, 8, 9, 3, 3, 555555],\n",
       " [5, 8, 9, 3, 3, 555555]]"
      ]
     },
     "execution_count": 13,
     "metadata": {},
     "output_type": "execute_result"
    }
   ],
   "source": [
    "lst.insert(0, \"ACE\")\n",
    "lst"
   ]
  },
  {
   "cell_type": "markdown",
   "id": "a701a040-7635-42ba-920a-6d1ec76c1e7e",
   "metadata": {},
   "source": [
    "## Ordered"
   ]
  },
  {
   "cell_type": "code",
   "execution_count": 2,
   "id": "4df66d6a-d71c-4fb0-a26a-1d2e2559d9ee",
   "metadata": {},
   "outputs": [
    {
     "data": {
      "text/plain": [
       "[1, 2, 3, 4]"
      ]
     },
     "execution_count": 2,
     "metadata": {},
     "output_type": "execute_result"
    }
   ],
   "source": [
    "# it means that the items have a defined order, and that order will not change.\n",
    "lst = []"
   ]
  },
  {
   "cell_type": "code",
   "execution_count": 4,
   "id": "bb3340ee-d31a-4a7b-93f3-792670c905a3",
   "metadata": {},
   "outputs": [],
   "source": [
    "# If you add new items to a list, the new items will be placed at the end of the list.\n",
    "lst.append(\"\")"
   ]
  },
  {
   "cell_type": "code",
   "execution_count": 14,
   "id": "f9d0db25-1830-499c-89b2-dce9e93798c0",
   "metadata": {},
   "outputs": [
    {
     "data": {
      "text/plain": [
       "[]"
      ]
     },
     "execution_count": 14,
     "metadata": {},
     "output_type": "execute_result"
    }
   ],
   "source": [
    "lst"
   ]
  },
  {
   "cell_type": "code",
   "execution_count": 10,
   "id": "97ada25a-7260-4c2b-ba75-aabcfce9dc0f",
   "metadata": {},
   "outputs": [],
   "source": [
    "lst.append(n)"
   ]
  },
  {
   "cell_type": "code",
   "execution_count": 7,
   "id": "f1054ebe-4454-4cd4-8ce7-7a9571dd982c",
   "metadata": {},
   "outputs": [],
   "source": [
    "lst[4]= \"Raju\""
   ]
  },
  {
   "cell_type": "code",
   "execution_count": 12,
   "id": "0ac369ad-4470-451c-ae35-2d030307973f",
   "metadata": {},
   "outputs": [],
   "source": [
    "lst.clear()"
   ]
  },
  {
   "cell_type": "code",
   "execution_count": 9,
   "id": "d9ae0b09-6260-4bd3-b1b6-b77859ad1895",
   "metadata": {},
   "outputs": [],
   "source": [
    "n = [5, 6, 4]"
   ]
  },
  {
   "cell_type": "code",
   "execution_count": 13,
   "id": "bd67cb73-f9b5-4ea5-bdb3-de6fef4d44c3",
   "metadata": {},
   "outputs": [
    {
     "data": {
      "text/plain": [
       "[]"
      ]
     },
     "execution_count": 13,
     "metadata": {},
     "output_type": "execute_result"
    }
   ],
   "source": [
    "lst"
   ]
  },
  {
   "cell_type": "code",
   "execution_count": null,
   "id": "ac455908-6473-4164-badf-aec2633b92d0",
   "metadata": {},
   "outputs": [],
   "source": []
  },
  {
   "cell_type": "markdown",
   "id": "cdc2230a-89ff-4e03-b10c-70018bce1298",
   "metadata": {},
   "source": [
    "## data removing methods \n",
    "- clear()\n",
    "- remove()\n",
    "- del\n",
    "- pop()  # pop method is removes the last value in list"
   ]
  },
  {
   "cell_type": "code",
   "execution_count": 14,
   "id": "60d1666c-86b7-4267-8e16-fd0454891999",
   "metadata": {},
   "outputs": [
    {
     "data": {
      "text/plain": [
       "['ACE',\n",
       " 1,\n",
       " 2,\n",
       " 3,\n",
       " 4,\n",
       " 'megha',\n",
       " 25.6,\n",
       " True,\n",
       " 'Omegha',\n",
       " 5,\n",
       " 8,\n",
       " 9,\n",
       " 3,\n",
       " 3,\n",
       " 555555,\n",
       " [5, 8, 9, 3, 3, 555555],\n",
       " [5, 8, 9, 3, 3, 555555]]"
      ]
     },
     "execution_count": 14,
     "metadata": {},
     "output_type": "execute_result"
    }
   ],
   "source": [
    "lst"
   ]
  },
  {
   "cell_type": "code",
   "execution_count": 15,
   "id": "0a75ffae-5bbb-4a9b-874e-8efc2b25f78c",
   "metadata": {},
   "outputs": [
    {
     "name": "stdout",
     "output_type": "stream",
     "text": [
      "[5, 8, 9, 3, 3, 555555]\n",
      "['ACE', 1, 2, 3, 4, 'megha', 25.6, True, 'Omegha', 5, 8, 9, 3, 3, 555555, [5, 8, 9, 3, 3, 555555]]\n"
     ]
    }
   ],
   "source": [
    "r = lst.pop()\n",
    "print(r)\n",
    "print(lst)"
   ]
  },
  {
   "cell_type": "code",
   "execution_count": 16,
   "id": "d317d1bc-2c8c-416b-8119-a5b0ae94b2d9",
   "metadata": {},
   "outputs": [
    {
     "data": {
      "text/plain": [
       "'megha'"
      ]
     },
     "execution_count": 16,
     "metadata": {},
     "output_type": "execute_result"
    }
   ],
   "source": [
    "lst.pop(5)"
   ]
  },
  {
   "cell_type": "code",
   "execution_count": 18,
   "id": "7dc9dd8a-efcd-4318-a751-0f19b691baf0",
   "metadata": {},
   "outputs": [
    {
     "data": {
      "text/plain": [
       "['ACE', 1, 2, 3, 4, 25.6, True, 5, 8, 9, 3, 3, 555555, [5, 8, 9, 3, 3, 555555]]"
      ]
     },
     "execution_count": 18,
     "metadata": {},
     "output_type": "execute_result"
    }
   ],
   "source": [
    "lst.remove(\"Omegha\")\n",
    "lst"
   ]
  },
  {
   "cell_type": "code",
   "execution_count": 13,
   "id": "3a7b7cfe-aa51-4bed-b5a6-3777ce2ab3b4",
   "metadata": {},
   "outputs": [
    {
     "data": {
      "text/plain": [
       "[5, 6, 4]"
      ]
     },
     "execution_count": 13,
     "metadata": {},
     "output_type": "execute_result"
    }
   ],
   "source": [
    "lst[9]"
   ]
  },
  {
   "cell_type": "code",
   "execution_count": 2,
   "id": "fd269ecb-7af9-43f7-8ec7-6fc08a4318f4",
   "metadata": {},
   "outputs": [
    {
     "ename": "NameError",
     "evalue": "name 'lst' is not defined",
     "output_type": "error",
     "traceback": [
      "\u001b[1;31m---------------------------------------------------------------------------\u001b[0m",
      "\u001b[1;31mNameError\u001b[0m                                 Traceback (most recent call last)",
      "Cell \u001b[1;32mIn[2], line 1\u001b[0m\n\u001b[1;32m----> 1\u001b[0m \u001b[43mlst\u001b[49m\n",
      "\u001b[1;31mNameError\u001b[0m: name 'lst' is not defined"
     ]
    }
   ],
   "source": [
    "lst"
   ]
  },
  {
   "cell_type": "code",
   "execution_count": null,
   "id": "615c3bed-a887-4f2a-9d28-b4746e969d7e",
   "metadata": {},
   "outputs": [],
   "source": []
  },
  {
   "cell_type": "code",
   "execution_count": null,
   "id": "bbaebf5b-b45c-4e9b-84cf-61a29b329ded",
   "metadata": {},
   "outputs": [],
   "source": []
  },
  {
   "cell_type": "code",
   "execution_count": 9,
   "id": "729082c3-50e3-4aac-8a4f-19af9e190984",
   "metadata": {},
   "outputs": [
    {
     "name": "stdout",
     "output_type": "stream",
     "text": [
      "<class 'list'>\n"
     ]
    }
   ],
   "source": [
    "print(type(lst))"
   ]
  },
  {
   "cell_type": "code",
   "execution_count": 10,
   "id": "ac39a994-334c-41ed-add6-b56c1cb99571",
   "metadata": {},
   "outputs": [
    {
     "data": {
      "text/plain": [
       "1"
      ]
     },
     "execution_count": 10,
     "metadata": {},
     "output_type": "execute_result"
    }
   ],
   "source": [
    "lst[0]"
   ]
  },
  {
   "cell_type": "code",
   "execution_count": 11,
   "id": "cff6cd45-7416-48d9-a71f-079cb8310aa9",
   "metadata": {},
   "outputs": [
    {
     "data": {
      "text/plain": [
       "([5, 5, 6],)"
      ]
     },
     "execution_count": 11,
     "metadata": {},
     "output_type": "execute_result"
    }
   ],
   "source": [
    "lst[5]"
   ]
  },
  {
   "cell_type": "code",
   "execution_count": null,
   "id": "f7ce06f5-5c25-4bce-ae2d-ce39bc3eb841",
   "metadata": {},
   "outputs": [],
   "source": []
  },
  {
   "cell_type": "code",
   "execution_count": null,
   "id": "9dc487d7-0650-419a-907f-fd5c0b1d4ca9",
   "metadata": {},
   "outputs": [],
   "source": []
  },
  {
   "cell_type": "code",
   "execution_count": null,
   "id": "d980ce34-a607-444d-b624-754c435da82c",
   "metadata": {},
   "outputs": [],
   "source": []
  },
  {
   "cell_type": "code",
   "execution_count": 5,
   "id": "dd83dfb0-c129-4287-bd37-c00163832142",
   "metadata": {},
   "outputs": [
    {
     "name": "stdout",
     "output_type": "stream",
     "text": [
      "[1, 2, 3, 4, ([5, 5, 6],)]\n"
     ]
    }
   ],
   "source": [
    "print(lst)"
   ]
  },
  {
   "cell_type": "code",
   "execution_count": 6,
   "id": "e5317388-cb68-43dc-b246-2d82ae146e28",
   "metadata": {},
   "outputs": [],
   "source": [
    "lst = [1,2,3,4]\n",
    "g = [5,5,6]"
   ]
  },
  {
   "cell_type": "code",
   "execution_count": 7,
   "id": "ded82761-6981-47db-9a88-bc45c5a274e3",
   "metadata": {},
   "outputs": [],
   "source": [
    "lst.append(g)"
   ]
  },
  {
   "cell_type": "code",
   "execution_count": 8,
   "id": "4d8025d1-3109-46e3-b220-b1cfa7caadea",
   "metadata": {},
   "outputs": [
    {
     "name": "stdout",
     "output_type": "stream",
     "text": [
      "[1, 2, 3, 4, [5, 5, 6]]\n"
     ]
    }
   ],
   "source": [
    "print(lst)"
   ]
  },
  {
   "cell_type": "code",
   "execution_count": 9,
   "id": "4e8b33f7-a1cb-44b1-ab3e-e0b2a06e72c3",
   "metadata": {},
   "outputs": [],
   "source": [
    "lst.extend(g)"
   ]
  },
  {
   "cell_type": "code",
   "execution_count": 14,
   "id": "28aa56d8-1ef6-47e9-a9a3-a9b0c5aed573",
   "metadata": {},
   "outputs": [
    {
     "data": {
      "text/plain": [
       "[5, 6, 4]"
      ]
     },
     "execution_count": 14,
     "metadata": {},
     "output_type": "execute_result"
    }
   ],
   "source": [
    "lst.pop()"
   ]
  },
  {
   "cell_type": "code",
   "execution_count": 1,
   "id": "e43b7416-a85e-46eb-bf44-983522cb90c6",
   "metadata": {},
   "outputs": [
    {
     "ename": "NameError",
     "evalue": "name 'lst' is not defined",
     "output_type": "error",
     "traceback": [
      "\u001b[1;31m---------------------------------------------------------------------------\u001b[0m",
      "\u001b[1;31mNameError\u001b[0m                                 Traceback (most recent call last)",
      "Cell \u001b[1;32mIn[1], line 1\u001b[0m\n\u001b[1;32m----> 1\u001b[0m \u001b[43mlst\u001b[49m\n",
      "\u001b[1;31mNameError\u001b[0m: name 'lst' is not defined"
     ]
    }
   ],
   "source": [
    "lst"
   ]
  },
  {
   "cell_type": "code",
   "execution_count": 58,
   "id": "c629cde1-b8ad-4112-8f0b-57143bdebaf3",
   "metadata": {},
   "outputs": [
    {
     "data": {
      "text/plain": [
       "3"
      ]
     },
     "execution_count": 58,
     "metadata": {},
     "output_type": "execute_result"
    }
   ],
   "source": [
    "lst.pop()"
   ]
  },
  {
   "cell_type": "code",
   "execution_count": null,
   "id": "2771109b-d7f9-4854-8775-e543da4c610c",
   "metadata": {},
   "outputs": [],
   "source": []
  },
  {
   "cell_type": "code",
   "execution_count": 16,
   "id": "0e37c905-01c8-4b70-bc8a-a2f154b87d79",
   "metadata": {},
   "outputs": [],
   "source": [
    "lst.append(6)"
   ]
  },
  {
   "cell_type": "code",
   "execution_count": 17,
   "id": "add79660-fefb-4aa7-bb38-6a0ad3c2a28b",
   "metadata": {},
   "outputs": [
    {
     "data": {
      "text/plain": [
       "[1, 2, 3, 4, 5, 6]"
      ]
     },
     "execution_count": 17,
     "metadata": {},
     "output_type": "execute_result"
    }
   ],
   "source": [
    "lst"
   ]
  },
  {
   "cell_type": "code",
   "execution_count": 2,
   "id": "4890e74f-581f-49ed-b3d3-ca5a852e383c",
   "metadata": {},
   "outputs": [
    {
     "name": "stdout",
     "output_type": "stream",
     "text": [
      "10 20 30 "
     ]
    }
   ],
   "source": [
    "l = [10,20,30,40]\n",
    "for m in l:\n",
    "    print(m, end= \" \")\n",
    "    if m>=30:\n",
    "        break"
   ]
  },
  {
   "cell_type": "markdown",
   "id": "a9a1b664-821b-40bf-b8f4-abb7bba05e6c",
   "metadata": {},
   "source": [
    "## Modifying, Adding, and Removing Elements"
   ]
  },
  {
   "cell_type": "code",
   "execution_count": 12,
   "id": "060c53b6-4d0a-4cd0-ba61-616ad3b68f5f",
   "metadata": {},
   "outputs": [],
   "source": [
    "motorcycles = ['honda', 'yamaha', 'suzuki']"
   ]
  },
  {
   "cell_type": "code",
   "execution_count": 13,
   "id": "763d59b2-ffeb-4186-b60f-237fb81c1eb2",
   "metadata": {},
   "outputs": [
    {
     "name": "stdout",
     "output_type": "stream",
     "text": [
      "['honda', 'yamaha', 'suzuki']\n"
     ]
    }
   ],
   "source": [
    "print(motorcycles)"
   ]
  },
  {
   "cell_type": "code",
   "execution_count": 14,
   "id": "f53b9d2d-f434-438f-91b5-0ea4b07866fb",
   "metadata": {},
   "outputs": [
    {
     "name": "stdout",
     "output_type": "stream",
     "text": [
      "['ducati', 'yamaha', 'suzuki']\n"
     ]
    }
   ],
   "source": [
    "motorcycles[0] = 'ducati'\n",
    "print(motorcycles)"
   ]
  },
  {
   "cell_type": "markdown",
   "id": "4e0f3159-b608-4d28-b159-19b867458b11",
   "metadata": {},
   "source": [
    "## Adding Elements to a List\n",
    "- You might want to add a new element to a list for many reasons.\n",
    "- append() :- One element we can add\n",
    "- insert() :-  By using index we can add new value \n",
    "- extend() :- By using multiple values"
   ]
  },
  {
   "cell_type": "code",
   "execution_count": 1,
   "id": "94e0e62d-91fe-4dd6-9edc-e83696c9c710",
   "metadata": {},
   "outputs": [
    {
     "name": "stdout",
     "output_type": "stream",
     "text": [
      "['honda', 'yamaha', 'suzuki']\n",
      "['honda', 'yamaha', 'suzuki', 'ducati']\n"
     ]
    }
   ],
   "source": [
    "# The simplest way to add a new element to a list is to append the item to the list.\n",
    "#When you append an item to a list, the new element is added to the end of the list.\n",
    "\n",
    "motorcycles = ['honda', 'yamaha', 'suzuki']\n",
    "print(motorcycles)\n",
    "motorcycles.append('ducati')\n",
    "print(motorcycles)"
   ]
  },
  {
   "cell_type": "markdown",
   "id": "9ac1f43d-925c-44d2-92da-75dbca98240f",
   "metadata": {},
   "source": [
    "## Inserting Elements into a List\n",
    "- You can add a new element at any position in your list by using the insert() method."
   ]
  },
  {
   "cell_type": "code",
   "execution_count": 3,
   "id": "2ac625a2-e61c-4576-a240-f7ceac179ee2",
   "metadata": {},
   "outputs": [
    {
     "data": {
      "text/plain": [
       "['honda', 'yamaha', 'suzuki']"
      ]
     },
     "execution_count": 3,
     "metadata": {},
     "output_type": "execute_result"
    }
   ],
   "source": [
    "motorcycles = ['honda', 'yamaha', 'suzuki']\n",
    "motorcycles"
   ]
  },
  {
   "cell_type": "code",
   "execution_count": 8,
   "id": "b26cb821-c985-4e96-a2ef-070ae3e19b12",
   "metadata": {},
   "outputs": [
    {
     "name": "stdout",
     "output_type": "stream",
     "text": [
      "['ducati', 'honda', 'yamaha', 'suzuki']\n"
     ]
    }
   ],
   "source": [
    "motorcycles.insert(0, 'ducati')\n",
    "print(motorcycles)"
   ]
  },
  {
   "cell_type": "code",
   "execution_count": 1,
   "id": "145bd336-2fff-48bc-ba98-533d4ecb446a",
   "metadata": {},
   "outputs": [
    {
     "name": "stdout",
     "output_type": "stream",
     "text": [
      "['bmw', 'audi', 'toyota', 'subaru']\n"
     ]
    }
   ],
   "source": [
    "cars = ['bmw', 'audi', 'toyota', 'subaru']\n",
    "print(cars)"
   ]
  },
  {
   "cell_type": "code",
   "execution_count": 4,
   "id": "c6d24034-f5ea-478b-8ac7-827324209f12",
   "metadata": {},
   "outputs": [
    {
     "data": {
      "text/plain": [
       "['bmw', 'audi', 'toyota', 'subaru', 'honda', 'yamaha', 'suzuki']"
      ]
     },
     "execution_count": 4,
     "metadata": {},
     "output_type": "execute_result"
    }
   ],
   "source": [
    "cars.extend(motorcycles)\n",
    "cars"
   ]
  },
  {
   "cell_type": "markdown",
   "id": "368596b7-d8bf-4f5e-bb26-53d224e6737d",
   "metadata": {},
   "source": [
    "## Deleting Elements from a List\n",
    "- Often, you’ll want to remove an item or a set of items from a list.\n",
    "- You can remove an item according to its position in the list or according to its value.\n",
    "- pop() # The pop() method removes the last item in a list, but it lets you work with that item after removing it.\n",
    "- del() # If you know the position of the item you want to remove from a list, you can use the del statement:\n",
    "- remove() # based on value we can remove.\n",
    "- clear() # clear will deleting all values in a list."
   ]
  },
  {
   "cell_type": "code",
   "execution_count": null,
   "id": "51c52b8b-3c05-4aa2-873c-fc92a1e85448",
   "metadata": {},
   "outputs": [],
   "source": [
    "cars"
   ]
  },
  {
   "cell_type": "markdown",
   "id": "6d4334d0-d2c2-457a-842e-4e39be9835e0",
   "metadata": {},
   "source": [
    "## Removing an Item Using the del Statement\n",
    "- If you know the position of the item you want to remove from a list, you can use the del statement:"
   ]
  },
  {
   "cell_type": "code",
   "execution_count": null,
   "id": "3a93796e-8013-44c3-a949-17552a34c802",
   "metadata": {},
   "outputs": [],
   "source": []
  },
  {
   "cell_type": "code",
   "execution_count": 32,
   "id": "ff580aa0-607e-4a2f-9e96-084e0cd3cbc0",
   "metadata": {},
   "outputs": [
    {
     "name": "stdout",
     "output_type": "stream",
     "text": [
      "['honda', 'yamaha', 'suzuki']\n",
      "['yamaha', 'suzuki']\n"
     ]
    }
   ],
   "source": [
    "motorcycles = ['honda', 'yamaha', 'suzuki']\n",
    "print(motorcycles)\n",
    "\n",
    "\n",
    "del motorcycles[0]\n",
    "print(motorcycles)\n",
    "# Here we use the del statement to remove the first item, 'honda', from the list of motorcycles:"
   ]
  },
  {
   "cell_type": "code",
   "execution_count": 6,
   "id": "7913e534-35af-4a8d-9560-892adc998006",
   "metadata": {},
   "outputs": [
    {
     "name": "stdout",
     "output_type": "stream",
     "text": [
      "['honda', 'yamaha', 'suzuki']\n",
      "['honda', 'yamaha']\n",
      "suzuki\n"
     ]
    }
   ],
   "source": [
    "motorcycles = ['honda', 'yamaha', 'suzuki']\n",
    "print(motorcycles)\n",
    "popped_motorcycle = motorcycles.pop()\n",
    "print(motorcycles)\n",
    "print(popped_motorcycle)"
   ]
  },
  {
   "cell_type": "code",
   "execution_count": 9,
   "id": "a7a1ebc3-1f21-4617-8dff-39673081547e",
   "metadata": {},
   "outputs": [
    {
     "name": "stdout",
     "output_type": "stream",
     "text": [
      "['honda', 'yamaha', 'suzuki', 'ducati']\n",
      "['honda', 'suzuki', 'ducati']\n"
     ]
    }
   ],
   "source": [
    "# Sometimes you won’t know the position of the value you want to remove from a list. If you only know the value of the item you want to remove, you can use the remove() method\n",
    "motorcycles = ['honda', 'yamaha', 'suzuki', 'ducati']\n",
    "print(motorcycles)\n",
    "motorcycles.remove(\"yamaha\")\n",
    "print(motorcycles)"
   ]
  },
  {
   "cell_type": "markdown",
   "id": "45b8da27-e99b-4a1a-b65e-41d18702c1a1",
   "metadata": {},
   "source": [
    "# Organizing a List\n",
    "- Python provides a number of different ways to organize your lists, depending on the situation\n",
    "## Sorting a List Permanently with the sort() Method\n",
    "- Python’s **sort()** method makes it relatively easy to sort a list.\n",
    "- magine we have a list of cars and want to change the order of the list to store them alphabetically.\n",
    "- To keep the task simple, let’s assume that all the values in the list are lowercase"
   ]
  },
  {
   "cell_type": "code",
   "execution_count": 3,
   "id": "75a6e4a0-ac10-4b89-a444-3f15dfb5e6e1",
   "metadata": {},
   "outputs": [
    {
     "name": "stdout",
     "output_type": "stream",
     "text": [
      "['audi', 'bmw', 'subaru', 'toyota']\n"
     ]
    }
   ],
   "source": [
    "cars = ['bmw', 'audi', 'toyota', 'subaru']\n",
    "cars.sort()\n",
    "print(cars)"
   ]
  },
  {
   "cell_type": "code",
   "execution_count": 10,
   "id": "5eb09621-8208-4b99-a909-99a7ffd0790e",
   "metadata": {},
   "outputs": [
    {
     "data": {
      "text/plain": [
       "['audi', 'bmw', 'subaru', 'toyota']"
      ]
     },
     "execution_count": 10,
     "metadata": {},
     "output_type": "execute_result"
    }
   ],
   "source": [
    "# The sort() method changes the order of the list permanently. The cars are now in alphabetical order, and we can never revert to the original order:\n",
    "cars"
   ]
  },
  {
   "cell_type": "code",
   "execution_count": 12,
   "id": "810050d6-a2a2-4276-845b-7885da5db053",
   "metadata": {},
   "outputs": [
    {
     "name": "stdout",
     "output_type": "stream",
     "text": [
      "['toyota', 'subaru', 'bmw', 'audi']\n"
     ]
    }
   ],
   "source": [
    "# You can also sort this list in \"reverse-alphabetical\" order by passing the argument reverse=True to the sort() method.\n",
    "cars = ['bmw', 'audi', 'toyota', 'subaru']\n",
    "cars.sort(reverse=True)\n",
    "print(cars)"
   ]
  },
  {
   "cell_type": "markdown",
   "id": "f4a3a318-b5fe-4c8e-ba37-29063c2e2cf2",
   "metadata": {},
   "source": [
    "## Sorting a List Temporarily with the sorted() Function\n",
    "- To maintain the original order of a list but present it in a sorted order, you can use the sorted() function. The sorted() function lets you display your list in a particular order, but doesn’t affect the actual order of the list."
   ]
  },
  {
   "cell_type": "code",
   "execution_count": 13,
   "id": "429e3e6a-31bf-4632-86c3-ec587f63a54c",
   "metadata": {},
   "outputs": [
    {
     "name": "stdout",
     "output_type": "stream",
     "text": [
      "Here is the original list:\n",
      "['bmw', 'audi', 'toyota', 'subaru']\n",
      "\n",
      "Here is the sorted list:\n",
      "['audi', 'bmw', 'subaru', 'toyota']\n",
      "\n",
      "Here is the original list again:\n",
      "['bmw', 'audi', 'toyota', 'subaru']\n"
     ]
    }
   ],
   "source": [
    "cars = ['bmw', '   audi', 'toyota', 'subaru']\n",
    "print(\"Here is the original list:\")\n",
    "print(cars)\n",
    "print(\"\\nHere is the sorted list:\")\n",
    "print(sorted(cars))\n",
    "print(\"\\nHere is the original list again:\")\n",
    "print(cars)"
   ]
  },
  {
   "cell_type": "markdown",
   "id": "a8203a5e-538f-4705-b2c9-2763f4bb9bca",
   "metadata": {},
   "source": [
    "# Printing a List in Reverse Order\n",
    "- To reverse the original order of a list, you can use the reverse() method."
   ]
  },
  {
   "cell_type": "code",
   "execution_count": 15,
   "id": "d57cb58d-5369-42de-8e4f-d7c9b2209048",
   "metadata": {},
   "outputs": [
    {
     "name": "stdout",
     "output_type": "stream",
     "text": [
      "['bmw', 'audi', 'toyota', 'subaru']\n",
      "['subaru', 'toyota', 'audi', 'bmw']\n"
     ]
    }
   ],
   "source": [
    "cars = ['bmw', 'audi', 'toyota', 'subaru']\n",
    "print(cars)\n",
    "cars.reverse()\n",
    "print(cars)"
   ]
  },
  {
   "cell_type": "markdown",
   "id": "66536be6-2305-4285-9d6d-4eb6a49ec961",
   "metadata": {},
   "source": [
    "# Finding the Length of a List\n",
    "- You can quickly find the length of a list by using the len() function."
   ]
  },
  {
   "cell_type": "code",
   "execution_count": 16,
   "id": "eab839ec-fefd-498e-9576-e4a56a69a4c3",
   "metadata": {},
   "outputs": [
    {
     "data": {
      "text/plain": [
       "4"
      ]
     },
     "execution_count": 16,
     "metadata": {},
     "output_type": "execute_result"
    }
   ],
   "source": [
    "cars = ['bmw', 'audi', 'toyota', 'subaru']\n",
    "len(cars)"
   ]
  },
  {
   "cell_type": "markdown",
   "id": "d80702e5-dcc8-422f-a76a-875090e50bdb",
   "metadata": {},
   "source": [
    "## list methods\n",
    "- append()\n",
    "- clear()\n",
    "- copy()\n",
    "- count()\n",
    "- extend()\n",
    "- index()\n",
    "- insert()\n",
    "- pop()\n",
    "- remove()\n",
    "- reverse()\n",
    "- sort()"
   ]
  },
  {
   "cell_type": "markdown",
   "id": "3f96e30b-2748-4feb-895b-ec28115c68c7",
   "metadata": {},
   "source": [
    "## Searching\n",
    "- Index (return index)"
   ]
  },
  {
   "cell_type": "markdown",
   "id": "7256c0be-dd25-46f2-9764-7d03318da996",
   "metadata": {},
   "source": [
    "## Others\n",
    "- copy() # cpoy means shallow copy \n",
    "- sort()"
   ]
  },
  {
   "cell_type": "code",
   "execution_count": 1,
   "id": "de0944b3-03f2-40cf-8adc-c52ec9f97f62",
   "metadata": {},
   "outputs": [],
   "source": [
    "cars = ['bmw', 'audi', 'toyota', 'subaru', \"bmw\"]"
   ]
  },
  {
   "cell_type": "code",
   "execution_count": 11,
   "id": "e4c4a653-1148-4be4-94c2-ce9d15ab4e99",
   "metadata": {},
   "outputs": [],
   "source": [
    "lst.append(\"pass\")"
   ]
  },
  {
   "cell_type": "code",
   "execution_count": 3,
   "id": "62e5f877-a1e1-4a54-aa5a-19fa5fc2a76e",
   "metadata": {},
   "outputs": [
    {
     "data": {
      "text/plain": [
       "['bmw', 'audi', 'toyota', 'subaru', 'bmw']"
      ]
     },
     "execution_count": 3,
     "metadata": {},
     "output_type": "execute_result"
    }
   ],
   "source": [
    "a  = cars.copy()\n",
    "a"
   ]
  },
  {
   "cell_type": "code",
   "execution_count": 10,
   "id": "fbb859c0-da63-4560-8aff-dda5ada5222c",
   "metadata": {},
   "outputs": [
    {
     "data": {
      "text/plain": [
       "['bmw', 'audi', 'toyota', 'subaru', 'bmw']"
      ]
     },
     "execution_count": 10,
     "metadata": {},
     "output_type": "execute_result"
    }
   ],
   "source": [
    "a"
   ]
  },
  {
   "cell_type": "code",
   "execution_count": 4,
   "id": "905edf5a-8dd5-408e-9514-3823aa0f8650",
   "metadata": {},
   "outputs": [
    {
     "data": {
      "text/plain": [
       "['bmw', 'audi', 'toyota', 'subaru', 'bmw']"
      ]
     },
     "execution_count": 4,
     "metadata": {},
     "output_type": "execute_result"
    }
   ],
   "source": [
    "s = a[:]# this is another way of the copy the data.\n",
    "s"
   ]
  },
  {
   "cell_type": "code",
   "execution_count": 15,
   "id": "464683df-1f03-4be6-be28-feeb55393922",
   "metadata": {},
   "outputs": [
    {
     "data": {
      "text/plain": [
       "[1, 2, 3, 4, 'naga', 25.6, True, 'audi', 'bmw', 'subaru', 'toyota', 'pass']"
      ]
     },
     "execution_count": 15,
     "metadata": {},
     "output_type": "execute_result"
    }
   ],
   "source": [
    "s"
   ]
  },
  {
   "cell_type": "markdown",
   "id": "7ceb1242-6e0d-4342-bf23-8bcebf9aac28",
   "metadata": {},
   "source": [
    "## Clear()\n",
    "- clear will delete all elements ln alist"
   ]
  },
  {
   "cell_type": "code",
   "execution_count": 11,
   "id": "409c580b-ad3f-4cb1-b1e8-03e777e251aa",
   "metadata": {},
   "outputs": [
    {
     "data": {
      "text/plain": [
       "[]"
      ]
     },
     "execution_count": 11,
     "metadata": {},
     "output_type": "execute_result"
    }
   ],
   "source": [
    "a.clear()\n",
    "a"
   ]
  },
  {
   "cell_type": "code",
   "execution_count": 11,
   "id": "d2e77503-7899-40fc-89aa-6725bd680949",
   "metadata": {},
   "outputs": [
    {
     "data": {
      "text/plain": [
       "2"
      ]
     },
     "execution_count": 11,
     "metadata": {},
     "output_type": "execute_result"
    }
   ],
   "source": [
    "a.count(\"bmw\")"
   ]
  },
  {
   "cell_type": "code",
   "execution_count": 19,
   "id": "3bde9522-b030-4264-b307-5bb23a1bfd3d",
   "metadata": {},
   "outputs": [
    {
     "data": {
      "text/plain": [
       "25.6"
      ]
     },
     "execution_count": 19,
     "metadata": {},
     "output_type": "execute_result"
    }
   ],
   "source": [
    "lst[5]"
   ]
  },
  {
   "cell_type": "code",
   "execution_count": 13,
   "id": "0ed7669a-0948-40a9-89a0-526d0a2d66c4",
   "metadata": {},
   "outputs": [
    {
     "data": {
      "text/plain": [
       "1"
      ]
     },
     "execution_count": 13,
     "metadata": {},
     "output_type": "execute_result"
    }
   ],
   "source": [
    "a.index(\"audi\")"
   ]
  },
  {
   "cell_type": "code",
   "execution_count": 25,
   "id": "cc12bcd4-0f1f-47be-8528-7c19147e7f09",
   "metadata": {},
   "outputs": [
    {
     "name": "stdout",
     "output_type": "stream",
     "text": [
      "Help on class list in module builtins:\n",
      "\n",
      "class list(object)\n",
      " |  list(iterable=(), /)\n",
      " |  \n",
      " |  Built-in mutable sequence.\n",
      " |  \n",
      " |  If no argument is given, the constructor creates a new empty list.\n",
      " |  The argument must be an iterable if specified.\n",
      " |  \n",
      " |  Methods defined here:\n",
      " |  \n",
      " |  __add__(self, value, /)\n",
      " |      Return self+value.\n",
      " |  \n",
      " |  __contains__(self, key, /)\n",
      " |      Return key in self.\n",
      " |  \n",
      " |  __delitem__(self, key, /)\n",
      " |      Delete self[key].\n",
      " |  \n",
      " |  __eq__(self, value, /)\n",
      " |      Return self==value.\n",
      " |  \n",
      " |  __ge__(self, value, /)\n",
      " |      Return self>=value.\n",
      " |  \n",
      " |  __getattribute__(self, name, /)\n",
      " |      Return getattr(self, name).\n",
      " |  \n",
      " |  __getitem__(...)\n",
      " |      x.__getitem__(y) <==> x[y]\n",
      " |  \n",
      " |  __gt__(self, value, /)\n",
      " |      Return self>value.\n",
      " |  \n",
      " |  __iadd__(self, value, /)\n",
      " |      Implement self+=value.\n",
      " |  \n",
      " |  __imul__(self, value, /)\n",
      " |      Implement self*=value.\n",
      " |  \n",
      " |  __init__(self, /, *args, **kwargs)\n",
      " |      Initialize self.  See help(type(self)) for accurate signature.\n",
      " |  \n",
      " |  __iter__(self, /)\n",
      " |      Implement iter(self).\n",
      " |  \n",
      " |  __le__(self, value, /)\n",
      " |      Return self<=value.\n",
      " |  \n",
      " |  __len__(self, /)\n",
      " |      Return len(self).\n",
      " |  \n",
      " |  __lt__(self, value, /)\n",
      " |      Return self<value.\n",
      " |  \n",
      " |  __mul__(self, value, /)\n",
      " |      Return self*value.\n",
      " |  \n",
      " |  __ne__(self, value, /)\n",
      " |      Return self!=value.\n",
      " |  \n",
      " |  __repr__(self, /)\n",
      " |      Return repr(self).\n",
      " |  \n",
      " |  __reversed__(self, /)\n",
      " |      Return a reverse iterator over the list.\n",
      " |  \n",
      " |  __rmul__(self, value, /)\n",
      " |      Return value*self.\n",
      " |  \n",
      " |  __setitem__(self, key, value, /)\n",
      " |      Set self[key] to value.\n",
      " |  \n",
      " |  __sizeof__(self, /)\n",
      " |      Return the size of the list in memory, in bytes.\n",
      " |  \n",
      " |  append(self, object, /)\n",
      " |      Append object to the end of the list.\n",
      " |  \n",
      " |  clear(self, /)\n",
      " |      Remove all items from list.\n",
      " |  \n",
      " |  copy(self, /)\n",
      " |      Return a shallow copy of the list.\n",
      " |  \n",
      " |  count(self, value, /)\n",
      " |      Return number of occurrences of value.\n",
      " |  \n",
      " |  extend(self, iterable, /)\n",
      " |      Extend list by appending elements from the iterable.\n",
      " |  \n",
      " |  index(self, value, start=0, stop=9223372036854775807, /)\n",
      " |      Return first index of value.\n",
      " |      \n",
      " |      Raises ValueError if the value is not present.\n",
      " |  \n",
      " |  insert(self, index, object, /)\n",
      " |      Insert object before index.\n",
      " |  \n",
      " |  pop(self, index=-1, /)\n",
      " |      Remove and return item at index (default last).\n",
      " |      \n",
      " |      Raises IndexError if list is empty or index is out of range.\n",
      " |  \n",
      " |  remove(self, value, /)\n",
      " |      Remove first occurrence of value.\n",
      " |      \n",
      " |      Raises ValueError if the value is not present.\n",
      " |  \n",
      " |  reverse(self, /)\n",
      " |      Reverse *IN PLACE*.\n",
      " |  \n",
      " |  sort(self, /, *, key=None, reverse=False)\n",
      " |      Sort the list in ascending order and return None.\n",
      " |      \n",
      " |      The sort is in-place (i.e. the list itself is modified) and stable (i.e. the\n",
      " |      order of two equal elements is maintained).\n",
      " |      \n",
      " |      If a key function is given, apply it once to each list item and sort them,\n",
      " |      ascending or descending, according to their function values.\n",
      " |      \n",
      " |      The reverse flag can be set to sort in descending order.\n",
      " |  \n",
      " |  ----------------------------------------------------------------------\n",
      " |  Class methods defined here:\n",
      " |  \n",
      " |  __class_getitem__(...) from builtins.type\n",
      " |      See PEP 585\n",
      " |  \n",
      " |  ----------------------------------------------------------------------\n",
      " |  Static methods defined here:\n",
      " |  \n",
      " |  __new__(*args, **kwargs) from builtins.type\n",
      " |      Create and return a new object.  See help(type) for accurate signature.\n",
      " |  \n",
      " |  ----------------------------------------------------------------------\n",
      " |  Data and other attributes defined here:\n",
      " |  \n",
      " |  __hash__ = None\n",
      "\n"
     ]
    }
   ],
   "source": [
    "help(list)"
   ]
  },
  {
   "cell_type": "markdown",
   "id": "cff5a2a5-8f8b-4306-a7cb-345d5f8c73fb",
   "metadata": {},
   "source": [
    "## DeepCopy()"
   ]
  },
  {
   "cell_type": "code",
   "execution_count": 27,
   "id": "447a5fd5-e8ed-4353-92e6-c75ae3b2c37b",
   "metadata": {},
   "outputs": [],
   "source": [
    "# deepcopy is functuion which will come from the copy libarary\n",
    "from copy import deepcopy\n",
    "l5 =deepcopy(12)"
   ]
  },
  {
   "cell_type": "code",
   "execution_count": 28,
   "id": "74680347-e90e-4d54-a78f-5f420f8e585a",
   "metadata": {},
   "outputs": [
    {
     "data": {
      "text/plain": [
       "12"
      ]
     },
     "execution_count": 28,
     "metadata": {},
     "output_type": "execute_result"
    }
   ],
   "source": [
    "l5"
   ]
  },
  {
   "cell_type": "code",
   "execution_count": 30,
   "id": "3f2091fa-6a90-4e6e-8e98-59b72a43fd3f",
   "metadata": {},
   "outputs": [
    {
     "data": {
      "text/plain": [
       "[[1, 2, 3], [4, 5, 6], [7, 8, 9]]"
      ]
     },
     "execution_count": 30,
     "metadata": {},
     "output_type": "execute_result"
    }
   ],
   "source": [
    "lst = [[1,2,3], [4,5,6], [7,8,9]]\n",
    "lst"
   ]
  },
  {
   "cell_type": "code",
   "execution_count": 32,
   "id": "f136b26f-954a-4861-9117-09b12dc42ca1",
   "metadata": {},
   "outputs": [
    {
     "data": {
      "text/plain": [
       "['my', 'name', 'is', 'naga']"
      ]
     },
     "execution_count": 32,
     "metadata": {},
     "output_type": "execute_result"
    }
   ],
   "source": [
    "\"my name is naga\".split(\" \")"
   ]
  },
  {
   "cell_type": "markdown",
   "id": "358f5239-ba7b-4452-829a-67a3826faea7",
   "metadata": {},
   "source": [
    "## extend\n",
    "- The extend is used to extend our current list with another list"
   ]
  },
  {
   "cell_type": "code",
   "execution_count": 6,
   "id": "18cbeea5-d251-4196-9616-a27d5e37c500",
   "metadata": {},
   "outputs": [],
   "source": [
    "# append is add  only one element ata time\n",
    "# if we want to add multiple elements at a time we can use extend\n",
    "lst.extend(cars)"
   ]
  },
  {
   "cell_type": "code",
   "execution_count": 7,
   "id": "a4a4ba7b-4da7-4953-8cbc-3abea930d1a1",
   "metadata": {},
   "outputs": [
    {
     "data": {
      "text/plain": [
       "[1, 2, 3, 4, 'naga', 25.6, True, 'audi', 'bmw', 'subaru', 'toyota']"
      ]
     },
     "execution_count": 7,
     "metadata": {},
     "output_type": "execute_result"
    }
   ],
   "source": [
    "lst"
   ]
  },
  {
   "cell_type": "markdown",
   "id": "f3836cd4-2bcd-4908-9b9c-1dfd42f1aa07",
   "metadata": {},
   "source": [
    "## Reverse\n",
    "- reverse method will reverse the all elements"
   ]
  },
  {
   "cell_type": "code",
   "execution_count": 18,
   "id": "8ca32b07-eee9-40fe-9398-374c2922f4ab",
   "metadata": {},
   "outputs": [
    {
     "data": {
      "text/plain": [
       "[1, 2, 3, 4, 'naga', 25.6, True, 'audi', 'bmw', 'subaru', 'toyota', 'pass']"
      ]
     },
     "execution_count": 18,
     "metadata": {},
     "output_type": "execute_result"
    }
   ],
   "source": [
    "lst.reverse()\n",
    "lst"
   ]
  },
  {
   "cell_type": "code",
   "execution_count": 19,
   "id": "a6eb3f1b-7c99-4b85-9650-e23565ea13b6",
   "metadata": {},
   "outputs": [
    {
     "data": {
      "text/plain": [
       "['pass', 'toyota', 'subaru', 'bmw', 'audi', True, 25.6, 'naga', 4, 3, 2, 1]"
      ]
     },
     "execution_count": 19,
     "metadata": {},
     "output_type": "execute_result"
    }
   ],
   "source": [
    "lst.reverse()\n",
    "lst"
   ]
  },
  {
   "cell_type": "code",
   "execution_count": null,
   "id": "42a84e54-99de-4050-a2ef-cfddf0731bff",
   "metadata": {},
   "outputs": [],
   "source": []
  },
  {
   "cell_type": "code",
   "execution_count": 12,
   "id": "6a55002a-728b-45d1-abfa-8f8cdc4fee51",
   "metadata": {},
   "outputs": [
    {
     "name": "stdout",
     "output_type": "stream",
     "text": [
      "<class 'tuple'>\n",
      "[2, 4, 6, 8, 21, 45, 66]\n",
      "<class 'list'>\n"
     ]
    }
   ],
   "source": [
    "h1=(2,4,6,8,21,45,66)\n",
    "h1\n",
    "print(type(h1))\n",
    "j=list(h1)\n",
    "print(j)\n",
    "print(type(j))"
   ]
  },
  {
   "cell_type": "code",
   "execution_count": 3,
   "id": "bf2fc6b0-b229-4464-92a7-69f08fb5e765",
   "metadata": {},
   "outputs": [
    {
     "name": "stdin",
     "output_type": "stream",
     "text": [
      " 10\n"
     ]
    },
    {
     "ename": "TypeError",
     "evalue": "not all arguments converted during string formatting",
     "output_type": "error",
     "traceback": [
      "\u001b[1;31m---------------------------------------------------------------------------\u001b[0m",
      "\u001b[1;31mTypeError\u001b[0m                                 Traceback (most recent call last)",
      "Cell \u001b[1;32mIn[3], line 3\u001b[0m\n\u001b[0;32m      1\u001b[0m numbers \u001b[38;5;241m=\u001b[39m \u001b[38;5;28minput\u001b[39m()\n\u001b[0;32m      2\u001b[0m i \u001b[38;5;241m=\u001b[39m \u001b[38;5;28mint\u001b[39m(numbers)\n\u001b[1;32m----> 3\u001b[0m even_numbers \u001b[38;5;241m=\u001b[39m [num \u001b[38;5;28;01mfor\u001b[39;00m num \u001b[38;5;129;01min\u001b[39;00m numbers \u001b[38;5;28;01mif\u001b[39;00m num \u001b[38;5;241m%\u001b[39m \u001b[38;5;241m2\u001b[39m \u001b[38;5;241m==\u001b[39m \u001b[38;5;241m0\u001b[39m]\n\u001b[0;32m      4\u001b[0m \u001b[38;5;28mprint\u001b[39m(even_numbers)\n",
      "Cell \u001b[1;32mIn[3], line 3\u001b[0m, in \u001b[0;36m<listcomp>\u001b[1;34m(.0)\u001b[0m\n\u001b[0;32m      1\u001b[0m numbers \u001b[38;5;241m=\u001b[39m \u001b[38;5;28minput\u001b[39m()\n\u001b[0;32m      2\u001b[0m i \u001b[38;5;241m=\u001b[39m \u001b[38;5;28mint\u001b[39m(numbers)\n\u001b[1;32m----> 3\u001b[0m even_numbers \u001b[38;5;241m=\u001b[39m [num \u001b[38;5;28;01mfor\u001b[39;00m num \u001b[38;5;129;01min\u001b[39;00m numbers \u001b[38;5;28;01mif\u001b[39;00m \u001b[43mnum\u001b[49m\u001b[43m \u001b[49m\u001b[38;5;241;43m%\u001b[39;49m\u001b[43m \u001b[49m\u001b[38;5;241;43m2\u001b[39;49m \u001b[38;5;241m==\u001b[39m \u001b[38;5;241m0\u001b[39m]\n\u001b[0;32m      4\u001b[0m \u001b[38;5;28mprint\u001b[39m(even_numbers)\n",
      "\u001b[1;31mTypeError\u001b[0m: not all arguments converted during string formatting"
     ]
    }
   ],
   "source": [
    "numbers = input()\n",
    "numbers = int(numbers)\n",
    "even_numbers = [num for num in numbers if num % 2 == 0]\n",
    "print(even_numbers)"
   ]
  },
  {
   "cell_type": "code",
   "execution_count": null,
   "id": "3f7bb8ae-b57d-4ba9-8c91-cd107419770c",
   "metadata": {},
   "outputs": [],
   "source": []
  }
 ],
 "metadata": {
  "kernelspec": {
   "display_name": "Python 3 (ipykernel)",
   "language": "python",
   "name": "python3"
  },
  "language_info": {
   "codemirror_mode": {
    "name": "ipython",
    "version": 3
   },
   "file_extension": ".py",
   "mimetype": "text/x-python",
   "name": "python",
   "nbconvert_exporter": "python",
   "pygments_lexer": "ipython3",
   "version": "3.10.6"
  }
 },
 "nbformat": 4,
 "nbformat_minor": 5
}
