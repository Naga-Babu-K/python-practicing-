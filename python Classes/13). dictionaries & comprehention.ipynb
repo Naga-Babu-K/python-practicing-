{
 "cells": [
  {
   "cell_type": "markdown",
   "id": "0dbd1315-d9d8-415e-ab0f-620528912dbe",
   "metadata": {},
   "source": [
    "## Dictionary\n",
    "- Dictionaries are defined byusing  { } flower braces\n",
    "- key, value pair\n",
    "- **key** is like a dictionary word\n",
    "- **value** like dictionary meaning\n",
    "- key, value pairs separated by using : Operator\n",
    "- each pair is separated using comma \",\"\n",
    "\n",
    "- Dictionary keys are case sensitive: the same name but different cases of Key will be treated distinctly.\n",
    "- Keys must be immutable: This means keys can be strings, numbers, or tuples but not lists.\n",
    "- Keys must be unique: Duplicate keys are not allowed and any duplicate key will overwrite the previous value.\n",
    "- Dictionary internally uses Hashing. Hence, operations like search, insert, delete can be performed in Constant Time. "
   ]
  },
  {
   "cell_type": "code",
   "execution_count": null,
   "id": "f549a548-7b97-4b91-9ad3-061af17032b1",
   "metadata": {},
   "outputs": [],
   "source": [
    "[ ] # list brackets [1, 2, 3, 5, 5, 6, ]\n",
    "( ) # tuples\n",
    "{ } # with flower braces we can create  sets and dictionary\n",
    "{ } key : values"
   ]
  },
  {
   "cell_type": "code",
   "execution_count": 10,
   "id": "50851cf6-4928-4b56-b03f-94f65716990b",
   "metadata": {},
   "outputs": [
    {
     "name": "stdout",
     "output_type": "stream",
     "text": [
      "{'name': ['Pallavi', 'jahnavi', 'Bindu', 'Manasa'], 'Department': 'AIML'}\n"
     ]
    }
   ],
   "source": [
    "di  = { \"name\" : [\"Pallavi\", \"jahnavi\", \"Bindu\", \"Manasa\"],\n",
    "      \"Department\" : \"AIML\"\n",
    "      }\n",
    "print(di)"
   ]
  },
  {
   "cell_type": "code",
   "execution_count": 11,
   "id": "38746a0d-e217-41b2-8fa6-e4f3cdc6f5c1",
   "metadata": {},
   "outputs": [
    {
     "name": "stdout",
     "output_type": "stream",
     "text": [
      "['Pallavi', 'jahnavi', 'Bindu', 'Manasa']\n"
     ]
    }
   ],
   "source": [
    "print(di[\"name\"])"
   ]
  },
  {
   "cell_type": "code",
   "execution_count": null,
   "id": "72fa153f-3101-4b87-a29a-8fea2b7c1b47",
   "metadata": {},
   "outputs": [],
   "source": [
    "# when we say that dictionaries are not ordered. It menas there is no guarantee that it will print in ordered.\n",
    "# it can even print  in order but python, documntation\n",
    "# unordered means that the items do not have a defined order, you cannot refer to an item by uing an index"
   ]
  },
  {
   "cell_type": "code",
   "execution_count": null,
   "id": "92fdae7f-8ee5-4221-a193-f4dd7454c265",
   "metadata": {},
   "outputs": [],
   "source": [
    "# Changeable:\n",
    "# dictionaries cannot have two items with  the same key "
   ]
  },
  {
   "cell_type": "code",
   "execution_count": 32,
   "id": "9653fd9b-91c4-4330-befd-f2c9828a5d8d",
   "metadata": {},
   "outputs": [
    {
     "name": "stdout",
     "output_type": "stream",
     "text": [
      "{'name': 'johnny', 'batch': ' Online', 'year': 2024}\n"
     ]
    }
   ],
   "source": [
    "thisdi = { \"name\" : \"johnny\",\n",
    "         \"batch\" : \" Online\",\n",
    "         \"year\": 2025,\n",
    "         \"year\": 2024\n",
    "         }\n",
    "\n",
    "print(thisdi)"
   ]
  },
  {
   "cell_type": "code",
   "execution_count": 6,
   "id": "2fa89211-8ea5-40fa-b48b-d73645e6ee49",
   "metadata": {},
   "outputs": [
    {
     "name": "stdout",
     "output_type": "stream",
     "text": [
      "3\n"
     ]
    }
   ],
   "source": [
    "print(len(thisdi))"
   ]
  },
  {
   "cell_type": "code",
   "execution_count": 3,
   "id": "177c015e-0094-454e-8b77-e9a6c5dc5790",
   "metadata": {},
   "outputs": [
    {
     "name": "stdout",
     "output_type": "stream",
     "text": [
      "{'brand': 'BMW', 'elctiric': False, 'year': 1964, 'colors': ['red', 'white', 'blue', 'yellow']}\n"
     ]
    }
   ],
   "source": [
    "dic = {\"brand\": \"BMW\",\n",
    "      \"elctiric\" : False,\n",
    "      \"year\": 1964,\n",
    "      \"colors\": [\"red\", \"white\", \"blue\", \"yellow\"]\n",
    "      } \n",
    "\n",
    "print(dic)"
   ]
  },
  {
   "cell_type": "code",
   "execution_count": 4,
   "id": "9f20e54d-8db3-4446-a4b7-09fc2ebd2d4d",
   "metadata": {},
   "outputs": [
    {
     "name": "stdout",
     "output_type": "stream",
     "text": [
      "<class 'dict'>\n"
     ]
    }
   ],
   "source": [
    "print(type(dic))"
   ]
  },
  {
   "cell_type": "code",
   "execution_count": 16,
   "id": "383e75a2-d77e-4ecf-a586-d8393cff3663",
   "metadata": {},
   "outputs": [
    {
     "name": "stdout",
     "output_type": "stream",
     "text": [
      "{'name': 'jhonny', 'age': 23, 'country': 'india'}\n"
     ]
    }
   ],
   "source": [
    "# a = list(1,23,4,5,67,8) # list(), []\n",
    "# b = tuple(1,2,5,3,6,8,9) # tuple (), ()\n",
    "# dict \n",
    "div = dict( name = \"jhonny\",\n",
    "age = 23,\n",
    "country = \"india\")\n",
    "\n",
    "print(div)"
   ]
  },
  {
   "cell_type": "code",
   "execution_count": 17,
   "id": "ec955a5f-501d-4bb5-8103-938ba6bc2723",
   "metadata": {},
   "outputs": [
    {
     "ename": "KeyError",
     "evalue": "'batch'",
     "output_type": "error",
     "traceback": [
      "\u001b[1;31m---------------------------------------------------------------------------\u001b[0m",
      "\u001b[1;31mKeyError\u001b[0m                                  Traceback (most recent call last)",
      "Cell \u001b[1;32mIn[17], line 1\u001b[0m\n\u001b[1;32m----> 1\u001b[0m \u001b[38;5;28mprint\u001b[39m(\u001b[43mdi\u001b[49m\u001b[43m[\u001b[49m\u001b[38;5;124;43m\"\u001b[39;49m\u001b[38;5;124;43mbatch\u001b[39;49m\u001b[38;5;124;43m\"\u001b[39;49m\u001b[43m]\u001b[49m)\n",
      "\u001b[1;31mKeyError\u001b[0m: 'batch'"
     ]
    }
   ],
   "source": [
    "print(di[\"batch\"])"
   ]
  },
  {
   "cell_type": "code",
   "execution_count": 18,
   "id": "4ca96870-3950-4780-8939-97610f2e1be5",
   "metadata": {},
   "outputs": [
    {
     "data": {
      "text/plain": [
       "['red', 'white', 'blue', 'yellow']"
      ]
     },
     "execution_count": 18,
     "metadata": {},
     "output_type": "execute_result"
    }
   ],
   "source": [
    "dic.get(\"colors\")"
   ]
  },
  {
   "cell_type": "code",
   "execution_count": 19,
   "id": "fb71cf8f-cd53-42a8-8992-3f6979d65413",
   "metadata": {},
   "outputs": [
    {
     "ename": "NameError",
     "evalue": "name 'd' is not defined",
     "output_type": "error",
     "traceback": [
      "\u001b[1;31m---------------------------------------------------------------------------\u001b[0m",
      "\u001b[1;31mNameError\u001b[0m                                 Traceback (most recent call last)",
      "Cell \u001b[1;32mIn[19], line 1\u001b[0m\n\u001b[1;32m----> 1\u001b[0m \u001b[43md\u001b[49m\n",
      "\u001b[1;31mNameError\u001b[0m: name 'd' is not defined"
     ]
    }
   ],
   "source": [
    "d"
   ]
  },
  {
   "cell_type": "code",
   "execution_count": 20,
   "id": "1076347a-ca27-4609-a80f-3b6f14b0aaf2",
   "metadata": {},
   "outputs": [
    {
     "data": {
      "text/plain": [
       "['red', 'white', 'blue', 'yellow']"
      ]
     },
     "execution_count": 20,
     "metadata": {},
     "output_type": "execute_result"
    }
   ],
   "source": [
    "dic[\"colors\"]"
   ]
  },
  {
   "cell_type": "code",
   "execution_count": 21,
   "id": "d7599a2d-47c3-4981-82fb-fa9f2b838f2f",
   "metadata": {},
   "outputs": [
    {
     "data": {
      "text/plain": [
       "dict_keys(['brand', 'elctiric', 'year', 'colors'])"
      ]
     },
     "execution_count": 21,
     "metadata": {},
     "output_type": "execute_result"
    }
   ],
   "source": [
    "# the keys() method will return a list of all the keys in the dictionary\n",
    "# the klist of keys is a view of the dictionary, meaning that any changes done to the dicionary will be reflected in the keys list \n",
    "x =dic.keys()\n",
    "x"
   ]
  },
  {
   "cell_type": "markdown",
   "id": "7f0826a1-ca69-4a59-9c4b-7ad1a7a1db56",
   "metadata": {},
   "source": [
    "## changes values\n",
    "- can change the value of a specific item by referring to its key name"
   ]
  },
  {
   "cell_type": "code",
   "execution_count": 22,
   "id": "640fad68-80b2-48a4-85ee-8f8172c2a99d",
   "metadata": {},
   "outputs": [
    {
     "data": {
      "text/plain": [
       "{'name': 'johnny', 'batch': ' Online', 'year': 2024}"
      ]
     },
     "execution_count": 22,
     "metadata": {},
     "output_type": "execute_result"
    }
   ],
   "source": [
    "thisdi = { \"name\" : \"johnny\",\n",
    "         \"batch\" : \" Online\",\n",
    "         \"year\": 2025,\n",
    "         \"year\": 2024\n",
    "         }\n",
    "\n",
    "\n",
    "thisdi"
   ]
  },
  {
   "cell_type": "code",
   "execution_count": 23,
   "id": "52f6fa8d-9f84-4cff-aad6-15915d43c533",
   "metadata": {},
   "outputs": [
    {
     "data": {
      "text/plain": [
       "2024"
      ]
     },
     "execution_count": 23,
     "metadata": {},
     "output_type": "execute_result"
    }
   ],
   "source": [
    "thisdi[\"year\"]"
   ]
  },
  {
   "cell_type": "code",
   "execution_count": 24,
   "id": "254b41a3-e180-4d57-a259-d62bd3ca4ba0",
   "metadata": {},
   "outputs": [
    {
     "data": {
      "text/plain": [
       "3"
      ]
     },
     "execution_count": 24,
     "metadata": {},
     "output_type": "execute_result"
    }
   ],
   "source": [
    "    len(thisdi.items())"
   ]
  },
  {
   "cell_type": "code",
   "execution_count": 25,
   "id": "597a3da5-5d83-485d-8837-ec2abec27a6e",
   "metadata": {},
   "outputs": [
    {
     "data": {
      "text/plain": [
       "dict_items([('name', 'johnny'), ('batch', ' Online'), ('year', 2024)])"
      ]
     },
     "execution_count": 25,
     "metadata": {},
     "output_type": "execute_result"
    }
   ],
   "source": [
    "thisdi.items()"
   ]
  },
  {
   "cell_type": "code",
   "execution_count": 26,
   "id": "5d9d6b7f-78ff-469c-b9f4-139f5411fb53",
   "metadata": {},
   "outputs": [
    {
     "data": {
      "text/plain": [
       "('year', 2024)"
      ]
     },
     "execution_count": 26,
     "metadata": {},
     "output_type": "execute_result"
    }
   ],
   "source": [
    "thisdi.popitem()"
   ]
  },
  {
   "cell_type": "code",
   "execution_count": 27,
   "id": "45ededf8-ad55-4662-9dbf-577142f6df91",
   "metadata": {},
   "outputs": [
    {
     "data": {
      "text/plain": [
       "' Online'"
      ]
     },
     "execution_count": 27,
     "metadata": {},
     "output_type": "execute_result"
    }
   ],
   "source": [
    "thisdi.pop(\"batch\")"
   ]
  },
  {
   "cell_type": "code",
   "execution_count": 28,
   "id": "2b26c243-d44a-4153-8f53-76faa6290544",
   "metadata": {},
   "outputs": [
    {
     "data": {
      "text/plain": [
       "{'name': 'johnny'}"
      ]
     },
     "execution_count": 28,
     "metadata": {},
     "output_type": "execute_result"
    }
   ],
   "source": [
    "thisdi"
   ]
  },
  {
   "cell_type": "code",
   "execution_count": 29,
   "id": "9c409b85-4d55-4aac-80a2-19b18c83aff9",
   "metadata": {},
   "outputs": [
    {
     "data": {
      "text/plain": [
       "dict_values(['johnny'])"
      ]
     },
     "execution_count": 29,
     "metadata": {},
     "output_type": "execute_result"
    }
   ],
   "source": [
    "thisdi.values()"
   ]
  },
  {
   "cell_type": "code",
   "execution_count": 30,
   "id": "af535203-2ec6-4ad7-b50f-ff369c4c4a9a",
   "metadata": {},
   "outputs": [],
   "source": [
    "li = [1,2,3,4,65,6]"
   ]
  },
  {
   "cell_type": "code",
   "execution_count": 13,
   "id": "785be5d1-4e18-4584-8733-45127c874d6f",
   "metadata": {},
   "outputs": [
    {
     "data": {
      "text/plain": [
       "[1, 2, 3, 4, 65, 6]"
      ]
     },
     "execution_count": 13,
     "metadata": {},
     "output_type": "execute_result"
    }
   ],
   "source": [
    "a = li.copy()\n",
    "a"
   ]
  },
  {
   "cell_type": "code",
   "execution_count": 14,
   "id": "a99ca1db-bcd8-4bd7-84eb-1ddca5bd4975",
   "metadata": {},
   "outputs": [
    {
     "data": {
      "text/plain": [
       "[1, 2, 3, 4, 65, 6, 56]"
      ]
     },
     "execution_count": 14,
     "metadata": {},
     "output_type": "execute_result"
    }
   ],
   "source": [
    "a.append(56)\n",
    "a"
   ]
  },
  {
   "cell_type": "code",
   "execution_count": 15,
   "id": "278b89a1-819e-4104-b11a-537c1f74fb84",
   "metadata": {},
   "outputs": [
    {
     "data": {
      "text/plain": [
       "[1, 2, 3, 4, 65, 6]"
      ]
     },
     "execution_count": 15,
     "metadata": {},
     "output_type": "execute_result"
    }
   ],
   "source": [
    "li"
   ]
  },
  {
   "cell_type": "code",
   "execution_count": null,
   "id": "94db2657-3eed-4178-847e-f05e436602f1",
   "metadata": {},
   "outputs": [],
   "source": []
  },
  {
   "cell_type": "code",
   "execution_count": 9,
   "id": "8decfb16-f198-40e7-88eb-2bfb5bbb8c31",
   "metadata": {},
   "outputs": [
    {
     "name": "stdout",
     "output_type": "stream",
     "text": [
      "Help on class dict in module builtins:\n",
      "\n",
      "class dict(object)\n",
      " |  dict() -> new empty dictionary\n",
      " |  dict(mapping) -> new dictionary initialized from a mapping object's\n",
      " |      (key, value) pairs\n",
      " |  dict(iterable) -> new dictionary initialized as if via:\n",
      " |      d = {}\n",
      " |      for k, v in iterable:\n",
      " |          d[k] = v\n",
      " |  dict(**kwargs) -> new dictionary initialized with the name=value pairs\n",
      " |      in the keyword argument list.  For example:  dict(one=1, two=2)\n",
      " |  \n",
      " |  Built-in subclasses:\n",
      " |      StgDict\n",
      " |  \n",
      " |  Methods defined here:\n",
      " |  \n",
      " |  __contains__(self, key, /)\n",
      " |      True if the dictionary has the specified key, else False.\n",
      " |  \n",
      " |  __delitem__(self, key, /)\n",
      " |      Delete self[key].\n",
      " |  \n",
      " |  __eq__(self, value, /)\n",
      " |      Return self==value.\n",
      " |  \n",
      " |  __ge__(self, value, /)\n",
      " |      Return self>=value.\n",
      " |  \n",
      " |  __getattribute__(self, name, /)\n",
      " |      Return getattr(self, name).\n",
      " |  \n",
      " |  __getitem__(...)\n",
      " |      x.__getitem__(y) <==> x[y]\n",
      " |  \n",
      " |  __gt__(self, value, /)\n",
      " |      Return self>value.\n",
      " |  \n",
      " |  __init__(self, /, *args, **kwargs)\n",
      " |      Initialize self.  See help(type(self)) for accurate signature.\n",
      " |  \n",
      " |  __ior__(self, value, /)\n",
      " |      Return self|=value.\n",
      " |  \n",
      " |  __iter__(self, /)\n",
      " |      Implement iter(self).\n",
      " |  \n",
      " |  __le__(self, value, /)\n",
      " |      Return self<=value.\n",
      " |  \n",
      " |  __len__(self, /)\n",
      " |      Return len(self).\n",
      " |  \n",
      " |  __lt__(self, value, /)\n",
      " |      Return self<value.\n",
      " |  \n",
      " |  __ne__(self, value, /)\n",
      " |      Return self!=value.\n",
      " |  \n",
      " |  __or__(self, value, /)\n",
      " |      Return self|value.\n",
      " |  \n",
      " |  __repr__(self, /)\n",
      " |      Return repr(self).\n",
      " |  \n",
      " |  __reversed__(self, /)\n",
      " |      Return a reverse iterator over the dict keys.\n",
      " |  \n",
      " |  __ror__(self, value, /)\n",
      " |      Return value|self.\n",
      " |  \n",
      " |  __setitem__(self, key, value, /)\n",
      " |      Set self[key] to value.\n",
      " |  \n",
      " |  __sizeof__(...)\n",
      " |      D.__sizeof__() -> size of D in memory, in bytes\n",
      " |  \n",
      " |  clear(...)\n",
      " |      D.clear() -> None.  Remove all items from D.\n",
      " |  \n",
      " |  copy(...)\n",
      " |      D.copy() -> a shallow copy of D\n",
      " |  \n",
      " |  get(self, key, default=None, /)\n",
      " |      Return the value for key if key is in the dictionary, else default.\n",
      " |  \n",
      " |  items(...)\n",
      " |      D.items() -> a set-like object providing a view on D's items\n",
      " |  \n",
      " |  keys(...)\n",
      " |      D.keys() -> a set-like object providing a view on D's keys\n",
      " |  \n",
      " |  pop(...)\n",
      " |      D.pop(k[,d]) -> v, remove specified key and return the corresponding value.\n",
      " |      \n",
      " |      If the key is not found, return the default if given; otherwise,\n",
      " |      raise a KeyError.\n",
      " |  \n",
      " |  popitem(self, /)\n",
      " |      Remove and return a (key, value) pair as a 2-tuple.\n",
      " |      \n",
      " |      Pairs are returned in LIFO (last-in, first-out) order.\n",
      " |      Raises KeyError if the dict is empty.\n",
      " |  \n",
      " |  setdefault(self, key, default=None, /)\n",
      " |      Insert key with a value of default if key is not in the dictionary.\n",
      " |      \n",
      " |      Return the value for key if key is in the dictionary, else default.\n",
      " |  \n",
      " |  update(...)\n",
      " |      D.update([E, ]**F) -> None.  Update D from dict/iterable E and F.\n",
      " |      If E is present and has a .keys() method, then does:  for k in E: D[k] = E[k]\n",
      " |      If E is present and lacks a .keys() method, then does:  for k, v in E: D[k] = v\n",
      " |      In either case, this is followed by: for k in F:  D[k] = F[k]\n",
      " |  \n",
      " |  values(...)\n",
      " |      D.values() -> an object providing a view on D's values\n",
      " |  \n",
      " |  ----------------------------------------------------------------------\n",
      " |  Class methods defined here:\n",
      " |  \n",
      " |  __class_getitem__(...) from builtins.type\n",
      " |      See PEP 585\n",
      " |  \n",
      " |  fromkeys(iterable, value=None, /) from builtins.type\n",
      " |      Create a new dictionary with keys from iterable and values set to value.\n",
      " |  \n",
      " |  ----------------------------------------------------------------------\n",
      " |  Static methods defined here:\n",
      " |  \n",
      " |  __new__(*args, **kwargs) from builtins.type\n",
      " |      Create and return a new object.  See help(type) for accurate signature.\n",
      " |  \n",
      " |  ----------------------------------------------------------------------\n",
      " |  Data and other attributes defined here:\n",
      " |  \n",
      " |  __hash__ = None\n",
      "\n"
     ]
    }
   ],
   "source": [
    "help(dict)"
   ]
  },
  {
   "cell_type": "code",
   "execution_count": 21,
   "id": "a0570aaf-1060-4fb3-9db7-76930c47c8aa",
   "metadata": {},
   "outputs": [
    {
     "data": {
      "text/plain": [
       "{'name': 'johnny', 'batch': ' Online', 'year': 2025}"
      ]
     },
     "execution_count": 21,
     "metadata": {},
     "output_type": "execute_result"
    }
   ],
   "source": [
    "thisdi = { \"name\" : \"johnny\",\n",
    "         \"batch\" : \" Online\",\n",
    "         \"year\": 2025\n",
    "         }\n",
    "\n",
    "\n",
    "thisdi"
   ]
  },
  {
   "cell_type": "code",
   "execution_count": null,
   "id": "d9c8c8e4-7d72-4742-9997-1e067e9532b8",
   "metadata": {},
   "outputs": [],
   "source": [
    "thisdi.clear()"
   ]
  },
  {
   "cell_type": "code",
   "execution_count": null,
   "id": "e0e93c86-97bb-4b01-8cea-4bfee1de25df",
   "metadata": {},
   "outputs": [],
   "source": [
    "thisdi.copy()"
   ]
  },
  {
   "cell_type": "code",
   "execution_count": 24,
   "id": "997a3419-ffcb-4ed2-a9bd-bb2acd0c281f",
   "metadata": {},
   "outputs": [
    {
     "data": {
      "text/plain": [
       "dict_items([('name', 'johnny'), ('batch', ' Online'), ('year', 2025)])"
      ]
     },
     "execution_count": 24,
     "metadata": {},
     "output_type": "execute_result"
    }
   ],
   "source": [
    "thisdi.items()"
   ]
  },
  {
   "cell_type": "code",
   "execution_count": 25,
   "id": "fb44a01b-3e40-4e8d-aa55-aa865e7c41c1",
   "metadata": {},
   "outputs": [
    {
     "data": {
      "text/plain": [
       "3"
      ]
     },
     "execution_count": 25,
     "metadata": {},
     "output_type": "execute_result"
    }
   ],
   "source": [
    "len(thisdi.items())"
   ]
  },
  {
   "cell_type": "code",
   "execution_count": 26,
   "id": "ea060ca8-a4ef-4c9d-9776-2272648e219c",
   "metadata": {},
   "outputs": [
    {
     "data": {
      "text/plain": [
       "dict_keys(['name', 'batch', 'year'])"
      ]
     },
     "execution_count": 26,
     "metadata": {},
     "output_type": "execute_result"
    }
   ],
   "source": [
    "thisdi.keys()"
   ]
  },
  {
   "cell_type": "code",
   "execution_count": 27,
   "id": "ded8aea2-f9db-4f84-a2df-b3c1e53f0a48",
   "metadata": {},
   "outputs": [
    {
     "data": {
      "text/plain": [
       "dict_values(['johnny', ' Online', 2025])"
      ]
     },
     "execution_count": 27,
     "metadata": {},
     "output_type": "execute_result"
    }
   ],
   "source": [
    "thisdi.values()"
   ]
  },
  {
   "cell_type": "code",
   "execution_count": 30,
   "id": "5f0aa63a-18e7-4e63-b413-52904df88195",
   "metadata": {},
   "outputs": [
    {
     "data": {
      "text/plain": [
       "2025"
      ]
     },
     "execution_count": 30,
     "metadata": {},
     "output_type": "execute_result"
    }
   ],
   "source": [
    "thisdi.pop(\"year\")"
   ]
  },
  {
   "cell_type": "code",
   "execution_count": 31,
   "id": "5f6e03e0-5327-48b4-9b40-a8c45cd95e58",
   "metadata": {},
   "outputs": [
    {
     "data": {
      "text/plain": [
       "('batch', ' Online')"
      ]
     },
     "execution_count": 31,
     "metadata": {},
     "output_type": "execute_result"
    }
   ],
   "source": [
    "thisdi.popitem()"
   ]
  },
  {
   "cell_type": "code",
   "execution_count": 32,
   "id": "462e7526-fe24-443a-99ef-23f6dd608058",
   "metadata": {},
   "outputs": [
    {
     "data": {
      "text/plain": [
       "{'name': 'johnny'}"
      ]
     },
     "execution_count": 32,
     "metadata": {},
     "output_type": "execute_result"
    }
   ],
   "source": [
    "thisdi"
   ]
  },
  {
   "cell_type": "markdown",
   "id": "1a24293e-8205-46af-a961-6523605fcabd",
   "metadata": {},
   "source": [
    "## Adding"
   ]
  },
  {
   "cell_type": "code",
   "execution_count": null,
   "id": "a607fd8e-57be-46b2-9565-7a06b528be29",
   "metadata": {},
   "outputs": [],
   "source": [
    "## adding single key, value, pair\n",
    "dictionary_name[new_key]= new_value\n"
   ]
  },
  {
   "cell_type": "code",
   "execution_count": 33,
   "id": "c7359c35-5bc2-4030-87fa-4f91ffce48d5",
   "metadata": {},
   "outputs": [
    {
     "data": {
      "text/plain": [
       "{'name': 'johnny', 'batch': ' Online', 'year': 2024}"
      ]
     },
     "execution_count": 33,
     "metadata": {},
     "output_type": "execute_result"
    }
   ],
   "source": [
    "thisdi"
   ]
  },
  {
   "cell_type": "code",
   "execution_count": 34,
   "id": "ee38c414-4b0c-4325-a5dc-1789329d4ae9",
   "metadata": {},
   "outputs": [],
   "source": [
    "# you can not have duplicate keys, if tried ti add duplicate key, it will replace the value of that key\n",
    "thisdi[\"amount\"] = 150"
   ]
  },
  {
   "cell_type": "code",
   "execution_count": 35,
   "id": "a5760a95-b979-4eda-b3af-5bf660edf23d",
   "metadata": {},
   "outputs": [
    {
     "data": {
      "text/plain": [
       "{'name': 'johnny', 'batch': ' Online', 'year': 2024, 'amount': 150}"
      ]
     },
     "execution_count": 35,
     "metadata": {},
     "output_type": "execute_result"
    }
   ],
   "source": [
    "thisdi"
   ]
  },
  {
   "cell_type": "code",
   "execution_count": 36,
   "id": "6de5c6de-847a-4218-b4f0-feb6196078ad",
   "metadata": {},
   "outputs": [
    {
     "ename": "TypeError",
     "evalue": "unhashable type: 'list'",
     "output_type": "error",
     "traceback": [
      "\u001b[1;31m---------------------------------------------------------------------------\u001b[0m",
      "\u001b[1;31mTypeError\u001b[0m                                 Traceback (most recent call last)",
      "Cell \u001b[1;32mIn[36], line 2\u001b[0m\n\u001b[0;32m      1\u001b[0m \u001b[38;5;66;03m# keys must be hashable \u001b[39;00m\n\u001b[1;32m----> 2\u001b[0m \u001b[43mthisdi\u001b[49m\u001b[43m[\u001b[49m\u001b[43m[\u001b[49m\u001b[38;5;241;43m1\u001b[39;49m\u001b[43m,\u001b[49m\u001b[38;5;241;43m2\u001b[39;49m\u001b[43m,\u001b[49m\u001b[38;5;241;43m3\u001b[39;49m\u001b[43m]\u001b[49m\u001b[43m]\u001b[49m \u001b[38;5;241m=\u001b[39m \u001b[38;5;241m4\u001b[39m\n",
      "\u001b[1;31mTypeError\u001b[0m: unhashable type: 'list'"
     ]
    }
   ],
   "source": [
    "# keys must be hashable we cannot add this type of \n",
    "# keys must be of type immutable (int, float, string, tuple, )\n",
    "thisdi[[1,2,3]] = 4"
   ]
  },
  {
   "cell_type": "code",
   "execution_count": 37,
   "id": "248e46ca-d0be-46fb-8103-eab6fbbdaee9",
   "metadata": {},
   "outputs": [],
   "source": [
    "thisdi[1]= 2"
   ]
  },
  {
   "cell_type": "code",
   "execution_count": 38,
   "id": "c4b1cb58-f430-442a-8583-72e7d272715d",
   "metadata": {},
   "outputs": [
    {
     "data": {
      "text/plain": [
       "{'name': 'johnny', 'batch': ' Online', 'year': 2024, 'amount': 150, 1: 2}"
      ]
     },
     "execution_count": 38,
     "metadata": {},
     "output_type": "execute_result"
    }
   ],
   "source": [
    "thisdi"
   ]
  },
  {
   "cell_type": "code",
   "execution_count": 39,
   "id": "56e4a648-0800-49f5-bc2d-ac499d9b1907",
   "metadata": {},
   "outputs": [
    {
     "ename": "TypeError",
     "evalue": "unhashable type: 'list'",
     "output_type": "error",
     "traceback": [
      "\u001b[1;31m---------------------------------------------------------------------------\u001b[0m",
      "\u001b[1;31mTypeError\u001b[0m                                 Traceback (most recent call last)",
      "Cell \u001b[1;32mIn[39], line 1\u001b[0m\n\u001b[1;32m----> 1\u001b[0m \u001b[43mthisdi\u001b[49m\u001b[43m[\u001b[49m\u001b[43m[\u001b[49m\u001b[38;5;241;43m1\u001b[39;49m\u001b[43m,\u001b[49m\u001b[38;5;241;43m2\u001b[39;49m\u001b[43m,\u001b[49m\u001b[38;5;241;43m3\u001b[39;49m\u001b[43m,\u001b[49m\u001b[43m]\u001b[49m\u001b[43m]\u001b[49m  \u001b[38;5;241m=\u001b[39m\u001b[38;5;241m100\u001b[39m\n",
      "\u001b[1;31mTypeError\u001b[0m: unhashable type: 'list'"
     ]
    }
   ],
   "source": [
    "thisdi[[1,2,3,]]  =100"
   ]
  },
  {
   "cell_type": "markdown",
   "id": "603c0b9b-317c-4745-bb50-29860101b58e",
   "metadata": {},
   "source": [
    "## update  "
   ]
  },
  {
   "cell_type": "code",
   "execution_count": null,
   "id": "db57af17-140c-4483-83d1-4c53b4bd07d7",
   "metadata": {},
   "outputs": [],
   "source": []
  },
  {
   "cell_type": "code",
   "execution_count": null,
   "id": "afa34a0b-654d-4b71-a994-112dd5475d38",
   "metadata": {},
   "outputs": [],
   "source": []
  },
  {
   "cell_type": "code",
   "execution_count": null,
   "id": "79601563-19e7-430c-a98b-386f07de43df",
   "metadata": {},
   "outputs": [],
   "source": []
  },
  {
   "cell_type": "code",
   "execution_count": null,
   "id": "6c8e9978-4aa4-4df7-8bee-12e41d235798",
   "metadata": {},
   "outputs": [],
   "source": []
  },
  {
   "cell_type": "code",
   "execution_count": null,
   "id": "2ce1a90c-730a-4ffc-b35c-c2b6c58cc4cb",
   "metadata": {},
   "outputs": [],
   "source": []
  },
  {
   "cell_type": "code",
   "execution_count": null,
   "id": "a1538537-683c-4063-bc5d-b278a68285a0",
   "metadata": {},
   "outputs": [],
   "source": []
  },
  {
   "cell_type": "code",
   "execution_count": null,
   "id": "36fe2a6a-3ef6-49ba-8a95-00da4fa7ab7e",
   "metadata": {},
   "outputs": [],
   "source": []
  },
  {
   "cell_type": "code",
   "execution_count": 1,
   "id": "25e9ec31-481b-420d-aaa5-63a73f4c1134",
   "metadata": {},
   "outputs": [
    {
     "name": "stdout",
     "output_type": "stream",
     "text": [
      "[(1, 'mega'), (2, 'omegha'), (3, 12), (4, 56), (5, 76), (6, 16)]\n"
     ]
    }
   ],
   "source": [
    "## dictionary comprehension\n",
    "key =[1,2,3,4,5,6]\n",
    "values =[\"mega\",\"omegha\", 12,56,76,16]\n",
    "a = list(zip(key, values))\n",
    "print(a)"
   ]
  },
  {
   "cell_type": "markdown",
   "id": "0cf17a12-f47d-4934-bc60-4334e8976d0a",
   "metadata": {},
   "source": [
    "## dictionary comprehension\n",
    "- Dictionary comprhension are a concise and quick way to create, transform, and  filter dictionaries in a python. They ca  significantly enhance your codes concisensess and  readability compare to using for loops to process your dictionaries.\n",
    "\n",
    "- Undetanding dictionary comprehensions is crucial for you as a pythonic tool for dictionary manipulation to your programming toolkit\n",
    "\n",
    "- INthis tutorial you will learn how to :\n",
    "\n",
    "- crate dictionaries using dictionary comprehensions\n",
    "\n",
    "- Transform: Existing dictionaries with  comprehensions\n",
    "\n",
    "- Fileter Key - value pairs from dictionaries using conditionals\n",
    "\n",
    "- decide When to use dictionary compehension\n",
    "\n",
    "- "
   ]
  },
  {
   "cell_type": "code",
   "execution_count": 41,
   "id": "27eb35ed-bc47-40a5-8f20-e529d81310bf",
   "metadata": {},
   "outputs": [
    {
     "data": {
      "text/plain": [
       "[0, 1, 2, 3, 4, 5, 6, 7, 8, 9, 10, 11, 12, 13, 14]"
      ]
     },
     "execution_count": 41,
     "metadata": {},
     "output_type": "execute_result"
    }
   ],
   "source": [
    "[i for i in range(15)]"
   ]
  },
  {
   "cell_type": "code",
   "execution_count": 42,
   "id": "049a28ae-95fb-4a80-bdfe-e5b1d3e4373d",
   "metadata": {},
   "outputs": [
    {
     "ename": "NameError",
     "evalue": "name 'i' is not defined",
     "output_type": "error",
     "traceback": [
      "\u001b[1;31m---------------------------------------------------------------------------\u001b[0m",
      "\u001b[1;31mNameError\u001b[0m                                 Traceback (most recent call last)",
      "Cell \u001b[1;32mIn[42], line 1\u001b[0m\n\u001b[1;32m----> 1\u001b[0m \u001b[43mi\u001b[49m\n",
      "\u001b[1;31mNameError\u001b[0m: name 'i' is not defined"
     ]
    }
   ],
   "source": [
    "n =  = 0, 1, 2, 3, 4, 5, 6, 7, 8, 9, 10, 11, 12, 13, 14"
   ]
  },
  {
   "cell_type": "code",
   "execution_count": 43,
   "id": "12cb89f2-b4f0-40ad-86fb-a092d8d4995d",
   "metadata": {},
   "outputs": [
    {
     "data": {
      "text/plain": [
       "[0, 1, 4, 9, 16, 25, 36, 49, 64, 81, 100, 121, 144, 169, 196]"
      ]
     },
     "execution_count": 43,
     "metadata": {},
     "output_type": "execute_result"
    }
   ],
   "source": [
    "[j ** 2for j in range(15)]"
   ]
  },
  {
   "cell_type": "code",
   "execution_count": 45,
   "id": "202da527-bd71-4579-b0a9-019d13892273",
   "metadata": {},
   "outputs": [
    {
     "data": {
      "text/plain": [
       "{0: False,\n",
       " 1: False,\n",
       " 2: False,\n",
       " 3: False,\n",
       " 4: False,\n",
       " 5: False,\n",
       " 6: False,\n",
       " 7: False,\n",
       " 8: False,\n",
       " 9: False,\n",
       " 10: False,\n",
       " 11: False,\n",
       " 12: False,\n",
       " 13: False,\n",
       " 14: False}"
      ]
     },
     "execution_count": 45,
     "metadata": {},
     "output_type": "execute_result"
    }
   ],
   "source": [
    "{k: False for k in range(15)}"
   ]
  },
  {
   "cell_type": "code",
   "execution_count": 48,
   "id": "2065a3f8-94eb-42e0-a4ed-7032ef2f2f9c",
   "metadata": {},
   "outputs": [
    {
     "data": {
      "text/plain": [
       "['0 even',\n",
       " '1 odd',\n",
       " '2 even',\n",
       " '3 odd',\n",
       " '4 even',\n",
       " '5 odd',\n",
       " '6 even',\n",
       " '7 odd',\n",
       " '8 even',\n",
       " '9 odd',\n",
       " '10 even',\n",
       " '11 odd',\n",
       " '12 even',\n",
       " '13 odd',\n",
       " '14 even']"
      ]
     },
     "execution_count": 48,
     "metadata": {},
     "output_type": "execute_result"
    }
   ],
   "source": [
    "[str(i)+\" even\"  if i %2 == 0 else str(i)+\" odd\" for i in range(15)]"
   ]
  },
  {
   "cell_type": "code",
   "execution_count": 49,
   "id": "a9f1f0cc-db1a-43c3-bc4f-57411f799f34",
   "metadata": {},
   "outputs": [],
   "source": [
    "key = [\"a\",\"b\",\"c\",\"d\",\"e\"]\n",
    "values = [1,2,3,4,5]"
   ]
  },
  {
   "cell_type": "code",
   "execution_count": 50,
   "id": "cece25f7-dfc2-4e0c-83c5-7e95765380f5",
   "metadata": {},
   "outputs": [],
   "source": [
    "di = dict(zip(key, values))"
   ]
  },
  {
   "cell_type": "code",
   "execution_count": 51,
   "id": "102850d5-2cc8-49b3-b284-2b4aca603def",
   "metadata": {},
   "outputs": [
    {
     "data": {
      "text/plain": [
       "{'a': 1, 'b': 2, 'c': 3, 'd': 4, 'e': 5}"
      ]
     },
     "execution_count": 51,
     "metadata": {},
     "output_type": "execute_result"
    }
   ],
   "source": [
    "di"
   ]
  },
  {
   "cell_type": "code",
   "execution_count": 55,
   "id": "f16cdcb4-fce5-4791-a8fe-63f328cfcbe1",
   "metadata": {},
   "outputs": [
    {
     "name": "stdout",
     "output_type": "stream",
     "text": [
      "{0: 0, 2: 4, 4: 16, 6: 36, 8: 64}\n"
     ]
    }
   ],
   "source": [
    "numbers= range(10)\n",
    "new_dict_for = {}\n",
    "\n",
    "for i in numbers:\n",
    "    if i%2 ==0:\n",
    "        new_dict_for[i] = i ** 2\n",
    "print(new_dict_for)\n"
   ]
  },
  {
   "cell_type": "code",
   "execution_count": 56,
   "id": "fbe1e3d6-a6b7-49e3-9bf4-0cad509ed68e",
   "metadata": {},
   "outputs": [],
   "source": [
    "ascii_dict = {i :ord(i) for i in \"abcdefghijklmnopqrstuvwxyz\"}"
   ]
  },
  {
   "cell_type": "code",
   "execution_count": 57,
   "id": "aa8a620a-8624-41d1-bd71-3edf3430c0ed",
   "metadata": {},
   "outputs": [
    {
     "data": {
      "text/plain": [
       "{'a': 97,\n",
       " 'b': 98,\n",
       " 'c': 99,\n",
       " 'd': 100,\n",
       " 'e': 101,\n",
       " 'f': 102,\n",
       " 'g': 103,\n",
       " 'h': 104,\n",
       " 'i': 105,\n",
       " 'j': 106,\n",
       " 'k': 107,\n",
       " 'l': 108,\n",
       " 'm': 109,\n",
       " 'n': 110,\n",
       " 'o': 111,\n",
       " 'p': 112,\n",
       " 'q': 113,\n",
       " 'r': 114,\n",
       " 's': 115,\n",
       " 't': 116,\n",
       " 'u': 117,\n",
       " 'v': 118,\n",
       " 'w': 119,\n",
       " 'x': 120,\n",
       " 'y': 121,\n",
       " 'z': 122}"
      ]
     },
     "execution_count": 57,
     "metadata": {},
     "output_type": "execute_result"
    }
   ],
   "source": [
    "ascii_dict\n"
   ]
  },
  {
   "cell_type": "code",
   "execution_count": 59,
   "id": "a200541b-9b7f-451b-bef9-5082fa6ba9f1",
   "metadata": {},
   "outputs": [
    {
     "data": {
      "text/plain": [
       "{'manishmaheshmanoj': 282930}"
      ]
     },
     "execution_count": 59,
     "metadata": {},
     "output_type": "execute_result"
    }
   ],
   "source": [
    "names = [\"manish\" \"mahesh\" \"manoj\"]\n",
    "ages = [282930]\n",
    "person_dict = {name : age for name, age in zip(names, ages)}\n",
    "person_dict"
   ]
  },
  {
   "cell_type": "code",
   "execution_count": null,
   "id": "ebf25421-cead-4de4-aef4-07841616a13e",
   "metadata": {},
   "outputs": [],
   "source": []
  }
 ],
 "metadata": {
  "kernelspec": {
   "display_name": "Python 3 (ipykernel)",
   "language": "python",
   "name": "python3"
  },
  "language_info": {
   "codemirror_mode": {
    "name": "ipython",
    "version": 3
   },
   "file_extension": ".py",
   "mimetype": "text/x-python",
   "name": "python",
   "nbconvert_exporter": "python",
   "pygments_lexer": "ipython3",
   "version": "3.10.6"
  }
 },
 "nbformat": 4,
 "nbformat_minor": 5
}
