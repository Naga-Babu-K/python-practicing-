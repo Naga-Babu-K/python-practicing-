{
 "cells": [
  {
   "cell_type": "markdown",
   "id": "8dcb6883-b19d-4339-88e5-967ad21a2e20",
   "metadata": {},
   "source": [
    "## Create a tuple named \"fruits\" containing the following fruits: \"apple\", \"banana\", \"orange\", \"mango\", and \"kiwi\"."
   ]
  },
  {
   "cell_type": "code",
   "execution_count": 32,
   "id": "c4647e52-d31a-42ea-a9b3-82cf34d71f87",
   "metadata": {},
   "outputs": [],
   "source": [
    "fruits = (\"apple\", \"banana\", \"orange\", \"mango\", \"kiwi\")"
   ]
  },
  {
   "cell_type": "markdown",
   "id": "c50b2065-d478-484b-87c4-4edb4cfca501",
   "metadata": {},
   "source": [
    "## Print the tuple \"fruits\""
   ]
  },
  {
   "cell_type": "code",
   "execution_count": 33,
   "id": "16726c88-d3ef-4070-a874-4ce8ed544055",
   "metadata": {},
   "outputs": [
    {
     "name": "stdout",
     "output_type": "stream",
     "text": [
      "('apple', 'banana', 'orange', 'mango', 'kiwi')\n"
     ]
    }
   ],
   "source": [
    "print(fruits)"
   ]
  },
  {
   "cell_type": "markdown",
   "id": "f5e253e0-e55f-4b5a-b64f-83303edeaa60",
   "metadata": {},
   "source": [
    "## print the length of the tuple \"fruits\""
   ]
  },
  {
   "cell_type": "code",
   "execution_count": 34,
   "id": "e20de2e4-2e1b-4dbe-b26f-68d6b8fb9650",
   "metadata": {},
   "outputs": [
    {
     "data": {
      "text/plain": [
       "5"
      ]
     },
     "execution_count": 34,
     "metadata": {},
     "output_type": "execute_result"
    }
   ],
   "source": [
    "len(fruits)"
   ]
  },
  {
   "cell_type": "markdown",
   "id": "5bcf0c11-f191-4966-ba99-b8991831356e",
   "metadata": {},
   "source": [
    "## Access and print the third element of the tuple \"fruits\". Use slicing to print the elements from the second to the fourth element of the tuple \"fruits\".\n"
   ]
  },
  {
   "cell_type": "code",
   "execution_count": 35,
   "id": "aa68fe72-b7de-4967-acde-724d74fa64f0",
   "metadata": {},
   "outputs": [
    {
     "data": {
      "text/plain": [
       "'orange'"
      ]
     },
     "execution_count": 35,
     "metadata": {},
     "output_type": "execute_result"
    }
   ],
   "source": [
    "fruits[2]"
   ]
  },
  {
   "cell_type": "markdown",
   "id": "d50954a0-9240-4f26-8749-e64621fbb116",
   "metadata": {},
   "source": [
    "## .Create a new tuple named \"more_fruits\" containing the following fruits: \"grape\", \"pear\", \"pineapple\". .Concatenate the tuples \"fruits\" and \"more_fruits\" and assign the result to a new tuple named \"all_fruits\"."
   ]
  },
  {
   "cell_type": "code",
   "execution_count": 36,
   "id": "595a8f65-d9cc-4ca7-a74c-4488c48c969c",
   "metadata": {},
   "outputs": [],
   "source": [
    "more_fruits = (\"grape\", \"pear\", \"pineapple\")"
   ]
  },
  {
   "cell_type": "code",
   "execution_count": 37,
   "id": "7ae11e6c-6ee8-46b5-8ab6-cb8c1627c85b",
   "metadata": {},
   "outputs": [],
   "source": [
    "all_fruits = (fruits + more_fruits)"
   ]
  },
  {
   "cell_type": "markdown",
   "id": "051c9774-56dd-406b-8ec0-42ca0533a29b",
   "metadata": {},
   "source": [
    "## Print the tuple \"all_fruits\""
   ]
  },
  {
   "cell_type": "code",
   "execution_count": 38,
   "id": "34451d4b-1a9c-40db-8e21-1d1647718f2d",
   "metadata": {},
   "outputs": [
    {
     "data": {
      "text/plain": [
       "('apple', 'banana', 'orange', 'mango', 'kiwi', 'grape', 'pear', 'pineapple')"
      ]
     },
     "execution_count": 38,
     "metadata": {},
     "output_type": "execute_result"
    }
   ],
   "source": [
    "all_fruits"
   ]
  },
  {
   "cell_type": "markdown",
   "id": "3107cf2e-6ef6-43d8-851b-9c8766ddd65a",
   "metadata": {},
   "source": [
    "## Check if \"kiwi\" is present in the tuple \"all fruits\" and print the result."
   ]
  },
  {
   "cell_type": "code",
   "execution_count": 41,
   "id": "a0f757c1-1de6-4135-bf96-68bfe955b085",
   "metadata": {},
   "outputs": [
    {
     "data": {
      "text/plain": [
       "('apple', 'banana', 'orange', 'mango', 'kiwi', 'grape', 'pear', 'pineapple')"
      ]
     },
     "execution_count": 41,
     "metadata": {},
     "output_type": "execute_result"
    }
   ],
   "source": [
    "all_fruits "
   ]
  },
  {
   "cell_type": "code",
   "execution_count": 65,
   "id": "f19764ba-dfde-42f4-8acb-db94f1532218",
   "metadata": {},
   "outputs": [
    {
     "ename": "TypeError",
     "evalue": "'tuple' object is not callable",
     "output_type": "error",
     "traceback": [
      "\u001b[1;31m---------------------------------------------------------------------------\u001b[0m",
      "\u001b[1;31mTypeError\u001b[0m                                 Traceback (most recent call last)",
      "Cell \u001b[1;32mIn[65], line 1\u001b[0m\n\u001b[1;32m----> 1\u001b[0m \u001b[43mall_fruits\u001b[49m\u001b[43m(\u001b[49m\u001b[43m[\u001b[49m\u001b[38;5;124;43m'\u001b[39;49m\u001b[38;5;124;43mkiwi\u001b[39;49m\u001b[38;5;124;43m'\u001b[39;49m\u001b[43m]\u001b[49m\u001b[43m)\u001b[49m\n",
      "\u001b[1;31mTypeError\u001b[0m: 'tuple' object is not callable"
     ]
    }
   ],
   "source": [
    "all_fruits(['kiwi'])"
   ]
  },
  {
   "cell_type": "markdown",
   "id": "ce208007-076c-4440-8086-888bcb8aa0a7",
   "metadata": {},
   "source": [
    "## Find and print the index of \"banana\" in the tuple \"all_fruits\"."
   ]
  },
  {
   "cell_type": "code",
   "execution_count": 60,
   "id": "3e578a9d-e166-4f3c-85d0-f16c00e406aa",
   "metadata": {},
   "outputs": [
    {
     "data": {
      "text/plain": [
       "1"
      ]
     },
     "execution_count": 60,
     "metadata": {},
     "output_type": "execute_result"
    }
   ],
   "source": [
    "all_fruits.index('banana')"
   ]
  },
  {
   "cell_type": "code",
   "execution_count": null,
   "id": "943d9247-0d0a-41ae-8fb4-695ed8afcd97",
   "metadata": {},
   "outputs": [],
   "source": []
  }
 ],
 "metadata": {
  "kernelspec": {
   "display_name": "Python 3 (ipykernel)",
   "language": "python",
   "name": "python3"
  },
  "language_info": {
   "codemirror_mode": {
    "name": "ipython",
    "version": 3
   },
   "file_extension": ".py",
   "mimetype": "text/x-python",
   "name": "python",
   "nbconvert_exporter": "python",
   "pygments_lexer": "ipython3",
   "version": "3.10.2"
  }
 },
 "nbformat": 4,
 "nbformat_minor": 5
}
