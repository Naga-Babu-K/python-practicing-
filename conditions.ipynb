{
 "cells": [
  {
   "cell_type": "markdown",
   "id": "64c202cc-4358-4b09-beb4-1909df873b61",
   "metadata": {},
   "source": [
    "## 1)Write a program that takes a year as input and determines whether it is a leap year or not. A leap year is a\n",
    "\n",
    "year that is divisible by 4, but not divisible by 100, unless it is also divisible by 400. Display an appropriate message\n",
    "\n",
    "indicating whether the year is a leap year or not.\n"
   ]
  },
  {
   "cell_type": "code",
   "execution_count": 15,
   "id": "12171c60-566e-491c-b5d0-b3978254b4ef",
   "metadata": {},
   "outputs": [
    {
     "name": "stdin",
     "output_type": "stream",
     "text": [
      "Enter a year:  1999\n"
     ]
    },
    {
     "name": "stdout",
     "output_type": "stream",
     "text": [
      "not\n"
     ]
    }
   ],
   "source": [
    "def is_leap_year(year):\n",
    "    if (year%4 ==0 or year%400==0) and (year%100 != 0):\n",
    "        return True\n",
    "    else:\n",
    "        return False\n",
    "year = int(input(\"Enter a year: \"))\n",
    "if is_leap_year(year):\n",
    "    print(\"leap year\")\n",
    "else:\n",
    "    print(\"not\")\n",
    "    \n",
    "\n",
    "\n"
   ]
  },
  {
   "cell_type": "code",
   "execution_count": null,
   "id": "9093b544-c544-487a-b4b2-ef37b0148cb1",
   "metadata": {},
   "outputs": [],
   "source": []
  },
  {
   "cell_type": "markdown",
   "id": "61d94685-aa32-4fa9-8048-e3f10f9594ef",
   "metadata": {},
   "source": [
    "## 2: Grade Calculator write a program that takes a student's score as input (out of 100) and determines their grade based on the following condition\n",
    "\n",
    "If the score is 98 or above, the grade is A. If the score is between 88 and 89, the grade is 8-\n",
    "\n",
    "If the score is between 78 and 79, the grade is 'C-\n",
    "\n",
    "If the score is between 68 and 59, the grade 15 'D'.\n",
    "\n",
    "If the score is below 60, the grade is F\n",
    "\n",
    "Display the grade corresponding to the entered score."
   ]
  },
  {
   "cell_type": "code",
   "execution_count": 4,
   "id": "5bc17668-a331-484b-8f78-67fbcf10b3e4",
   "metadata": {},
   "outputs": [
    {
     "name": "stdin",
     "output_type": "stream",
     "text": [
      " 96\n"
     ]
    },
    {
     "name": "stdout",
     "output_type": "stream",
     "text": [
      "grade-B\n"
     ]
    }
   ],
   "source": [
    "\n",
    "score = int(input())\n",
    "if score >= 98:\n",
    "    print(\"grade-A\")\n",
    "elif score > 88:\n",
    "    print(\"grade-B\")\n",
    "elif score >= 78:\n",
    "    print(\"grade-C\")\n",
    "elif score >= 60:\n",
    "    print(\"grade-D\")\n",
    "else:\n",
    "    print(\"grade-E\")\n",
    "\n",
    "          "
   ]
  },
  {
   "cell_type": "markdown",
   "id": "4ace72f0-f628-443a-8610-e404a0182e15",
   "metadata": {},
   "source": [
    "## 3: Calculator write a program that takes two numbers as input and performs a mathematical operation (+, -,*,/) based on the user's choice. Use conditional statement to determine the operation to be performed. Display the result of the calculation."
   ]
  },
  {
   "cell_type": "code",
   "execution_count": 12,
   "id": "b10cbacf-8262-41da-9815-98aadb29149d",
   "metadata": {},
   "outputs": [
    {
     "name": "stdin",
     "output_type": "stream",
     "text": [
      " 5\n",
      " 5\n",
      "Choose an operation (+, -, *, /):  -\n"
     ]
    },
    {
     "name": "stdout",
     "output_type": "stream",
     "text": [
      "The result of 5 - 5 is: 0\n"
     ]
    }
   ],
   "source": [
    "def calculator():\n",
    "    n = int(input())\n",
    "    m = int(input())\n",
    "\n",
    "    operation = input(\"Choose an operation (+, -, *, /): \")\n",
    "\n",
    "    if operation == '+' :\n",
    "        result = n + m\n",
    "    elif operation =='-' :\n",
    "        result = n-m\n",
    "    elif operation == '* ':\n",
    "        result = n * m\n",
    "    elif operation == '/' :\n",
    "        if m != 0:\n",
    "            reults = n / m\n",
    "        else:\n",
    "            print(\"ERror Division by zero is not applicable\")\n",
    "            return\n",
    "    \n",
    "    else:\n",
    "        print(\"Error: Invalid operation.\")\n",
    "        return\n",
    "\n",
    "\n",
    "    print(f\"The result of {n} {operation} {m} is: {result}\")\n",
    "\n",
    "\n",
    "calculator()"
   ]
  },
  {
   "cell_type": "code",
   "execution_count": null,
   "id": "6756d51f-2c3c-4f61-beb5-1ae8602296af",
   "metadata": {},
   "outputs": [],
   "source": []
  }
 ],
 "metadata": {
  "kernelspec": {
   "display_name": "Python 3 (ipykernel)",
   "language": "python",
   "name": "python3"
  },
  "language_info": {
   "codemirror_mode": {
    "name": "ipython",
    "version": 3
   },
   "file_extension": ".py",
   "mimetype": "text/x-python",
   "name": "python",
   "nbconvert_exporter": "python",
   "pygments_lexer": "ipython3",
   "version": "3.10.2"
  }
 },
 "nbformat": 4,
 "nbformat_minor": 5
}
