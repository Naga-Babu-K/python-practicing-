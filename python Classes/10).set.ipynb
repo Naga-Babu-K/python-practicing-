{
 "cells": [
  {
   "cell_type": "markdown",
   "id": "b94eabc6-ceec-468c-b8ca-5aafb0144993",
   "metadata": {},
   "source": [
    "## SET:\n",
    "- Sets are used to store multiple items in a single variable.\n",
    "- Sets is one of 4 built-in types in Python used to store collection of data, the other 3 are List, Tuple, and Dictionary, all with diffrent qualities and usage.\n",
    "- A set is a collection that is unordered, unchangeable, unindexed, and do not allow duplicates"
   ]
  },
  {
   "cell_type": "markdown",
   "id": "07473d4b-7b5c-4892-a7b5-a797f62756e5",
   "metadata": {},
   "source": [
    "## Rmoving Item\n",
    "- To remove an item in a set, use the **remove()**, or the **discard()** method."
   ]
  },
  {
   "cell_type": "code",
   "execution_count": 7,
   "id": "92e69516-af99-4ab0-a0ea-83ab8e63f25c",
   "metadata": {},
   "outputs": [
    {
     "name": "stdout",
     "output_type": "stream",
     "text": [
      "{'acer', 'apple', 'dell', 'lenovo'}\n"
     ]
    },
    {
     "data": {
      "text/plain": [
       "['acer', 'dell', 'apple', 'lenovo', 'acer', 'dell', 'apple', 'lenovo']"
      ]
     },
     "execution_count": 7,
     "metadata": {},
     "output_type": "execute_result"
    }
   ],
   "source": [
    "tset = {\"acer\", \"dell\", \"apple\", \"lenovo\", \"acer\", \"dell\", \"apple\", \"lenovo\"}\n",
    "print(tset)\n",
    "li=[ \"acer\", \"dell\", \"apple\", \"lenovo\", \"acer\", \"dell\", \"apple\", \"lenovo\"] \n",
    "li"
   ]
  },
  {
   "cell_type": "code",
   "execution_count": 5,
   "id": "225d80ba-bb62-480d-a55f-c70a27ab4730",
   "metadata": {},
   "outputs": [
    {
     "name": "stdout",
     "output_type": "stream",
     "text": [
      "apple\n"
     ]
    }
   ],
   "source": [
    "print(li[2])"
   ]
  },
  {
   "cell_type": "code",
   "execution_count": 2,
   "id": "f5433187-8bf3-41f3-9c0e-d1e7f3a2f7b3",
   "metadata": {},
   "outputs": [],
   "source": [
    "rtset = {\"acer\", \"dell\", \"apple\", \"lenovo\", \"dell\"}"
   ]
  },
  {
   "cell_type": "code",
   "execution_count": 4,
   "id": "3a1457d2-0962-4348-a640-bebb41d354cd",
   "metadata": {},
   "outputs": [
    {
     "data": {
      "text/plain": [
       "{'acer', 'apple', 'dell', 'lenovo'}"
      ]
     },
     "execution_count": 4,
     "metadata": {},
     "output_type": "execute_result"
    }
   ],
   "source": [
    "rtset"
   ]
  },
  {
   "cell_type": "markdown",
   "id": "c2e4cb81-1c4b-45f9-a26f-c6264f5614b0",
   "metadata": {},
   "source": [
    "## Note:\n",
    "- True and 1 is considered the same value:\n",
    "- False and 0 is considered the same value:"
   ]
  },
  {
   "cell_type": "code",
   "execution_count": 9,
   "id": "47bbfb0e-5ee8-461e-9852-627b9b4a9e12",
   "metadata": {},
   "outputs": [
    {
     "data": {
      "text/plain": [
       "{False, True, 'acer', 'apple', 'dell'}"
      ]
     },
     "execution_count": 9,
     "metadata": {},
     "output_type": "execute_result"
    }
   ],
   "source": [
    "che = {\"acer\", \"dell\", \"apple\", True, 1, False, 0}\n",
    "che"
   ]
  },
  {
   "cell_type": "markdown",
   "id": "a1356927-ee9b-40a0-90ef-0c0acd18d65e",
   "metadata": {},
   "source": [
    "## join sets\n",
    "- There are several ways to join Two or motre sets in python\n",
    "- The **union()** and **update()** methods joins all items from both sets\n",
    "- The **intersection()** method keeps only the duplicates.\n",
    "- The difference() methods keeps the items from the first set that are not in the order set(s).\n",
    "- The symmetric_difference() method keeps all items EXCEPT the duplicates."
   ]
  },
  {
   "cell_type": "code",
   "execution_count": 14,
   "id": "f15e4f49-8d1f-4af8-96c4-50608dc04ec5",
   "metadata": {},
   "outputs": [
    {
     "name": "stdout",
     "output_type": "stream",
     "text": [
      "{1, 2, 3, 'a', 'c', 'b'}\n"
     ]
    }
   ],
   "source": [
    "## Union: The unnion method returns a new set with all items from both sets\n",
    "set1 = {'a','b','c'}\n",
    "set2 = {1,2,3}\n",
    "set3 = set1.union(set2)\n",
    "print(set3)"
   ]
  },
  {
   "cell_type": "code",
   "execution_count": 10,
   "id": "e0e0a787-a01b-4f20-9c79-9cbbe7ddb007",
   "metadata": {},
   "outputs": [
    {
     "name": "stdout",
     "output_type": "stream",
     "text": [
      "{1, 2, 3, 'a', 'b', 'Black panthar', 'court', 'mad', 'amaran', 'c', 'salar', 'd'}\n"
     ]
    }
   ],
   "source": [
    "# here we can use | operator this will join the num of sets\n",
    "set1 = {'a','b','c', 'd'}\n",
    "set2 = {1,2,3}\n",
    "set3 = {\"mad\", \"salar\", 3, \"court\", \"Black panthar\", \"amaran\", 3, \"salar\", \"mad\"}\n",
    "set4 = set1 | set2 | set3\n",
    "print(set4)"
   ]
  },
  {
   "cell_type": "markdown",
   "id": "b67a827a-3157-4e9c-8d5c-1862a3845d3a",
   "metadata": {},
   "source": [
    "## update\n",
    "- The **update()** method inderts all items from one set into another\n",
    "- The **update()** changes the original set, and does not return a new set1."
   ]
  },
  {
   "cell_type": "code",
   "execution_count": 16,
   "id": "71c2b202-7154-4829-90c4-bb4269720b18",
   "metadata": {},
   "outputs": [
    {
     "name": "stdout",
     "output_type": "stream",
     "text": [
      "{1, 2, 3, 'd', 'a', 'c', 'b'}\n"
     ]
    }
   ],
   "source": [
    "set1 = {'a','b','c', 'd'}\n",
    "set2 = {1,2,3}\n",
    "set2.update(set1)\n",
    "print(set2)"
   ]
  },
  {
   "cell_type": "code",
   "execution_count": 39,
   "id": "96dc039d-0540-4efb-8f20-80670205039f",
   "metadata": {},
   "outputs": [
    {
     "name": "stdout",
     "output_type": "stream",
     "text": [
      "{'d', 'c', 'e', 'b', 'a'}\n"
     ]
    }
   ],
   "source": [
    "set1 = {'a','b','c', 'd'}\n",
    "set2 = {'a','b','c', 'd', 'e'}\n",
    "set3 = set1.union(set2)\n",
    "print(set3)"
   ]
  },
  {
   "cell_type": "markdown",
   "id": "a8a0de2e-a23a-4195-9361-2a2db7a13f41",
   "metadata": {},
   "source": [
    "## - **Intersection()** and **&** we can use any one we will get the same result\n",
    "- intersection_update() method will also keep only the duplicates, but it will cahnge the original set instead of returning a new set.\n",
    "## - we can use  **-** instead of the  **difference()** method. and you will get the same result.\n",
    "- difference_update()  this will keep the items that are not present in both sets.\n",
    "## -  we can use  **^** instead of the  **symmetric_differene()** method. and you will get the same result.\n",
    "- symmetric_difference_update() method will keep all but the duplicates, but it will change the original set instead of returning a new set."
   ]
  },
  {
   "cell_type": "code",
   "execution_count": 1,
   "id": "7d8a3c5f-d2fe-4c35-920d-92242cde9b62",
   "metadata": {},
   "outputs": [
    {
     "data": {
      "text/plain": [
       "{3, 'Black panthar', 'amaran', 'court', 'mad', 'salar'}"
      ]
     },
     "execution_count": 1,
     "metadata": {},
     "output_type": "execute_result"
    }
   ],
   "source": [
    "movie_names ={\"mad\", \"salar\", 3, \"court\", \"Black panthar\", \"amaran\"}\n",
    "movie_names"
   ]
  },
  {
   "cell_type": "code",
   "execution_count": 2,
   "id": "6a72e3d7-4e00-47be-b36e-db52e52630fd",
   "metadata": {},
   "outputs": [
    {
     "ename": "TypeError",
     "evalue": "'set' object is not subscriptable",
     "output_type": "error",
     "traceback": [
      "\u001b[1;31m---------------------------------------------------------------------------\u001b[0m",
      "\u001b[1;31mTypeError\u001b[0m                                 Traceback (most recent call last)",
      "Cell \u001b[1;32mIn[2], line 1\u001b[0m\n\u001b[1;32m----> 1\u001b[0m \u001b[43mmovie_names\u001b[49m\u001b[43m[\u001b[49m\u001b[38;5;241;43m1\u001b[39;49m\u001b[43m]\u001b[49m\n",
      "\u001b[1;31mTypeError\u001b[0m: 'set' object is not subscriptable"
     ]
    }
   ],
   "source": [
    "movie_names[1]"
   ]
  },
  {
   "cell_type": "code",
   "execution_count": 5,
   "id": "784e86bc-664f-4d17-b1be-589336321257",
   "metadata": {},
   "outputs": [
    {
     "data": {
      "text/plain": [
       "['mad', 'salar', 3, 'court', 'Black panthar', 'amaran']"
      ]
     },
     "execution_count": 5,
     "metadata": {},
     "output_type": "execute_result"
    }
   ],
   "source": [
    "li = [\"mad\", \"salar\", 3, \"court\", \"Black panthar\", \"amaran\"]\n",
    "li"
   ]
  },
  {
   "cell_type": "code",
   "execution_count": 6,
   "id": "854385d4-5e12-42a7-8ef6-1685656a1f4d",
   "metadata": {},
   "outputs": [
    {
     "data": {
      "text/plain": [
       "['mad', 'salar', 3, 'court', 'Black panthar', 'amaran', 3, 'salar', 'mad']"
      ]
     },
     "execution_count": 6,
     "metadata": {},
     "output_type": "execute_result"
    }
   ],
   "source": [
    "li2 = [\"mad\", \"salar\", 3, \"court\", \"Black panthar\", \"amaran\", 3, \"salar\", \"mad\"]\n",
    "li2"
   ]
  },
  {
   "cell_type": "code",
   "execution_count": 3,
   "id": "48a9712c-9ba9-41b4-8dbe-f6cceb2e7668",
   "metadata": {},
   "outputs": [
    {
     "data": {
      "text/plain": [
       "{3, 'Black panthar', 'amaran', 'court', 'mad', 'salar'}"
      ]
     },
     "execution_count": 3,
     "metadata": {},
     "output_type": "execute_result"
    }
   ],
   "source": [
    "dup_ = {\"mad\", \"salar\", 3, \"court\", \"Black panthar\", \"amaran\", 3, \"salar\", \"mad\"}\n",
    "dup_"
   ]
  },
  {
   "cell_type": "code",
   "execution_count": null,
   "id": "e4d8e181-7567-4d58-83b1-baf05ff39d9e",
   "metadata": {},
   "outputs": [],
   "source": []
  },
  {
   "cell_type": "code",
   "execution_count": null,
   "id": "74b4998b-63aa-44d0-8b01-b06df0943274",
   "metadata": {},
   "outputs": [],
   "source": []
  },
  {
   "cell_type": "code",
   "execution_count": null,
   "id": "ea8735c4-cfb8-45e7-b80c-86505d106ba4",
   "metadata": {},
   "outputs": [],
   "source": []
  },
  {
   "cell_type": "code",
   "execution_count": null,
   "id": "cf98a4ff-69d8-4374-99b7-6b6333a44c13",
   "metadata": {},
   "outputs": [],
   "source": []
  },
  {
   "cell_type": "code",
   "execution_count": null,
   "id": "90620025-6e93-4792-ac9b-1c02ad6880dd",
   "metadata": {},
   "outputs": [],
   "source": []
  },
  {
   "cell_type": "code",
   "execution_count": 17,
   "id": "e232e127-8450-454d-b10b-4744b1941a57",
   "metadata": {},
   "outputs": [
    {
     "name": "stdout",
     "output_type": "stream",
     "text": [
      "{'a', 'c', 'b'}\n"
     ]
    }
   ],
   "source": [
    "set1 = {'a','b','c', 'd'}\n",
    "set2 = {\"a\", \"b\", \"c\", \"e\" }\n",
    "set_3= set1.intersection(set2)\n",
    "print(set_3)"
   ]
  },
  {
   "cell_type": "code",
   "execution_count": 18,
   "id": "d2a5215e-9f5b-40fc-ac44-9356d080fef1",
   "metadata": {},
   "outputs": [
    {
     "name": "stdout",
     "output_type": "stream",
     "text": [
      "{'a', 'c', 'd', 'b'}\n"
     ]
    }
   ],
   "source": [
    "set1 = {'a','b','c', 'd', \"e\"}\n",
    "set2 = {'a','b','c', 'd' }\n",
    "set1.intersection_update(set2)\n",
    "print(set1)"
   ]
  },
  {
   "cell_type": "code",
   "execution_count": 20,
   "id": "de4c1a26-0e04-4a57-b64e-51616bce61ae",
   "metadata": {},
   "outputs": [
    {
     "name": "stdout",
     "output_type": "stream",
     "text": [
      "{'a'}\n"
     ]
    }
   ],
   "source": [
    "set1 = {'a','b','c', 'd'}\n",
    "set2 = {1,2,3,\"a\"}\n",
    "set3 = set1 & set2\n",
    "print(set3)"
   ]
  },
  {
   "cell_type": "code",
   "execution_count": 59,
   "id": "9a4f2b0b-3c2b-452f-80d5-fddf93a3da2d",
   "metadata": {},
   "outputs": [
    {
     "name": "stdout",
     "output_type": "stream",
     "text": [
      "2025-03-17\n"
     ]
    }
   ],
   "source": [
    "import datetime\n",
    "dt = datetime.datetime.now().date()\n",
    "print(dt)"
   ]
  },
  {
   "cell_type": "code",
   "execution_count": 26,
   "id": "4937f64d-9a79-43aa-890e-b820abcf56cd",
   "metadata": {},
   "outputs": [
    {
     "name": "stdout",
     "output_type": "stream",
     "text": [
      "{'c', 'd', 'b'}\n"
     ]
    }
   ],
   "source": [
    "set1 = {'a','b','c', 'd'}\n",
    "set2 = {1,2,3,\"a\"}\n",
    "set3 = set1.difference(set2)\n",
    "print(set3)"
   ]
  },
  {
   "cell_type": "code",
   "execution_count": 43,
   "id": "dd7de15c-2d44-4793-9b56-1d7934a6719b",
   "metadata": {},
   "outputs": [
    {
     "name": "stdout",
     "output_type": "stream",
     "text": [
      "{1, 2, 3}\n"
     ]
    }
   ],
   "source": [
    "set1 = {'a','b','c', 'd'}\n",
    "set2 = {1,2,3,\"a\", \"b\"}\n",
    "set3 = set2 - set1\n",
    "print(set3)"
   ]
  },
  {
   "cell_type": "code",
   "execution_count": 37,
   "id": "5d54baec-1da3-4c8a-ac48-75bec9c102f7",
   "metadata": {},
   "outputs": [
    {
     "name": "stdout",
     "output_type": "stream",
     "text": [
      "{1, 2, 3, 'd', 'c', 'b'}\n"
     ]
    }
   ],
   "source": [
    "set1 = {'a','b','c', 'd'}\n",
    "set2 = {1,2,3, \"a\"}\n",
    "set3 = set1 ^ set2\n",
    "print(set3)"
   ]
  },
  {
   "cell_type": "code",
   "execution_count": 28,
   "id": "bcba09b4-759c-440e-95c7-a542083ef2c1",
   "metadata": {},
   "outputs": [
    {
     "name": "stdout",
     "output_type": "stream",
     "text": [
      "{1, 2, 3, 'd'}\n"
     ]
    }
   ],
   "source": [
    "set1 = {'a','b','c', 'd'}\n",
    "set2 = {1,2,3,\"a\", \"b\", \"c\"}\n",
    "set3 = set1.symmetric\n",
    "difference(set2)\n",
    "print(set3)"
   ]
  },
  {
   "cell_type": "code",
   "execution_count": 51,
   "id": "64b954f9-b258-4cf4-b5c3-f9a915ca4192",
   "metadata": {},
   "outputs": [
    {
     "name": "stdout",
     "output_type": "stream",
     "text": [
      "{1, 2, 3, 'd', 'e'}\n"
     ]
    }
   ],
   "source": [
    "set1 = {'a','b','c', 'd', \"e\"}\n",
    "set2 = {1,2,3,\"a\", \"b\", \"c\"}\n",
    "set1.symmetric_difference_update(set2)\n",
    "print(set1)"
   ]
  },
  {
   "cell_type": "code",
   "execution_count": null,
   "id": "72e39ba8-1b52-4f4c-9360-c92a9dc5b1e5",
   "metadata": {},
   "outputs": [],
   "source": []
  }
 ],
 "metadata": {
  "kernelspec": {
   "display_name": "Python 3 (ipykernel)",
   "language": "python",
   "name": "python3"
  },
  "language_info": {
   "codemirror_mode": {
    "name": "ipython",
    "version": 3
   },
   "file_extension": ".py",
   "mimetype": "text/x-python",
   "name": "python",
   "nbconvert_exporter": "python",
   "pygments_lexer": "ipython3",
   "version": "3.10.6"
  }
 },
 "nbformat": 4,
 "nbformat_minor": 5
}
