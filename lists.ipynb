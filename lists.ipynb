{
 "cells": [
  {
   "cell_type": "markdown",
   "id": "15094c40-eb20-43e4-a67b-9248a857050c",
   "metadata": {},
   "source": [
    "## creating lsit"
   ]
  },
  {
   "cell_type": "code",
   "execution_count": 3,
   "id": "5d485ad2-8af5-4d96-909e-6344f51e8c70",
   "metadata": {},
   "outputs": [],
   "source": [
    "lst = [1,2,3,4]\n",
    "g = [5,5,6],"
   ]
  },
  {
   "cell_type": "code",
   "execution_count": 4,
   "id": "97ada25a-7260-4c2b-ba75-aabcfce9dc0f",
   "metadata": {},
   "outputs": [],
   "source": [
    "lst.append(g)"
   ]
  },
  {
   "cell_type": "code",
   "execution_count": 5,
   "id": "dd83dfb0-c129-4287-bd37-c00163832142",
   "metadata": {},
   "outputs": [
    {
     "name": "stdout",
     "output_type": "stream",
     "text": [
      "[1, 2, 3, 4, ([5, 5, 6],)]\n"
     ]
    }
   ],
   "source": [
    "print(lst)"
   ]
  },
  {
   "cell_type": "code",
   "execution_count": 6,
   "id": "e5317388-cb68-43dc-b246-2d82ae146e28",
   "metadata": {},
   "outputs": [],
   "source": [
    "lst = [1,2,3,4]\n",
    "g = [5,5,6]"
   ]
  },
  {
   "cell_type": "code",
   "execution_count": 7,
   "id": "ded82761-6981-47db-9a88-bc45c5a274e3",
   "metadata": {},
   "outputs": [],
   "source": [
    "lst.append(g)"
   ]
  },
  {
   "cell_type": "code",
   "execution_count": 8,
   "id": "4d8025d1-3109-46e3-b220-b1cfa7caadea",
   "metadata": {},
   "outputs": [
    {
     "name": "stdout",
     "output_type": "stream",
     "text": [
      "[1, 2, 3, 4, [5, 5, 6]]\n"
     ]
    }
   ],
   "source": [
    "print(lst)"
   ]
  },
  {
   "cell_type": "code",
   "execution_count": 9,
   "id": "4e8b33f7-a1cb-44b1-ab3e-e0b2a06e72c3",
   "metadata": {},
   "outputs": [],
   "source": [
    "lst.extend(g)"
   ]
  },
  {
   "cell_type": "code",
   "execution_count": 10,
   "id": "0fd48a5a-2c77-4b9f-900e-61f0e62519d3",
   "metadata": {},
   "outputs": [
    {
     "name": "stdout",
     "output_type": "stream",
     "text": [
      "[1, 2, 3, 4, [5, 5, 6], 5, 5, 6]\n"
     ]
    }
   ],
   "source": [
    "print(lst)"
   ]
  },
  {
   "cell_type": "code",
   "execution_count": 11,
   "id": "06e71a70-509c-4522-a2dd-e6537ac3b516",
   "metadata": {},
   "outputs": [
    {
     "name": "stdout",
     "output_type": "stream",
     "text": [
      "0\n",
      "2\n",
      "4\n",
      "6\n",
      "8\n",
      "10\n",
      "12\n",
      "14\n",
      "16\n",
      "18\n"
     ]
    }
   ],
   "source": [
    "for i in range(10):\n",
    "    print(i * 2)"
   ]
  },
  {
   "cell_type": "code",
   "execution_count": 12,
   "id": "61e6eb54-e8a1-466e-bcf5-a6cd97ff0b86",
   "metadata": {},
   "outputs": [],
   "source": [
    "lst.remove(g) "
   ]
  },
  {
   "cell_type": "code",
   "execution_count": 13,
   "id": "16437f86-c3e0-439a-b322-6f8ef6c1ca5a",
   "metadata": {},
   "outputs": [
    {
     "data": {
      "text/plain": [
       "[1, 2, 3, 4, 5, 5, 6]"
      ]
     },
     "execution_count": 13,
     "metadata": {},
     "output_type": "execute_result"
    }
   ],
   "source": [
    "lst"
   ]
  },
  {
   "cell_type": "code",
   "execution_count": 14,
   "id": "28aa56d8-1ef6-47e9-a9a3-a9b0c5aed573",
   "metadata": {},
   "outputs": [
    {
     "data": {
      "text/plain": [
       "6"
      ]
     },
     "execution_count": 14,
     "metadata": {},
     "output_type": "execute_result"
    }
   ],
   "source": [
    "lst.pop()"
   ]
  },
  {
   "cell_type": "code",
   "execution_count": 15,
   "id": "c629cde1-b8ad-4112-8f0b-57143bdebaf3",
   "metadata": {},
   "outputs": [
    {
     "data": {
      "text/plain": [
       "5"
      ]
     },
     "execution_count": 15,
     "metadata": {},
     "output_type": "execute_result"
    }
   ],
   "source": [
    "lst.pop()"
   ]
  },
  {
   "cell_type": "code",
   "execution_count": 16,
   "id": "0e37c905-01c8-4b70-bc8a-a2f154b87d79",
   "metadata": {},
   "outputs": [],
   "source": [
    "lst.append(6)"
   ]
  },
  {
   "cell_type": "code",
   "execution_count": 17,
   "id": "add79660-fefb-4aa7-bb38-6a0ad3c2a28b",
   "metadata": {},
   "outputs": [
    {
     "data": {
      "text/plain": [
       "[1, 2, 3, 4, 5, 6]"
      ]
     },
     "execution_count": 17,
     "metadata": {},
     "output_type": "execute_result"
    }
   ],
   "source": [
    "lst"
   ]
  },
  {
   "cell_type": "code",
   "execution_count": null,
   "id": "b26d8e95-dbfc-4f92-8a1a-10784aebbd4b",
   "metadata": {},
   "outputs": [],
   "source": [
    "def extracted_image_data(input_path, out_put_csv):\n",
    "    image_data = []\n",
    "    labels = []\n",
    "    for folder_name in os.listdir(input_path):\n",
    "        folder_path = os.path.join(input_path, folder_name)\n",
    "        \n",
    "        if os.path.isdir(folder_path):\n",
    "            for image_name in os.listdir(folder_path):\n",
    "                image_path = os.path.join(folder_path, image_name)\n",
    "                try:\n",
    "                    \n",
    "            \n",
    "        \n",
    "\n",
    "\n",
    "\n",
    "df= pd.DataFrame(image_data)\n",
    "df[\"Label\"] = labels\n",
    "df.to_csv(out_put_csv, inplace=False)\n",
    "input_path =\n",
    "extracted_image_data(input_path, out_put_csv)"
   ]
  }
 ],
 "metadata": {
  "kernelspec": {
   "display_name": "Python 3 (ipykernel)",
   "language": "python",
   "name": "python3"
  },
  "language_info": {
   "codemirror_mode": {
    "name": "ipython",
    "version": 3
   },
   "file_extension": ".py",
   "mimetype": "text/x-python",
   "name": "python",
   "nbconvert_exporter": "python",
   "pygments_lexer": "ipython3",
   "version": "3.10.2"
  }
 },
 "nbformat": 4,
 "nbformat_minor": 5
}
