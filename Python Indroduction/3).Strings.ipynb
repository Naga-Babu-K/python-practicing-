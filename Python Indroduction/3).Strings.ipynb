{
 "cells": [
  {
   "cell_type": "markdown",
   "id": "5771199a-e9d5-41d1-9bf3-aa341b386d6c",
   "metadata": {},
   "source": [
    "## strings"
   ]
  },
  {
   "cell_type": "markdown",
   "id": "cd9fc4f9-0c4b-4c0c-afb4-85fad82efe44",
   "metadata": {},
   "source": [
    "## **Strings Introduction**"
   ]
  },
  {
   "cell_type": "markdown",
   "id": "d327e3c7-f4de-46b5-a20c-a1bc2ce5add6",
   "metadata": {},
   "source": [
    "points:\n",
    "- A string is a series of characters.\n",
    "- Anything inside quotes is considered a string in Python \n",
    "- you can use single or double quotes around your strings like this: #eg:- \"python\", 'python'\n",
    "- By using triple quotes we can take entire paragraph as a **str**      \n",
    "**ex**: \"\"\"Python is a high-level, general-purpose programming language. Its design philosophy emphasizes code readability with the use of significant indentation.[33]\n",
    "\n",
    "Python is dynamically type-checked and garbage-collected. It supports multiple programming paradigms, including structured (particularly procedural), object-oriented and functional programming. It is often described as a \"batteries included\" language due to its comprehensive standard library.[34][35]\n",
    "\n",
    "Guido van Rossum began working on Python in the late 1980s as a successor to the ABC programming language and first released it in 1991 as Python 0.9.0.[36] Python 2.0 was released in 2000. Python 3.0, released in 2008, was a major revision not \"\"\""
   ]
  },
  {
   "cell_type": "markdown",
   "id": "42ad6d6e-3d22-4e49-b096-90e52e1d29be",
   "metadata": {},
   "source": [
    "## String methods\n",
    "- **upper()** :- to make all characters in a str, convert  to capital letters\n",
    "- **lower()** :- to make entire str is converting to lowercase\n",
    "- **title()** :- TO make each word starting letter is capital\n",
    "- **len()** :- To know len of characters in a string\n",
    "- **capitalize()** :- To make the Starting letter in the entire string capital"
   ]
  },
  {
   "cell_type": "code",
   "execution_count": null,
   "id": "a386db33-c96d-40f8-bf12-63c536da6a15",
   "metadata": {},
   "outputs": [],
   "source": [
    "# To access method we will use (.)dot operator\n",
    "# to invoke the method we will use ( )braces after method name\n"
   ]
  },
  {
   "cell_type": "code",
   "execution_count": 6,
   "id": "a2c63580-6d94-43b5-b125-833d6380f9d4",
   "metadata": {},
   "outputs": [
    {
     "name": "stdout",
     "output_type": "stream",
     "text": [
      "my father's name is\n",
      "This is also a string.\n"
     ]
    }
   ],
   "source": [
    "a = \"my father's name is\"\n",
    "# here 'a' is acting like a variable,  the text is acting like a 'value', here we use the '=' assign operator to assign value to the variable\n",
    "b = 'This is also a string.'\n",
    "\n",
    "print(a)\n",
    "print(b)"
   ]
  },
  {
   "cell_type": "markdown",
   "id": "8ee78280-f29e-482a-ac68-6415dd93f07b",
   "metadata": {},
   "source": [
    "## Let’s explore some of the ways you can use strings.\n",
    "\n"
   ]
  },
  {
   "cell_type": "markdown",
   "id": "060333e5-e738-4a66-b957-b241fcf30e44",
   "metadata": {},
   "source": [
    "## **Changing Case in a String with Methods**"
   ]
  },
  {
   "cell_type": "markdown",
   "id": "3201608f-05db-4b96-a1d6-122914a9847b",
   "metadata": {},
   "source": [
    "you can do with strings is change the case of the words in a string."
   ]
  },
  {
   "cell_type": "markdown",
   "id": "e9f6430d-cd2c-43a2-9408-1bcf7721f0af",
   "metadata": {},
   "source": [
    "- Every method is followed by a set of parentheses.\n",
    "- because methods often need additional information to do their work.\n",
    "- This is useful because you’ll often want to think of a name as a piece of information. "
   ]
  },
  {
   "cell_type": "markdown",
   "id": "604392bb-a223-49b9-a579-8c504f2202b8",
   "metadata": {},
   "source": [
    "# **title()** case"
   ]
  },
  {
   "cell_type": "code",
   "execution_count": 1,
   "id": "5d87058b-0fad-4e39-9af7-c336c8ebdcb4",
   "metadata": {},
   "outputs": [
    {
     "name": "stdout",
     "output_type": "stream",
     "text": [
      "My Father'S Name Is\n"
     ]
    }
   ],
   "source": [
    "name = \"my father's name is\"\n",
    "# the variable name refers to the lowercase string \"\n",
    "\n",
    "\n",
    "#appears after the variable in the print()\n",
    "print(name.title())"
   ]
  },
  {
   "cell_type": "markdown",
   "id": "e90e90e6-96b3-43ad-83f4-a871c3169d98",
   "metadata": {},
   "source": [
    "# **upper()** case\n",
    "- To make all letters in the string capitals"
   ]
  },
  {
   "cell_type": "code",
   "execution_count": 8,
   "id": "af1a0d7b-60a2-492f-85e4-8953d1018277",
   "metadata": {},
   "outputs": [
    {
     "name": "stdout",
     "output_type": "stream",
     "text": [
      "MY FATHER'S NAME IS\n"
     ]
    }
   ],
   "source": [
    "name = \"my father's name is\"\n",
    "print(name.upper())"
   ]
  },
  {
   "cell_type": "code",
   "execution_count": null,
   "id": "4e24833d-0b55-49be-8c58-61e437cd2fe7",
   "metadata": {},
   "outputs": [],
   "source": []
  },
  {
   "cell_type": "markdown",
   "id": "12ad9d83-020e-4781-b2b1-6d20df35c6d5",
   "metadata": {},
   "source": [
    "## **lower()** case\n",
    "- - To make all letters in the string to lowercase"
   ]
  },
  {
   "cell_type": "markdown",
   "id": "af39bab9-0121-4a96-a273-675c4272c6fd",
   "metadata": {},
   "source": [
    "- The lower() method is particularly useful for storing data.\n",
    "- You typically won’t want to trust the capitalization that your users provide\n",
    "-  so you’ll convert strings to lowercase before storing them."
   ]
  },
  {
   "cell_type": "code",
   "execution_count": 9,
   "id": "6327fb63-f44a-4821-b9bb-3a13574b7a9a",
   "metadata": {},
   "outputs": [
    {
     "name": "stdout",
     "output_type": "stream",
     "text": [
      "my father's name is\n"
     ]
    }
   ],
   "source": [
    "n = \"MY FATHER'S NAME IS\"\n",
    "print(n.lower())"
   ]
  },
  {
   "cell_type": "code",
   "execution_count": 10,
   "id": "32ee8cef-ae77-4e6e-83fe-38bf25d4b409",
   "metadata": {},
   "outputs": [
    {
     "data": {
      "text/plain": [
       "19"
      ]
     },
     "execution_count": 10,
     "metadata": {},
     "output_type": "execute_result"
    }
   ],
   "source": [
    "len(n)"
   ]
  },
  {
   "cell_type": "code",
   "execution_count": 11,
   "id": "73214714-b90a-411f-be5b-214612b63652",
   "metadata": {},
   "outputs": [],
   "source": [
    "d = \"jhgujyfyuduyfjv,jhgfkjfkv,jhv,hjfjvc,hjvh,jfvykjcg,jvch,vjfcv,jgv ,jhvyukgvhj nbmjbghjguykgyufytfvkjhbvhjfbyujtvf\\njgfyuffkjgvhjfkvkgvchkchjv jvhvmvgjhvdyutfviubg kl\"\n"
   ]
  },
  {
   "cell_type": "code",
   "execution_count": 12,
   "id": "bb924668-7978-4ae3-b668-9cc0c4d53497",
   "metadata": {},
   "outputs": [
    {
     "data": {
      "text/plain": [
       "164"
      ]
     },
     "execution_count": 12,
     "metadata": {},
     "output_type": "execute_result"
    }
   ],
   "source": [
    "len(d)"
   ]
  },
  {
   "cell_type": "code",
   "execution_count": null,
   "id": "d411bc8b-f16e-4045-ba89-20808648614a",
   "metadata": {},
   "outputs": [],
   "source": []
  },
  {
   "cell_type": "code",
   "execution_count": null,
   "id": "664eed6e-20ae-4a87-bc4a-90ab0b4dea16",
   "metadata": {},
   "outputs": [],
   "source": []
  },
  {
   "cell_type": "code",
   "execution_count": null,
   "id": "2f41d49c-58e5-4a52-a233-1966333751b7",
   "metadata": {},
   "outputs": [],
   "source": []
  },
  {
   "cell_type": "markdown",
   "id": "e0b0a8c5-4d3c-4d74-bbb6-bc9ef4c1c324",
   "metadata": {},
   "source": [
    "# **Using Variables in Strings**"
   ]
  },
  {
   "cell_type": "markdown",
   "id": "b343d368-fae9-4137-a0b1-d4f1714154f8",
   "metadata": {},
   "source": [
    "- In some situations, you’ll want to use a variable’s value inside a string.\n",
    "## format()\n",
    "- The format() method is used to make parts of a string dynamic."
   ]
  },
  {
   "cell_type": "code",
   "execution_count": 1,
   "id": "7ae1c6b8-08f3-4ef0-8357-28b17cbf244b",
   "metadata": {},
   "outputs": [
    {
     "name": "stdout",
     "output_type": "stream",
     "text": [
      "my name is :ada lovelace\n"
     ]
    }
   ],
   "source": [
    "first_name = \"ada\"\n",
    "last_name = \"lovelace\"\n",
    "full_name =   f\"my name is :{first_name} {last_name}\"\n",
    "print(full_name)"
   ]
  },
  {
   "cell_type": "markdown",
   "id": "d5428ec4-43c7-4619-9860-04fa52b830a8",
   "metadata": {},
   "source": [
    "# Slicing Strings"
   ]
  },
  {
   "attachments": {
    "2f71c030-1baf-4217-a50a-890f491e021e.jpg": {
     "image/jpeg": "[encoded data removed]"
    }
   },
   "cell_type": "markdown",
   "id": "c725652c-8536-49d4-ae54-3dd239fa42d0",
   "metadata": {},
   "source": [
    "![positive_negative_index.jpg](attachment:2f71c030-1baf-4217-a50a-890f491e021e.jpg)"
   ]
  },
  {
   "cell_type": "code",
   "execution_count": null,
   "id": "9ddd0204-1a2d-4649-ba44-a5692de08495",
   "metadata": {},
   "outputs": [],
   "source": [
    "# You can return a range of characters by using the slice syntax.\n",
    "# Specify the start index and the end index, separated by a colon, to return a part of the string\n",
    "# [start : stop] stop = n-1\n",
    " \n",
    "# [Start : stop]\n",
    "# [start : ]\n",
    "# [: stop]\n",
    "# [start : stop :step]"
   ]
  },
  {
   "cell_type": "code",
   "execution_count": 3,
   "id": "6be238a7-9967-49fb-8986-a38032a2fabc",
   "metadata": {},
   "outputs": [
    {
     "name": "stdout",
     "output_type": "stream",
     "text": [
      "lo, \n",
      "4\n"
     ]
    }
   ],
   "source": [
    "b = \"Hello, World!\"\n",
    "len(b)\n",
    "a = b[3:7]\n",
    "print(a)\n",
    "print(len(a))"
   ]
  },
  {
   "cell_type": "code",
   "execution_count": 9,
   "id": "90c7512e-91c3-4eff-b831-6e9630290055",
   "metadata": {},
   "outputs": [
    {
     "data": {
      "text/plain": [
       "','"
      ]
     },
     "execution_count": 9,
     "metadata": {},
     "output_type": "execute_result"
    }
   ],
   "source": [
    "b[5:6]"
   ]
  },
  {
   "cell_type": "code",
   "execution_count": 3,
   "id": "cd3ff808-26d7-40f7-991a-6a3299f29511",
   "metadata": {},
   "outputs": [
    {
     "data": {
      "text/plain": [
       "'Hello, '"
      ]
     },
     "execution_count": 3,
     "metadata": {},
     "output_type": "execute_result"
    }
   ],
   "source": [
    "b[:7]"
   ]
  },
  {
   "cell_type": "code",
   "execution_count": 4,
   "id": "9675f68c-37a9-4fed-9688-d5ad91bf897a",
   "metadata": {},
   "outputs": [
    {
     "data": {
      "text/plain": [
       "'Hello, W'"
      ]
     },
     "execution_count": 4,
     "metadata": {},
     "output_type": "execute_result"
    }
   ],
   "source": [
    "b[:8]"
   ]
  },
  {
   "attachments": {
    "3aaf62ae-e707-4c79-8c27-0190d8607bd4.jpg": {
     "image/jpeg": "[encoded data removed]"
    }
   },
   "cell_type": "markdown",
   "id": "2b3a42da-9d46-4e7a-a285-9479c6490303",
   "metadata": {},
   "source": [
    "\n",
    "![positive_negative_index.jpg](attachment:3aaf62ae-e707-4c79-8c27-0190d8607bd4.jpg)"
   ]
  },
  {
   "cell_type": "code",
   "execution_count": 2,
   "id": "6784cb50-0138-4091-8bdc-fc65b5fce1d3",
   "metadata": {},
   "outputs": [
    {
     "name": "stdout",
     "output_type": "stream",
     "text": [
      "llo, W\n"
     ]
    }
   ],
   "source": [
    "b = \"Hello, World!\"\n",
    "\n",
    "# [start : stop: step] :- based on the step value it is giving the output.\n",
    "# [Start : stop] :- based on the star and stop value it is giving the range of values.\n",
    "# [:stop] :- i given stop here it will print the output of before values.\n",
    "# [start:]:- i given start here it will print the output of after values.\n",
    "\n",
    "print(b[2:8])"
   ]
  },
  {
   "cell_type": "code",
   "execution_count": null,
   "id": "5b8bcd43-ff00-4f5a-bb61-935fb2613788",
   "metadata": {},
   "outputs": [],
   "source": [
    "# Slice From the Start"
   ]
  },
  {
   "cell_type": "code",
   "execution_count": 7,
   "id": "b577c318-284c-4247-98ba-ab7551579d9f",
   "metadata": {},
   "outputs": [
    {
     "name": "stdout",
     "output_type": "stream",
     "text": [
      "!dlroW ,olleH\n"
     ]
    }
   ],
   "source": [
    "# By leaving out the start index, the range will start at the first character:\n",
    "# reverse a string without using any method\n",
    "print(b[::-1])"
   ]
  },
  {
   "cell_type": "code",
   "execution_count": 6,
   "id": "0b9e177a-c823-410a-97c6-986e3d661ff9",
   "metadata": {},
   "outputs": [
    {
     "name": "stdout",
     "output_type": "stream",
     "text": [
      "Hl r\n"
     ]
    }
   ],
   "source": [
    "# [Start : stop : step]\n",
    "print(b[0:10:3])\n"
   ]
  },
  {
   "cell_type": "markdown",
   "id": "6adafcc1-6305-4d3b-bbb5-de178018b1a2",
   "metadata": {},
   "source": [
    "## **Swaping method**"
   ]
  },
  {
   "cell_type": "code",
   "execution_count": 2,
   "id": "bf691f8b-1213-4e01-95a3-ba2db5f95c10",
   "metadata": {},
   "outputs": [
    {
     "name": "stdout",
     "output_type": "stream",
     "text": [
      "before swap a:  25\n",
      "before swap b:  15\n",
      "after swap a:  15\n",
      "after swap b:  25\n"
     ]
    }
   ],
   "source": [
    "a = 25\n",
    "b = 15\n",
    "print(\"before swap a: \",a)\n",
    "print(\"before swap b: \",b)\n",
    "a, b = b, a\n",
    "print(\"after swap a: \",a)\n",
    "print(\"after swap b: \",b)"
   ]
  },
  {
   "cell_type": "code",
   "execution_count": null,
   "id": "f35b09e0-d8d1-46ce-bf3d-838056f4b9a1",
   "metadata": {},
   "outputs": [],
   "source": []
  },
  {
   "cell_type": "markdown",
   "id": "77170844-0055-47d8-8714-6aaa98f71998",
   "metadata": {},
   "source": [
    "## Remove Whitespace\n",
    "-  to remove any leading or trailing whit spaces and new line characters"
   ]
  },
  {
   "cell_type": "code",
   "execution_count": 4,
   "id": "e421c4ee-2db7-43cd-85d0-3b1c0eb40b7d",
   "metadata": {},
   "outputs": [
    {
     "name": "stdout",
     "output_type": "stream",
     "text": [
      "before strip   Hello, World!  \n",
      "17\n",
      "after strip Hello, World!\n",
      "13\n"
     ]
    }
   ],
   "source": [
    "\n",
    "# Whitespace is the space before and/or after the actual text, and very often you want to remove this space.\n",
    "# The strip() method removes any whitespace from the beginning or the end\n",
    "\n",
    "a = \"  Hello, World!  \"\n",
    "print(\"before strip\", a)\n",
    "print(len(a))\n",
    "s = a.strip() # returns \"Hello, World!\" \n",
    "print(\"after strip\", s)\n",
    "print(len(s))"
   ]
  },
  {
   "cell_type": "markdown",
   "id": "32b31883-e992-4461-baa6-5cb796d6baef",
   "metadata": {},
   "source": [
    "# **Replace String**\n",
    "strip methos:\n",
    "- lstrip() \n",
    "- rstrip()\n",
    "- strip()"
   ]
  },
  {
   "cell_type": "code",
   "execution_count": 14,
   "id": "1f221eb2-7460-44ea-8918-528b8ebce972",
   "metadata": {},
   "outputs": [
    {
     "name": "stdin",
     "output_type": "stream",
     "text": [
      "enter a info   Hello  \n"
     ]
    },
    {
     "name": "stdout",
     "output_type": "stream",
     "text": [
      "9\n",
      "Hello  \n",
      "7\n",
      "  Hello\n",
      "7\n",
      "Hello\n",
      "5\n"
     ]
    }
   ],
   "source": [
    "a = input(\"enter a info\")\n",
    "print(len(a))\n",
    "\n",
    "# lstrip()\n",
    "l = a.lstrip()\n",
    "print(l)\n",
    "print(len(l))\n",
    "\n",
    "# rstrip()\n",
    "r = a.rstrip()\n",
    "print(r)\n",
    "print(len(r))\n",
    "\n",
    "# strip()\n",
    "s = a.strip()\n",
    "print(s)\n",
    "print(len(s))"
   ]
  },
  {
   "cell_type": "code",
   "execution_count": null,
   "id": "e4b5f44f-b187-4121-a37f-ab027618791a",
   "metadata": {},
   "outputs": [],
   "source": []
  },
  {
   "cell_type": "code",
   "execution_count": null,
   "id": "63536810-8fb3-4f67-ae99-3d8c824043ca",
   "metadata": {},
   "outputs": [],
   "source": []
  },
  {
   "cell_type": "code",
   "execution_count": 19,
   "id": "788febb8-a92d-4f08-a626-92b8f1e5696d",
   "metadata": {},
   "outputs": [
    {
     "name": "stdout",
     "output_type": "stream",
     "text": [
      " Jello, World! \n"
     ]
    }
   ],
   "source": [
    "# The replace() method replaces a string with another string:\n",
    "print(a.replace(\"H\", \"J\"))"
   ]
  },
  {
   "cell_type": "markdown",
   "id": "d9218a53-963f-447a-9204-bed10d664305",
   "metadata": {},
   "source": [
    "# Split String"
   ]
  },
  {
   "cell_type": "code",
   "execution_count": 11,
   "id": "f1b86cb0-5750-4558-9232-f6055bc24628",
   "metadata": {},
   "outputs": [
    {
     "name": "stdout",
     "output_type": "stream",
     "text": [
      "['hello', ' world']\n"
     ]
    }
   ],
   "source": [
    "# The split() method splits the string into substrings if it finds instances of the separator:\n",
    "\n",
    "a = \"hello, world\"\n",
    "print(a.split(\",\")) # returns ['Hello', ' World!'] "
   ]
  },
  {
   "cell_type": "code",
   "execution_count": 1,
   "id": "1923fe94-1001-47f3-a100-be9f77042ee9",
   "metadata": {},
   "outputs": [],
   "source": [
    "str1 = \"\"\"Python is a high-level, general-purpose programming language. Its design philosophy emphasizes code readability with the use of significant indentation.[33]\n",
    "\n",
    "Python is dynamically type-checked and garbage-collected. It supports multiple programming paradigms, including structured (particularly procedural), object-oriented and functional programming. It is often described as a \"batteries included\" language due to its comprehensive standard library.[34][35]\n",
    "\n",
    "Guido van Rossum began working on Python in the late 1980s as a successor to the ABC programming language and first released it in 1991 as Python 0.9.0.[36] Python 2.0 was released in 2000. Python 3.0, released in 2008, was a major revision not \"\"\""
   ]
  },
  {
   "cell_type": "code",
   "execution_count": 2,
   "id": "0c01e53d-cc80-4ebc-9fe6-5156e45d165b",
   "metadata": {},
   "outputs": [
    {
     "data": {
      "text/plain": [
       "706"
      ]
     },
     "execution_count": 2,
     "metadata": {},
     "output_type": "execute_result"
    }
   ],
   "source": [
    "len(str1)"
   ]
  },
  {
   "cell_type": "code",
   "execution_count": 3,
   "id": "4a41c4ad-aa72-43d0-a757-5e8db6f7104f",
   "metadata": {},
   "outputs": [],
   "source": [
    "c = str1.split(\" \")"
   ]
  },
  {
   "cell_type": "code",
   "execution_count": 4,
   "id": "f05bdeed-9aa9-412a-996d-0e7e2fbab994",
   "metadata": {},
   "outputs": [
    {
     "data": {
      "text/plain": [
       "96"
      ]
     },
     "execution_count": 4,
     "metadata": {},
     "output_type": "execute_result"
    }
   ],
   "source": [
    "len(c)"
   ]
  },
  {
   "cell_type": "markdown",
   "id": "3bb69348-873a-47a0-9a6c-b6517af5353a",
   "metadata": {},
   "source": [
    "# String Concatenation"
   ]
  },
  {
   "cell_type": "code",
   "execution_count": null,
   "id": "790d3b2d-6aca-475c-bbb3-e63e0230fabd",
   "metadata": {},
   "outputs": [],
   "source": [
    "# To concatenate, or combine, two strings you can use the + operator."
   ]
  },
  {
   "cell_type": "code",
   "execution_count": 3,
   "id": "71f02af7-518d-4499-b7e4-e051cb16355c",
   "metadata": {},
   "outputs": [
    {
     "name": "stdout",
     "output_type": "stream",
     "text": [
      "HelloWorld\n"
     ]
    }
   ],
   "source": [
    "# Merge variable a with variable b into variable c\n",
    "\n",
    "a = \"Hello\"\n",
    "b = \"World\"\n",
    "c = a+ b\n",
    "print(c)     "
   ]
  },
  {
   "cell_type": "code",
   "execution_count": 4,
   "id": "b86db5da-c18b-49c0-83c3-c820736f4535",
   "metadata": {},
   "outputs": [
    {
     "name": "stdout",
     "output_type": "stream",
     "text": [
      "Hello World\n"
     ]
    }
   ],
   "source": [
    "# Merge variable a with variable b into variable c\n",
    "\n",
    "a = \"Hello\"\n",
    "b = \"World\"\n",
    "c = a+\" \"+ b\n",
    "print(c)     "
   ]
  },
  {
   "cell_type": "markdown",
   "id": "4bed172d-c05b-4348-bfeb-687850c2005c",
   "metadata": {},
   "source": [
    "# String Format:\n",
    "- As we learnd in the python variables chapter , we cannot combine strings and numbers like this."
   ]
  },
  {
   "cell_type": "code",
   "execution_count": 23,
   "id": "9a3950a2-12db-4e17-9b01-cfce4f509775",
   "metadata": {},
   "outputs": [
    {
     "ename": "TypeError",
     "evalue": "can only concatenate str (not \"int\") to str",
     "output_type": "error",
     "traceback": [
      "\u001b[1;31m---------------------------------------------------------------------------\u001b[0m",
      "\u001b[1;31mTypeError\u001b[0m                                 Traceback (most recent call last)",
      "Cell \u001b[1;32mIn[23], line 5\u001b[0m\n\u001b[0;32m      1\u001b[0m \u001b[38;5;66;03m# As we learned in the Python Variables chapter, we cannot combine strings and numbers:\u001b[39;00m\n\u001b[0;32m      4\u001b[0m age \u001b[38;5;241m=\u001b[39m \u001b[38;5;241m36\u001b[39m\n\u001b[1;32m----> 5\u001b[0m txt \u001b[38;5;241m=\u001b[39m \u001b[38;5;124;43m\"\u001b[39;49m\u001b[38;5;124;43mMy name is John, I am \u001b[39;49m\u001b[38;5;124;43m\"\u001b[39;49m\u001b[43m \u001b[49m\u001b[38;5;241;43m+\u001b[39;49m\u001b[43m \u001b[49m\u001b[43mage\u001b[49m\n\u001b[0;32m      6\u001b[0m \u001b[38;5;28mprint\u001b[39m(txt)\n",
      "\u001b[1;31mTypeError\u001b[0m: can only concatenate str (not \"int\") to str"
     ]
    }
   ],
   "source": [
    "# As we learned in the Python Variables chapter, we cannot combine strings and numbers:\n",
    "\n",
    "\n",
    "age = 36\n",
    "txt = \"My name is John, I am \" + age\n",
    "print(txt)"
   ]
  },
  {
   "cell_type": "code",
   "execution_count": 3,
   "id": "473f6155-3491-48a2-b458-acc2c1693b7c",
   "metadata": {},
   "outputs": [
    {
     "name": "stdin",
     "output_type": "stream",
     "text": [
      "enter a num 25\n"
     ]
    },
    {
     "name": "stdout",
     "output_type": "stream",
     "text": [
      "My name is John, I am 25\n"
     ]
    }
   ],
   "source": [
    "# But we can combine strings and numbers by using f-strings or the format() method\n",
    "\n",
    "# To specify a string as an f-string, simply put an f in front of the string literal, and add curly brackets {} as placeholders for variables and other operations.\n",
    "# here the curved bracekts are palcae holders\n",
    "age = int(input(\"enter a num\"))\n",
    "txt = f\"My name is John, I am {age}\"\n",
    "print(txt)"
   ]
  },
  {
   "cell_type": "code",
   "execution_count": null,
   "id": "4856b4ea-e7a9-42b5-8b68-1303758f3672",
   "metadata": {},
   "outputs": [],
   "source": []
  },
  {
   "cell_type": "code",
   "execution_count": 27,
   "id": "ab7eedcb-63cd-45ff-bc61-e33b649e355f",
   "metadata": {},
   "outputs": [],
   "source": [
    "# Adding Whitespace to Strings with Tabs or Newlines\n",
    "# whitespace refers to any nonprinting characters, such as spaces, tabs, and end-of-line symbols."
   ]
  },
  {
   "cell_type": "code",
   "execution_count": 29,
   "id": "d076055e-d5a1-4242-9ad2-3774f3c5fe78",
   "metadata": {},
   "outputs": [
    {
     "name": "stdout",
     "output_type": "stream",
     "text": [
      "Python\n",
      "\tPython\n"
     ]
    }
   ],
   "source": [
    "# To add a tab to your text (\\t):\n",
    "print(\"Python\")\n",
    "print(\"\\tPython\") # here use \\t. because of the output was came to after 4 spaces "
   ]
  },
  {
   "cell_type": "code",
   "execution_count": 31,
   "id": "de3cdf54-7597-4fb3-946e-05c74814b02c",
   "metadata": {},
   "outputs": [
    {
     "name": "stdout",
     "output_type": "stream",
     "text": [
      "Languages:\n",
      "Python\n",
      "C\n",
      "JavaScript\n"
     ]
    }
   ],
   "source": [
    "# here use \\n. for shift to the next line :\n",
    "\n",
    "print(\"Languages:\\nPython\\nC\\nJavaScript\") "
   ]
  },
  {
   "cell_type": "code",
   "execution_count": 32,
   "id": "eae31d7d-826c-43bf-a0b8-7e629814e455",
   "metadata": {},
   "outputs": [
    {
     "name": "stdout",
     "output_type": "stream",
     "text": [
      "Languages:\n",
      "\tPython\n",
      "\tC\n",
      "\tJavaScript\n"
     ]
    }
   ],
   "source": [
    "# The string \"\\n\\t\" tells Python to move to a new line, and start the next line with a tab\n",
    "print(\"Languages:\\n\\tPython\\n\\tC\\n\\tJavaScript\")"
   ]
  },
  {
   "cell_type": "code",
   "execution_count": 9,
   "id": "0a20fdcb-e354-4a7c-bf0c-d9ea680336b4",
   "metadata": {},
   "outputs": [
    {
     "name": "stdout",
     "output_type": "stream",
     "text": [
      "abhi\n"
     ]
    }
   ],
   "source": [
    "a = \"abhi\"\n",
    "print(a)"
   ]
  },
  {
   "cell_type": "markdown",
   "id": "b3cb254c-abe4-47bd-9efd-302b6fc676d5",
   "metadata": {},
   "source": [
    "## **string Concatenation**\n",
    "- To concatenate or combine, two strings you can use the \"+\" operator\n",
    "- merge variable-a with variable-b into variable-c:"
   ]
  },
  {
   "cell_type": "code",
   "execution_count": 2,
   "id": "867117aa-0b39-42d7-9a12-4fe5e609b33c",
   "metadata": {},
   "outputs": [
    {
     "name": "stdin",
     "output_type": "stream",
     "text": [
      "enter a first_name naga\n",
      "enter a last_name babu\n"
     ]
    },
    {
     "name": "stdout",
     "output_type": "stream",
     "text": [
      "nagababu\n"
     ]
    }
   ],
   "source": [
    "a = input(\"enter a first_name\") # it is vconverting to str\n",
    "b = input(\"enter a last_name\")\n",
    "c = a + b\n",
    "print(c)"
   ]
  },
  {
   "cell_type": "code",
   "execution_count": 3,
   "id": "5f01af1c-11d7-4b60-b89e-c60d5e7ff64c",
   "metadata": {},
   "outputs": [
    {
     "name": "stdin",
     "output_type": "stream",
     "text": [
      "enter a first_name Naga\n",
      "enter a last_name Babu\n"
     ]
    },
    {
     "name": "stdout",
     "output_type": "stream",
     "text": [
      "Naga Babu\n"
     ]
    }
   ],
   "source": [
    "a = input(\"enter a first_name\")\n",
    "b = input(\"enter a last_name\")\n",
    "c = a +\" \"+ b\n",
    "print(c)"
   ]
  },
  {
   "cell_type": "code",
   "execution_count": 2,
   "id": "cb1b41bf-66ee-4835-bd5d-fdb46adf303b",
   "metadata": {},
   "outputs": [
    {
     "name": "stdin",
     "output_type": "stream",
     "text": [
      "enter a num 2\n",
      "enter a num 5\n",
      "enter a float num 9\n"
     ]
    },
    {
     "name": "stdout",
     "output_type": "stream",
     "text": [
      "<class 'float'>\n",
      "16.0\n"
     ]
    }
   ],
   "source": [
    "a = int(input(\"enter a num\")) # it is using for numbers we can store values of numbers\n",
    "b = int(input(\"enter a num\"))\n",
    "c = float(input(\"enter a float num\"))\n",
    "print(type(c))\n",
    "sum = a + b + c\n",
    "print(sum)"
   ]
  },
  {
   "cell_type": "markdown",
   "id": "db87b7f1-e498-4ec9-a304-3a73297d711e",
   "metadata": {},
   "source": [
    "## Removing Prefixes\n",
    "-  working with strings, another common task is to remove a prefix.\n",
    "-  Consider a URL with the common prefix https://."
   ]
  },
  {
   "cell_type": "code",
   "execution_count": 7,
   "id": "559e9617-3512-406b-81f6-2f46f42afb67",
   "metadata": {},
   "outputs": [
    {
     "data": {
      "text/plain": [
       "'nostarch.com'"
      ]
     },
     "execution_count": 7,
     "metadata": {},
     "output_type": "execute_result"
    }
   ],
   "source": [
    "nostarch_url = 'https://nostarch.com'\n",
    "nostarch_url.removeprefix('https://')\n"
   ]
  },
  {
   "cell_type": "markdown",
   "id": "8ed79fbe-cbb5-4ee9-9f3d-05cd24a6132c",
   "metadata": {},
   "source": [
    "## **find()**\n",
    "- it returns the index position of the string character of the sub-string"
   ]
  },
  {
   "cell_type": "code",
   "execution_count": 14,
   "id": "034dc6f4-3e98-4ae1-bdb7-1037abdb9bd0",
   "metadata": {},
   "outputs": [
    {
     "data": {
      "text/plain": [
       "-1"
      ]
     },
     "execution_count": 14,
     "metadata": {},
     "output_type": "execute_result"
    }
   ],
   "source": [
    "str1.find(\"python\") ## it will returns -1 if given string is not found"
   ]
  },
  {
   "cell_type": "code",
   "execution_count": 15,
   "id": "3e1b3734-62b8-4e42-88fe-22e492bdd178",
   "metadata": {},
   "outputs": [
    {
     "data": {
      "text/plain": [
       "33"
      ]
     },
     "execution_count": 15,
     "metadata": {},
     "output_type": "execute_result"
    }
   ],
   "source": [
    "str1.find(\"u\")"
   ]
  },
  {
   "cell_type": "markdown",
   "id": "82c278c1-6b73-4c47-b374-b3160d3ff86c",
   "metadata": {},
   "source": [
    "## **is digit()**\n",
    "to check if the string contains numerics"
   ]
  },
  {
   "cell_type": "code",
   "execution_count": 5,
   "id": "b55bca30-ffe4-40aa-8290-e5f8662aba7d",
   "metadata": {},
   "outputs": [],
   "source": [
    "n = \"10\"\n",
    "s = \"megha\"\n",
    "c = \"megha2\" "
   ]
  },
  {
   "cell_type": "code",
   "execution_count": 2,
   "id": "0d9024d4-c8e8-45cf-af49-732c2100c7a8",
   "metadata": {},
   "outputs": [
    {
     "data": {
      "text/plain": [
       "True"
      ]
     },
     "execution_count": 2,
     "metadata": {},
     "output_type": "execute_result"
    }
   ],
   "source": [
    "n.isdigit()"
   ]
  },
  {
   "cell_type": "code",
   "execution_count": 4,
   "id": "0873b7d7-665e-4a15-a017-48a02c2515c2",
   "metadata": {},
   "outputs": [
    {
     "data": {
      "text/plain": [
       "False"
      ]
     },
     "execution_count": 4,
     "metadata": {},
     "output_type": "execute_result"
    }
   ],
   "source": [
    "s.isdigit()"
   ]
  },
  {
   "cell_type": "code",
   "execution_count": 8,
   "id": "0c8f20d7-3f23-47fb-b7ec-76f2d8ad051e",
   "metadata": {},
   "outputs": [
    {
     "name": "stdout",
     "output_type": "stream",
     "text": [
      "True\n",
      "True\n",
      "False\n"
     ]
    }
   ],
   "source": [
    "print(n.isalnum())\n",
    "print(s.isalpha())\n",
    "print(c.isalpha())"
   ]
  },
  {
   "cell_type": "code",
   "execution_count": null,
   "id": "128f7f98-800b-4878-bf2f-f1fc1f15b783",
   "metadata": {},
   "outputs": [],
   "source": []
  },
  {
   "cell_type": "markdown",
   "id": "02c59172-80cf-4757-8bb6-852d789a02b3",
   "metadata": {},
   "source": [
    "## Remaining string methods:\n",
    "- capitalize()\n",
    "- casefold()\n",
    "- center()\n",
    "- count()\n",
    "- encode()\n",
    "- endswith()\n",
    "- starswith()\n",
    "- find()\n",
    "- format_map()"
   ]
  },
  {
   "cell_type": "markdown",
   "id": "980ce51e-1abf-45da-8ff1-8b955259a946",
   "metadata": {},
   "source": [
    "## Avoiding Syntax Errors with Strings\n",
    "- One kind of error that you might see with some regularity is a syntax error.\n",
    "- A syntax error occurs when Python doesn’t recognize a section of your\n",
    "program as valid Python code."
   ]
  },
  {
   "cell_type": "code",
   "execution_count": 3,
   "id": "b71a3f5a-8011-4f82-b2d5-4c46aafa2294",
   "metadata": {},
   "outputs": [
    {
     "name": "stdout",
     "output_type": "stream",
     "text": [
      "One of Python's strengths is its diverse community.\n"
     ]
    }
   ],
   "source": [
    "message = \"One of Python's strengths is its diverse community.\"\n",
    "print(message)"
   ]
  },
  {
   "cell_type": "markdown",
   "id": "bb090cc4-e871-4569-a1bf-7becda000363",
   "metadata": {},
   "source": [
    "- The apostrophe appears inside a set of double quotes, so the Python\n",
    "interpreter has no trouble reading the string correctly"
   ]
  },
  {
   "cell_type": "code",
   "execution_count": 5,
   "id": "66bccefe-4e1a-46c3-92ea-9f6c59394453",
   "metadata": {},
   "outputs": [
    {
     "ename": "SyntaxError",
     "evalue": "unterminated string literal (detected at line 1) (1265700866.py, line 1)",
     "output_type": "error",
     "traceback": [
      "\u001b[1;36m  Cell \u001b[1;32mIn[5], line 1\u001b[1;36m\u001b[0m\n\u001b[1;33m    message = 'One of Python's strengths is its diverse community.'\u001b[0m\n\u001b[1;37m                                                                  ^\u001b[0m\n\u001b[1;31mSyntaxError\u001b[0m\u001b[1;31m:\u001b[0m unterminated string literal (detected at line 1)\n"
     ]
    }
   ],
   "source": [
    "message = 'One of Python's strengths is its diverse community.'\n",
    "print(message)"
   ]
  },
  {
   "cell_type": "markdown",
   "id": "67892d8f-7c51-41ab-878f-ff924c0929c8",
   "metadata": {
    "jp-MarkdownHeadingCollapsed": true
   },
   "source": [
    "## **Strings** home Work\n",
    "- 1). Use a variable to represent a person’s name, and print a\n",
    "message to that person. Your message should be simple, such as, “Hello Eric, would you\n",
    "like to learn some Python today?\n",
    "- 2). Use a variable to represent a person’s name, and then print that\n",
    "person’s name in lowercase, uppercase, and title case?\n",
    "  This time, represent the famous person’s\n",
    "name using a variable called famous_person. Then compose your message and represent\n",
    "it with a new variable called message. Print your message?\n",
    "-  Use a variable to represent a person’s name, and include some\n",
    "whitespace characters at the beginning and end of the name. Make sure you use each\n",
    "character combination, **\"\\t\"** and **\"\\n\"**, at least once.\n",
    "Print the name once, so the whitespace around the name is displayed. Then print the\n",
    "name using each of the three stripping functions, **lstrip()**, **rstrip()**, and **strip()**."
   ]
  },
  {
   "cell_type": "code",
   "execution_count": null,
   "id": "3d4438a1-6ccd-4cf8-ab97-9f45218527b1",
   "metadata": {},
   "outputs": [],
   "source": []
  },
  {
   "cell_type": "code",
   "execution_count": null,
   "id": "c0a18897-7fdd-40d1-bc0b-a33f860c1519",
   "metadata": {},
   "outputs": [],
   "source": []
  },
  {
   "cell_type": "markdown",
   "id": "489acee6-8a2c-4452-b6ec-f66bb13ef7ca",
   "metadata": {},
   "source": []
  },
  {
   "cell_type": "markdown",
   "id": "4fec3a4f-e304-4cb2-904f-56285b6fed36",
   "metadata": {},
   "source": [
    "## Integers\n",
    "\n",
    "You can add (+), subtract (-), multiply (*), and divide (/) integers in Python."
   ]
  },
  {
   "cell_type": "code",
   "execution_count": 15,
   "id": "9323fd68-a9e9-4174-91bc-b094c2349bce",
   "metadata": {},
   "outputs": [
    {
     "data": {
      "text/plain": [
       "7"
      ]
     },
     "execution_count": 15,
     "metadata": {},
     "output_type": "execute_result"
    }
   ],
   "source": [
    "2 + 5"
   ]
  },
  {
   "cell_type": "code",
   "execution_count": 6,
   "id": "540b6ffa-5ddd-4794-ac9e-c26665bdb6c8",
   "metadata": {},
   "outputs": [
    {
     "name": "stdout",
     "output_type": "stream",
     "text": [
      "<function sum_ at 0x0000019A355E8B80>\n"
     ]
    }
   ],
   "source": [
    "def sum_(a, b):\n",
    "    return sum_\n",
    "\n",
    "\n",
    "a = 25\n",
    "b = 10\n",
    "print(sum_(a, b))"
   ]
  },
  {
   "cell_type": "code",
   "execution_count": null,
   "id": "abbc56d7-c577-45c0-908e-4479340c8f2c",
   "metadata": {},
   "outputs": [],
   "source": []
  },
  {
   "cell_type": "code",
   "execution_count": 17,
   "id": "835a64d0-7a56-496a-9962-c03003a1ab4b",
   "metadata": {},
   "outputs": [
    {
     "data": {
      "text/plain": [
       "-3"
      ]
     },
     "execution_count": 17,
     "metadata": {},
     "output_type": "execute_result"
    }
   ],
   "source": [
    "2-5"
   ]
  },
  {
   "cell_type": "code",
   "execution_count": 17,
   "id": "9bd1f6de-cfb1-4a02-b318-975b55e7ecde",
   "metadata": {},
   "outputs": [
    {
     "data": {
      "text/plain": [
       "10"
      ]
     },
     "execution_count": 17,
     "metadata": {},
     "output_type": "execute_result"
    }
   ],
   "source": [
    "2 * 5"
   ]
  },
  {
   "cell_type": "code",
   "execution_count": 18,
   "id": "4f10a853-a8bf-4c30-a309-21c0902bb23b",
   "metadata": {},
   "outputs": [
    {
     "data": {
      "text/plain": [
       "5.0"
      ]
     },
     "execution_count": 18,
     "metadata": {},
     "output_type": "execute_result"
    }
   ],
   "source": [
    " 10/ 2 "
   ]
  },
  {
   "cell_type": "code",
   "execution_count": 20,
   "id": "3b890ee0-a166-4ba2-8228-fa3e3ee3c4cb",
   "metadata": {},
   "outputs": [
    {
     "data": {
      "text/plain": [
       "4"
      ]
     },
     "execution_count": 20,
     "metadata": {},
     "output_type": "execute_result"
    }
   ],
   "source": [
    "2 ** 2"
   ]
  },
  {
   "cell_type": "markdown",
   "id": "9486e7fb-85c9-48dc-bc59-ce2f7b7b5fc4",
   "metadata": {},
   "source": [
    "## float\n",
    "- Python calls any number with a decimal point a float.\n",
    "- so numbers behave appropriately, no matter where the decimal point appears.\n"
   ]
  },
  {
   "cell_type": "code",
   "execution_count": null,
   "id": "31dda2d1-2a45-4b83-9a54-bb20418a4276",
   "metadata": {},
   "outputs": [],
   "source": [
    "dd\n"
   ]
  },
  {
   "cell_type": "code",
   "execution_count": 9,
   "id": "8bac4d3e-eff8-4637-829f-32ed37e4620d",
   "metadata": {},
   "outputs": [
    {
     "data": {
      "text/plain": [
       "4"
      ]
     },
     "execution_count": 9,
     "metadata": {},
     "output_type": "execute_result"
    }
   ],
   "source": [
    "2 ** 2"
   ]
  },
  {
   "cell_type": "code",
   "execution_count": 10,
   "id": "b9b7147c-82ca-4d59-a6a8-2145e2048580",
   "metadata": {},
   "outputs": [
    {
     "data": {
      "text/plain": [
       "8"
      ]
     },
     "execution_count": 10,
     "metadata": {},
     "output_type": "execute_result"
    }
   ],
   "source": [
    "2 ** 3 #  2"
   ]
  },
  {
   "cell_type": "code",
   "execution_count": 12,
   "id": "05818aad-1d5f-4a8c-b560-71a1367555dc",
   "metadata": {},
   "outputs": [
    {
     "data": {
      "text/plain": [
       "81"
      ]
     },
     "execution_count": 12,
     "metadata": {},
     "output_type": "execute_result"
    }
   ],
   "source": [
    "3 ** 4 # 3*3*3*3"
   ]
  },
  {
   "cell_type": "code",
   "execution_count": 4,
   "id": "aa7c6fdc-6273-4377-b056-abef64d45469",
   "metadata": {},
   "outputs": [
    {
     "data": {
      "text/plain": [
       "10.0"
      ]
     },
     "execution_count": 4,
     "metadata": {},
     "output_type": "execute_result"
    }
   ],
   "source": [
    "5 * 2.0"
   ]
  },
  {
   "cell_type": "code",
   "execution_count": 5,
   "id": "a6e9b648-44ab-442f-b319-d2cea17975c0",
   "metadata": {},
   "outputs": [
    {
     "data": {
      "text/plain": [
       "10.0"
      ]
     },
     "execution_count": 5,
     "metadata": {},
     "output_type": "execute_result"
    }
   ],
   "source": [
    "2.0 * 5.0"
   ]
  },
  {
   "cell_type": "code",
   "execution_count": null,
   "id": "c2928a20-68cf-4733-a976-3c17b5fb6d2c",
   "metadata": {},
   "outputs": [],
   "source": []
  },
  {
   "cell_type": "code",
   "execution_count": null,
   "id": "7bca4b32-2733-4127-986c-fa4c8cff3cd3",
   "metadata": {},
   "outputs": [],
   "source": []
  },
  {
   "cell_type": "markdown",
   "id": "e0c5b1ef-6ca2-45cd-8d19-0613522807c1",
   "metadata": {},
   "source": [
    "## **Integers and Floats**\n",
    "\n",
    "- When you divide any two numbers, even if they are integers that result in a whole number, you’ll always get a float:\n",
    "- If you mix an integer and a float in any other operation, you’ll get a float as well:\n"
   ]
  },
  {
   "cell_type": "markdown",
   "id": "c4e7b0b7-03e2-4f78-8370-6195bcec60dc",
   "metadata": {},
   "source": [
    "## **Boolean** (True, False)\n",
    "- In programming you often need to know if an expression is True or False.\n",
    "\n",
    "- You can evaluate any expression in Python, and get one of two answers, True or False.\n",
    "\n",
    "- When you compare two values, the expression is evaluated and Python returns the Boolean answer:"
   ]
  },
  {
   "cell_type": "code",
   "execution_count": 1,
   "id": "db1986b4-7922-4aef-a8b5-8f72c0aeb218",
   "metadata": {},
   "outputs": [
    {
     "name": "stdout",
     "output_type": "stream",
     "text": [
      "True\n"
     ]
    }
   ],
   "source": [
    "a= True\n",
    "print(a)"
   ]
  },
  {
   "cell_type": "code",
   "execution_count": 6,
   "id": "a017ba27-f790-4230-bcea-69b2b9ff66f5",
   "metadata": {},
   "outputs": [
    {
     "name": "stdout",
     "output_type": "stream",
     "text": [
      "False\n"
     ]
    }
   ],
   "source": [
    "a = \"Naga\"\n",
    "b = \"naga\"\n",
    "print(a == b)"
   ]
  },
  {
   "cell_type": "code",
   "execution_count": 4,
   "id": "bb999ed6-eb48-4714-854e-7ceab71934ed",
   "metadata": {},
   "outputs": [
    {
     "name": "stdout",
     "output_type": "stream",
     "text": [
      "False\n"
     ]
    }
   ],
   "source": [
    "a = 25\n",
    "b = 15\n",
    "print(a == b)"
   ]
  },
  {
   "cell_type": "code",
   "execution_count": 5,
   "id": "0a27cc85-c131-470a-b8de-8205b2b06e03",
   "metadata": {},
   "outputs": [
    {
     "name": "stdout",
     "output_type": "stream",
     "text": [
      "True\n"
     ]
    }
   ],
   "source": [
    "a= 15\n",
    "b = 15\n",
    "print(a == b)"
   ]
  },
  {
   "cell_type": "markdown",
   "id": "88d9fd1f-03d5-4310-82e4-d319c2de8962",
   "metadata": {},
   "source": [
    "## **Type casting**\n",
    "-  typecasting working on numerical values convert to str float.\n",
    "-  But we can't convert a string value if there is text data we can't convert.\n",
    "-  if there is a numerical value in 'single' or \"double\" we can convert."
   ]
  },
  {
   "cell_type": "code",
   "execution_count": 27,
   "id": "6cb70b15-cede-48b2-a1aa-2702a0431c83",
   "metadata": {},
   "outputs": [
    {
     "name": "stdout",
     "output_type": "stream",
     "text": [
      "***** data type of a begfore typecasting *****\n",
      "<class 'int'>\n",
      "<class 'str'>\n",
      "***** data type of a begfore typecasting *****\n",
      "25 <class 'str'>\n",
      "<class 'float'> 25.0\n",
      "***** data type of b begfore typecasting *****\n",
      "<class 'str'>\n",
      "***** data type of b after typecasting *****\n",
      "<class 'float'>\n",
      "***** data type of b after typecasting *****\n",
      "25\n",
      "<class 'int'>\n"
     ]
    }
   ],
   "source": [
    "a = 25 # this is num\n",
    "b  = \"252\" # this is str \"125\" we can covert to int, but when we have \"full_name\" like this text data  we can't use type casting\n",
    "print(\"*\" * 5, \"data type of a begfore typecasting\", \"*\" * 5)\n",
    "print(type(a))\n",
    "print(type(b))\n",
    "\n",
    "\n",
    "print(\"*\" * 5, \"data type of a begfore typecasting\", \"*\" * 5)\n",
    "s = str(a)\n",
    "print(s, type(s))\n",
    "f = float(a)\n",
    "print(type(f), f)\n",
    "\n",
    "\n",
    "\n",
    "print(\"*\" * 5, \"data type of b begfore typecasting\", \"*\" * 5)\n",
    "print(type(b))\n",
    "print(\"*\" * 5, \"data type of b after typecasting\", \"*\" * 5)\n",
    "f = float(b)\n",
    "print(type(f))\n",
    "\n",
    "print(\"*\" * 5, \"data type of b after typecasting\", \"*\" * 5)\n",
    "print(str(a))\n",
    "print(type(a))"
   ]
  },
  {
   "cell_type": "code",
   "execution_count": null,
   "id": "c071a5aa-b5a4-425b-a51f-14dacface298",
   "metadata": {},
   "outputs": [],
   "source": [
    "String methods\n",
    "int, float, \n",
    "typecasting,\n",
    "swaping methods\n"
   ]
  },
  {
   "cell_type": "code",
   "execution_count": 7,
   "id": "fa24293c-1a30-4930-ade7-a0e70a366138",
   "metadata": {},
   "outputs": [
    {
     "name": "stdout",
     "output_type": "stream",
     "text": [
      "25\n",
      "<class 'int'>\n",
      "25.0\n",
      "<class 'float'>\n",
      "25\n",
      "<class 'str'>\n"
     ]
    }
   ],
   "source": [
    "a = 25\n",
    "print(a)\n",
    "print(type(a))\n",
    "f = float(a)\n",
    "print(f)\n",
    "print(type(f))\n",
    "s = str(a)\n",
    "print(s)\n",
    "print(type(s))"
   ]
  },
  {
   "cell_type": "code",
   "execution_count": 8,
   "id": "39250fc7-19d5-4e3b-9d8b-0a1a233ae7e8",
   "metadata": {},
   "outputs": [
    {
     "name": "stdout",
     "output_type": "stream",
     "text": [
      "megha\n",
      "<class 'str'>\n"
     ]
    },
    {
     "ename": "ValueError",
     "evalue": "invalid literal for int() with base 10: 'megha'",
     "output_type": "error",
     "traceback": [
      "\u001b[1;31m---------------------------------------------------------------------------\u001b[0m",
      "\u001b[1;31mValueError\u001b[0m                                Traceback (most recent call last)",
      "Cell \u001b[1;32mIn[8], line 4\u001b[0m\n\u001b[0;32m      2\u001b[0m \u001b[38;5;28mprint\u001b[39m(s)\n\u001b[0;32m      3\u001b[0m \u001b[38;5;28mprint\u001b[39m(\u001b[38;5;28mtype\u001b[39m(s))\n\u001b[1;32m----> 4\u001b[0m i \u001b[38;5;241m=\u001b[39m \u001b[38;5;28;43mint\u001b[39;49m\u001b[43m(\u001b[49m\u001b[43ms\u001b[49m\u001b[43m)\u001b[49m\n\u001b[0;32m      5\u001b[0m \u001b[38;5;28mprint\u001b[39m(i)\n\u001b[0;32m      6\u001b[0m \u001b[38;5;28mprint\u001b[39m(\u001b[38;5;28mtype\u001b[39m(i))\n",
      "\u001b[1;31mValueError\u001b[0m: invalid literal for int() with base 10: 'megha'"
     ]
    }
   ],
   "source": [
    "s = \"megha\"\n",
    "print(s)\n",
    "print(type(s))\n",
    "i = int(s)\n",
    "print(i)\n",
    "print(type(i))"
   ]
  },
  {
   "cell_type": "code",
   "execution_count": 1,
   "id": "84716917-e87d-4440-b70e-c0032808e9c0",
   "metadata": {},
   "outputs": [
    {
     "data": {
      "text/plain": [
       "0"
      ]
     },
     "execution_count": 1,
     "metadata": {},
     "output_type": "execute_result"
    }
   ],
   "source": [
    "364%4"
   ]
  },
  {
   "cell_type": "code",
   "execution_count": null,
   "id": "ce2b8039-cf2c-4180-b0c9-c6a5f36deccc",
   "metadata": {},
   "outputs": [],
   "source": [
    "= "
   ]
  }
 ],
 "metadata": {
  "kernelspec": {
   "display_name": "Python 3 (ipykernel)",
   "language": "python",
   "name": "python3"
  },
  "language_info": {
   "codemirror_mode": {
    "name": "ipython",
    "version": 3
   },
   "file_extension": ".py",
   "mimetype": "text/x-python",
   "name": "python",
   "nbconvert_exporter": "python",
   "pygments_lexer": "ipython3",
   "version": "3.10.6"
  }
 },
 "nbformat": 4,
 "nbformat_minor": 5
}
