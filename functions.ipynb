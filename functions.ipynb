{
 "cells": [
  {
   "cell_type": "code",
   "execution_count": 1,
   "id": "d3031698-ee9b-419f-8b5f-fa34ef2deded",
   "metadata": {},
   "outputs": [],
   "source": [
    "def fun():\n",
    "    print(\"Welcome To Geeks foe Geeks\")"
   ]
  },
  {
   "cell_type": "code",
   "execution_count": 2,
   "id": "e72cd8c3-ad3b-4a29-9c11-4892627d6aef",
   "metadata": {},
   "outputs": [
    {
     "name": "stdout",
     "output_type": "stream",
     "text": [
      "Welcome To Geeks foe Geeks\n"
     ]
    }
   ],
   "source": [
    "fun()"
   ]
  },
  {
   "cell_type": "code",
   "execution_count": 3,
   "id": "f750f000-7a05-42e4-9041-3ae761a3ea89",
   "metadata": {},
   "outputs": [],
   "source": [
    "\"\"\"def add(num1: int, num2: int) -> int:\n",
    "    \"\"\"add two num\"\"\"\n",
    "    num3 = num1+num2\n",
    "    return num3\"\"\""
   ]
  },
  {
   "cell_type": "code",
   "execution_count": 5,
   "id": "8bdbe008-7676-4afe-acfe-2b3f685b5bba",
   "metadata": {},
   "outputs": [
    {
     "name": "stdout",
     "output_type": "stream",
     "text": [
      "The addition of 5 and 15 results 20.\n"
     ]
    }
   ],
   "source": [
    "num1, num2 = 5,15\n",
    "ans = add(num1, num2)\n",
    "print(f\"The addition of {num1} and {num2} results {ans}.\")"
   ]
  },
  {
   "cell_type": "code",
   "execution_count": 11,
   "id": "d16e81c7-c794-4659-8f67-6f812b80f5f0",
   "metadata": {},
   "outputs": [
    {
     "name": "stdout",
     "output_type": "stream",
     "text": [
      "False True\n"
     ]
    }
   ],
   "source": [
    "def is_prime(n):\n",
    "    if n in [2,3]:\n",
    "        return True\n",
    "    if  (n==1) or (n %2 == 0):\n",
    "        return False\n",
    "    r = 3\n",
    "    while r * r <= n:\n",
    "        if n% r == 0:\n",
    "            return False\n",
    "        r += 2\n",
    "    return True\n",
    "print(is_prime(78), is_prime(79))\n",
    "    \n",
    "    "
   ]
  },
  {
   "cell_type": "code",
   "execution_count": 17,
   "id": "fc070528-3113-49ed-aaa2-f36f2650aafe",
   "metadata": {},
   "outputs": [
    {
     "ename": "SyntaxError",
     "evalue": "'return' outside function (2674839071.py, line 2)",
     "output_type": "error",
     "traceback": [
      "\u001b[1;36m  Cell \u001b[1;32mIn[17], line 2\u001b[1;36m\u001b[0m\n\u001b[1;33m    return False\u001b[0m\n\u001b[1;37m    ^\u001b[0m\n\u001b[1;31mSyntaxError\u001b[0m\u001b[1;31m:\u001b[0m 'return' outside function\n"
     ]
    }
   ],
   "source": [
    "if (n == 1) or (n % 2 == 0):\n",
    "    return False\n",
    "if n%3 ==0 :\n",
    "    return False\n",
    "else:\n",
    "    return True\n",
    "\n"
   ]
  },
  {
   "cell_type": "code",
   "execution_count": 28,
   "id": "4590fa3a-3b1c-4793-b2f4-abb4f5d7081d",
   "metadata": {},
   "outputs": [
    {
     "name": "stdout",
     "output_type": "stream",
     "text": [
      "odd\n",
      "even\n"
     ]
    }
   ],
   "source": [
    "def evenodd(n):\n",
    "    if  (n %2 == 0):\n",
    "        print( \"even\")\n",
    "    else:\n",
    "        print(\"odd\")\n",
    "\n",
    "\n",
    "evenodd(3)\n",
    "evenodd(6)"
   ]
  },
  {
   "cell_type": "code",
   "execution_count": 32,
   "id": "f27e96dd-0fc4-462c-9e25-1d68cdcca34d",
   "metadata": {},
   "outputs": [
    {
     "name": "stdout",
     "output_type": "stream",
     "text": [
      "x:  10\n",
      "y:  50\n"
     ]
    }
   ],
   "source": [
    "def myfun(x, y=50):\n",
    "    print(\"x: \", x)\n",
    "    print(\"y: \", y)\n",
    "\n",
    "myfun(10)"
   ]
  },
  {
   "cell_type": "code",
   "execution_count": 34,
   "id": "0bb23957-7fad-46e5-a7cb-2f78e2a1062a",
   "metadata": {},
   "outputs": [
    {
     "name": "stdout",
     "output_type": "stream",
     "text": [
      "geeks practice\n",
      "Geeks practice\n"
     ]
    }
   ],
   "source": [
    "def student(firstname, lastname):\n",
    "    print(firstname, lastname)\n",
    "\n",
    "\n",
    "student(firstname = \"geeks\", lastname  =\"practice\")\n",
    "student(lastname=\"practice\", firstname = \"Geeks\")"
   ]
  },
  {
   "cell_type": "code",
   "execution_count": 38,
   "id": "804b089b-9b9a-40ad-b1a4-d82ffd5be25c",
   "metadata": {},
   "outputs": [
    {
     "ename": "SyntaxError",
     "evalue": "Missing parentheses in call to 'print'. Did you mean print(...)? (3604677588.py, line 1)",
     "output_type": "error",
     "traceback": [
      "\u001b[1;36m  Cell \u001b[1;32mIn[38], line 1\u001b[1;36m\u001b[0m\n\u001b[1;33m    print type(type(int))\u001b[0m\n\u001b[1;37m    ^\u001b[0m\n\u001b[1;31mSyntaxError\u001b[0m\u001b[1;31m:\u001b[0m Missing parentheses in call to 'print'. Did you mean print(...)?\n"
     ]
    }
   ],
   "source": [
    "print type(type(int))"
   ]
  },
  {
   "cell_type": "code",
   "execution_count": 39,
   "id": "2abb27c0-c616-4ca9-971c-be67b400442b",
   "metadata": {},
   "outputs": [
    {
     "name": "stdout",
     "output_type": "stream",
     "text": [
      "abcd\n"
     ]
    }
   ],
   "source": [
    "L = ['a','b','c','d']\n",
    "print(\"\".join(L))"
   ]
  },
  {
   "cell_type": "code",
   "execution_count": 40,
   "id": "b6f7de6d-92a3-4933-b27a-ddd8eb898851",
   "metadata": {},
   "outputs": [
    {
     "data": {
      "text/plain": [
       "'A'"
      ]
     },
     "execution_count": 40,
     "metadata": {},
     "output_type": "execute_result"
    }
   ],
   "source": [
    "chr(ord('A'))"
   ]
  },
  {
   "cell_type": "code",
   "execution_count": 41,
   "id": "e7cc5a12-2aa5-40e8-b6f0-d83c453cb1f3",
   "metadata": {},
   "outputs": [
    {
     "name": "stdout",
     "output_type": "stream",
     "text": [
      "48\n"
     ]
    }
   ],
   "source": [
    "y = 8\n",
    "z = lambda x : x * y\n",
    "print (z(6))"
   ]
  },
  {
   "cell_type": "code",
   "execution_count": 42,
   "id": "1d6a992f-0e62-4ef7-b2ab-d8be6102bf83",
   "metadata": {},
   "outputs": [
    {
     "data": {
      "text/plain": [
       "4"
      ]
     },
     "execution_count": 42,
     "metadata": {},
     "output_type": "execute_result"
    }
   ],
   "source": [
    " list1 =  [3, 4, 5, 20, 5, 25, 1, 3]\n",
    "list1.pop(1)"
   ]
  },
  {
   "cell_type": "markdown",
   "id": "a0ef9b76-939a-4609-9346-b2ec221f069e",
   "metadata": {},
   "source": [
    "## Factorial "
   ]
  },
  {
   "cell_type": "code",
   "execution_count": 45,
   "id": "f71cc655-0fb4-4fb6-aa0c-904683411c45",
   "metadata": {},
   "outputs": [
    {
     "name": "stdout",
     "output_type": "stream",
     "text": [
      "Factorial of  5 is 120\n"
     ]
    }
   ],
   "source": [
    "def factorial(n):\n",
    "    return 1 if (n == 1 or n ==0) else n * factorial (n-1)\n",
    "\n",
    "num =5\n",
    "print(\"Factorial of \", num, \"is\", factorial(num))"
   ]
  },
  {
   "cell_type": "code",
   "execution_count": 48,
   "id": "0e50f96e-be36-4321-960a-589fbca89c5c",
   "metadata": {},
   "outputs": [
    {
     "name": "stdout",
     "output_type": "stream",
     "text": [
      "120\n"
     ]
    }
   ],
   "source": [
    "n = 5\n",
    "if n ==1 or n==0 :\n",
    "    print(\"1\")\n",
    "else:\n",
    "    print(n * factorial(n-1))\n",
    "          "
   ]
  },
  {
   "cell_type": "code",
   "execution_count": 49,
   "id": "e986d9e8-a916-4834-b933-904ed395a84e",
   "metadata": {},
   "outputs": [
    {
     "name": "stdout",
     "output_type": "stream",
     "text": [
      "factorial of 5 is 120\n"
     ]
    }
   ],
   "source": [
    "def factorial(n):\n",
    "    if n < 0:\n",
    "        return 0\n",
    "    elif n == 0 or n == 1 :\n",
    "        return 1\n",
    "    else :\n",
    "        fact = 1\n",
    "        while(n>1):\n",
    "            fact *= n\n",
    "            n -= 1\n",
    "        return fact\n",
    "\n",
    "\n",
    "num = 5\n",
    "print(\"factorial of\", num , \"is\", factorial(num))"
   ]
  },
  {
   "cell_type": "code",
   "execution_count": 52,
   "id": "effede9c-b3c0-41ee-9d4f-576436ebb763",
   "metadata": {},
   "outputs": [
    {
     "name": "stdout",
     "output_type": "stream",
     "text": [
      "factorial of 5 is 120\n"
     ]
    }
   ],
   "source": [
    " def factorial(n):\n",
    "     res = 1\n",
    "     for i in range(2, n+1):\n",
    "         res *= i\n",
    "     return res\n",
    "\n",
    "num =5\n",
    "print(\"factorial of\", num , \"is\", factorial(num))\n"
   ]
  },
  {
   "cell_type": "code",
   "execution_count": 53,
   "id": "c4101f6a-acca-494b-a1f7-f43c870b88fa",
   "metadata": {},
   "outputs": [
    {
     "name": "stdout",
     "output_type": "stream",
     "text": [
      "120\n"
     ]
    }
   ],
   "source": [
    "import numpy as np\n",
    "n = 5\n",
    "x = np.prod([i for i in range(1,n+1)])\n",
    "print(x)"
   ]
  },
  {
   "cell_type": "code",
   "execution_count": 4,
   "id": "f839d755-2049-4a0d-b3df-3520043b18b0",
   "metadata": {},
   "outputs": [
    {
     "name": "stdout",
     "output_type": "stream",
     "text": [
      " the sum two 7\n",
      " the mul of two num10\n"
     ]
    }
   ],
   "source": [
    "def add_num(a, b):\n",
    "    sum = a +b\n",
    "    mul = a * b\n",
    "    print(f\" the sum two {sum}\\n the mul of two num {mul}\")\n",
    "\n",
    "add_num(2,5)"
   ]
  },
  {
   "cell_type": "code",
   "execution_count": 5,
   "id": "51d15533-7642-4c75-9421-ea53dd213d60",
   "metadata": {},
   "outputs": [
    {
     "data": {
      "text/plain": [
       "15"
      ]
     },
     "execution_count": 5,
     "metadata": {},
     "output_type": "execute_result"
    }
   ],
   "source": [
    "def tri_recursive(k):\n",
    "    if (k > 0):\n",
    "        result = k+ tri_recursive(k -1)\n",
    "        return result\n",
    "    else:\n",
    "        result = 0\n",
    "    return result\n",
    "\n",
    "tri_recursive(5)\n",
    "        "
   ]
  },
  {
   "cell_type": "code",
   "execution_count": 7,
   "id": "9bca5b63-3132-4056-9e30-8efa60535916",
   "metadata": {},
   "outputs": [
    {
     "data": {
      "text/plain": [
       "55"
      ]
     },
     "execution_count": 7,
     "metadata": {},
     "output_type": "execute_result"
    }
   ],
   "source": [
    "tri_recursive(10)"
   ]
  },
  {
   "cell_type": "code",
   "execution_count": 14,
   "id": "7de4331f-f3d0-4fe4-b15b-1c1d980401c5",
   "metadata": {},
   "outputs": [
    {
     "ename": "AttributeError",
     "evalue": "'_Helper' object has no attribute 'tri_recursive'",
     "output_type": "error",
     "traceback": [
      "\u001b[1;31m---------------------------------------------------------------------------\u001b[0m",
      "\u001b[1;31mAttributeError\u001b[0m                            Traceback (most recent call last)",
      "Cell \u001b[1;32mIn[14], line 1\u001b[0m\n\u001b[1;32m----> 1\u001b[0m \u001b[43mhelp\u001b[49m\u001b[38;5;241;43m.\u001b[39;49m\u001b[43mtri_recursive\u001b[49m\n",
      "\u001b[1;31mAttributeError\u001b[0m: '_Helper' object has no attribute 'tri_recursive'"
     ]
    }
   ],
   "source": [
    "help.tri_recursive"
   ]
  },
  {
   "attachments": {
    "fe072aa3-495f-48b3-9057-f555d11e0cb4.png": {
     "image/png": "[encoded data removed]"
    }
   },
   "cell_type": "markdown",
   "id": "ca66a6ca-bba9-48c3-9f6a-114c79148071",
   "metadata": {},
   "source": [
    "##### ![image.png](attachment:fe072aa3-495f-48b3-9057-f555d11e0cb4.png)"
   ]
  },
  {
   "cell_type": "code",
   "execution_count": 24,
   "id": "accf057d-eedb-42eb-a691-d8dbd4dd6273",
   "metadata": {},
   "outputs": [
    {
     "name": "stdout",
     "output_type": "stream",
     "text": [
      "555 1\n"
     ]
    }
   ],
   "source": [
    "\n",
    "def max_num(max, min):\n",
    "    max  = max(list)\n",
    "    min = min(list)\n",
    "    print(, min)\n",
    "\n",
    "\n",
    "lst = list(int(input()))\n",
    "max_num(max, min)"
   ]
  },
  {
   "cell_type": "code",
   "execution_count": 27,
   "id": "4640e8ad-389b-420e-a1cf-ce4a46086dfb",
   "metadata": {},
   "outputs": [
    {
     "name": "stdin",
     "output_type": "stream",
     "text": [
      " 1,2,5,6,8,9,3,6,5,4,8,8,8,5,6,5,8,9,2,4,5,5,5,65,555\n"
     ]
    },
    {
     "ename": "NameError",
     "evalue": "name 'num_list' is not defined",
     "output_type": "error",
     "traceback": [
      "\u001b[1;31m---------------------------------------------------------------------------\u001b[0m",
      "\u001b[1;31mNameError\u001b[0m                                 Traceback (most recent call last)",
      "Cell \u001b[1;32mIn[27], line 5\u001b[0m\n\u001b[0;32m      3\u001b[0m num_len_list \u001b[38;5;241m=\u001b[39m \u001b[38;5;28mlen\u001b[39m(\u001b[38;5;28mlist\u001b[39m)\n\u001b[0;32m      4\u001b[0m \u001b[38;5;28;01mfor\u001b[39;00m i \u001b[38;5;129;01min\u001b[39;00m \u001b[38;5;28mrange\u001b[39m(num_len_list):\n\u001b[1;32m----> 5\u001b[0m     num_list[i] \u001b[38;5;241m=\u001b[39m \u001b[38;5;28mint\u001b[39m(\u001b[43mnum_list\u001b[49m[i])\n\u001b[0;32m      6\u001b[0m o_list \u001b[38;5;241m=\u001b[39m \u001b[38;5;28msorted\u001b[39m(num_list)\n\u001b[0;32m      7\u001b[0m max_num \u001b[38;5;241m=\u001b[39m o_list[\u001b[38;5;241m-\u001b[39m\u001b[38;5;241m1\u001b[39m]\n",
      "\u001b[1;31mNameError\u001b[0m: name 'num_list' is not defined"
     ]
    }
   ],
   "source": [
    "numbers = input()\n",
    "list = numbers.split(\",\")\n",
    "num_len_list = len(list)\n",
    "for i in range(num_len_list):\n",
    "    num_list[i] = int(num_list[i])\n",
    "o_list = sorted(num_list)\n",
    "max_num = o_list[-1]\n",
    "print(max_num)"
   ]
  },
  {
   "cell_type": "code",
   "execution_count": 28,
   "id": "fdac732d-dc2e-416e-ae10-50eb2d79b389",
   "metadata": {},
   "outputs": [
    {
     "name": "stdin",
     "output_type": "stream",
     "text": [
      " Selection deleted numbers = input() list = numbers.split(\",\") num_len_list = len(list) for i in range(num_len_list):     num_list[i] = int(num_list[i]) o_list = sorted(num_list) max_num = o_list[-1] print(max_num)   1,2,5,6,8,9,3,6,5,4,8,8,8,5,6,5,8,9,2,4,5,5,5,65,555\n"
     ]
    },
    {
     "ename": "ValueError",
     "evalue": "invalid literal for int() with base 10: 'Selection deleted numbers = input() list = numbers.split(\"'",
     "output_type": "error",
     "traceback": [
      "\u001b[1;31m---------------------------------------------------------------------------\u001b[0m",
      "\u001b[1;31mValueError\u001b[0m                                Traceback (most recent call last)",
      "Cell \u001b[1;32mIn[28], line 5\u001b[0m\n\u001b[0;32m      3\u001b[0m length_of_nums_list \u001b[38;5;241m=\u001b[39m \u001b[38;5;28mlen\u001b[39m(nums_list)\n\u001b[0;32m      4\u001b[0m \u001b[38;5;28;01mfor\u001b[39;00m i \u001b[38;5;129;01min\u001b[39;00m \u001b[38;5;28mrange\u001b[39m(length_of_nums_list):\n\u001b[1;32m----> 5\u001b[0m   nums_list[i] \u001b[38;5;241m=\u001b[39m \u001b[38;5;28;43mint\u001b[39;49m\u001b[43m(\u001b[49m\u001b[43mnums_list\u001b[49m\u001b[43m[\u001b[49m\u001b[43mi\u001b[49m\u001b[43m]\u001b[49m\u001b[43m)\u001b[49m\n\u001b[0;32m      6\u001b[0m nums_list \u001b[38;5;241m=\u001b[39m \u001b[38;5;28msorted\u001b[39m(nums_list)\n\u001b[0;32m      7\u001b[0m largest_number \u001b[38;5;241m=\u001b[39m nums_list[\u001b[38;5;241m0\u001b[39m]\n",
      "\u001b[1;31mValueError\u001b[0m: invalid literal for int() with base 10: 'Selection deleted numbers = input() list = numbers.split(\"'"
     ]
    }
   ],
   "source": [
    "numbers = input()\n",
    "nums_list = numbers.split(\",\")\n",
    "length_of_nums_list = len(nums_list)\n",
    "for i in range(length_of_nums_list):\n",
    "  nums_list[i] = int(nums_list[i])\n",
    "nums_list = sorted(nums_list)\n",
    "largest_number = nums_list[0]\n",
    "print(largest_number)"
   ]
  },
  {
   "cell_type": "code",
   "execution_count": 46,
   "id": "542de207-ca13-454d-b23d-e33783477a52",
   "metadata": {},
   "outputs": [
    {
     "name": "stdin",
     "output_type": "stream",
     "text": [
      " 5,8,+,4566,6,66\n"
     ]
    },
    {
     "ename": "TypeError",
     "evalue": "'int' object is not iterable",
     "output_type": "error",
     "traceback": [
      "\u001b[1;31m---------------------------------------------------------------------------\u001b[0m",
      "\u001b[1;31mTypeError\u001b[0m                                 Traceback (most recent call last)",
      "Cell \u001b[1;32mIn[46], line 9\u001b[0m\n\u001b[0;32m      6\u001b[0m     \u001b[38;5;28mprint\u001b[39m(max_num)\n\u001b[0;32m      8\u001b[0m numbers \u001b[38;5;241m=\u001b[39m \u001b[38;5;28minput\u001b[39m()\n\u001b[1;32m----> 9\u001b[0m \u001b[43mmax_num\u001b[49m\u001b[43m(\u001b[49m\u001b[43mnumbers\u001b[49m\u001b[43m)\u001b[49m    \n",
      "Cell \u001b[1;32mIn[46], line 5\u001b[0m, in \u001b[0;36mmax_num\u001b[1;34m(numbers)\u001b[0m\n\u001b[0;32m      3\u001b[0m \u001b[38;5;28;01mfor\u001b[39;00m num \u001b[38;5;129;01min\u001b[39;00m nums:\n\u001b[0;32m      4\u001b[0m     numbers \u001b[38;5;241m=\u001b[39m \u001b[38;5;28mint\u001b[39m(num)\n\u001b[1;32m----> 5\u001b[0m max_num \u001b[38;5;241m=\u001b[39m \u001b[38;5;28;43mmax\u001b[39;49m\u001b[43m(\u001b[49m\u001b[43mnumbers\u001b[49m\u001b[43m)\u001b[49m\n\u001b[0;32m      6\u001b[0m \u001b[38;5;28mprint\u001b[39m(max_num)\n",
      "\u001b[1;31mTypeError\u001b[0m: 'int' object is not iterable"
     ]
    }
   ],
   "source": [
    "def max_num(numbers):\n",
    "    nums = number.split(\",\")\n",
    "    for num in nums:\n",
    "        numbers = int(num)\n",
    "    max_num = max(numbers)\n",
    "    print(max_num)\n",
    "\n",
    "numbers = input()\n",
    "max_num(numbers)    "
   ]
  },
  {
   "cell_type": "code",
   "execution_count": 1,
   "id": "89af9cdc-4ca9-4522-ba5d-2990e82284a6",
   "metadata": {},
   "outputs": [
    {
     "name": "stdin",
     "output_type": "stream",
     "text": [
      " 2,6,5,8,7455,88,225,363,65,4,6,4,6\n"
     ]
    },
    {
     "name": "stdout",
     "output_type": "stream",
     "text": [
      "7455\n"
     ]
    }
   ],
   "source": [
    "# here creating a function \n",
    "def max_num (numbers):\n",
    "    # split the using \",\" and store in num_list\n",
    "    num_list = numbers.split(\",\")\n",
    "    # on num list was using type conversion convert to int and store in nums\n",
    "    nums = [int(num) for num in num_list]\n",
    "    # in nums max num \n",
    "    max_num  = max(nums)\n",
    "    # print max num\n",
    "    print(max_num)\n",
    "\n",
    "number  =input()\n",
    "max_num(number)"
   ]
  },
  {
   "cell_type": "code",
   "execution_count": null,
   "id": "55c84138-e420-4a8a-8e95-7a0f2891441e",
   "metadata": {},
   "outputs": [],
   "source": []
  },
  {
   "cell_type": "code",
   "execution_count": 7,
   "id": "ad5b87c4-ee36-467a-9171-eaace058c05f",
   "metadata": {},
   "outputs": [
    {
     "name": "stdin",
     "output_type": "stream",
     "text": [
      "  2,6,5,8,7455,88,225,363,65,4,6,4,6\n"
     ]
    },
    {
     "name": "stdout",
     "output_type": "stream",
     "text": [
      "7455\n"
     ]
    }
   ],
   "source": [
    "def max_num(numbers):\n",
    "    num_list = numbers.split(\",\")\n",
    "    num = [int(num) for num in num_list]\n",
    "    max_num = max(num)\n",
    "    print(max_num)\n",
    "\n",
    "\n",
    "numbers = input()\n",
    "max_num(numbers)"
   ]
  },
  {
   "cell_type": "code",
   "execution_count": null,
   "id": "d67081ae-c715-4b65-aade-d49ff3fc139a",
   "metadata": {},
   "outputs": [],
   "source": []
  },
  {
   "cell_type": "code",
   "execution_count": null,
   "id": "65b96a1c-614b-49e5-89f6-ceb3e9cb9dbd",
   "metadata": {},
   "outputs": [],
   "source": []
  },
  {
   "cell_type": "code",
   "execution_count": 10,
   "id": "468535ca-62f8-440a-ad7e-f9f27c619a21",
   "metadata": {},
   "outputs": [
    {
     "name": "stdin",
     "output_type": "stream",
     "text": [
      " naga\n",
      " 25\n"
     ]
    },
    {
     "name": "stdout",
     "output_type": "stream",
     "text": [
      "naga is  25 years\n"
     ]
    }
   ],
   "source": [
    "def message(name, age):\n",
    "    msg = f\"{name} is  {age} years\"\n",
    "    return msg\n",
    "\n",
    "name = input()\n",
    "age  = int(input())\n",
    "msg = message(name, age)\n",
    "print(msg)"
   ]
  },
  {
   "attachments": {
    "a2d53030-e11d-4b34-9394-6618e0435e23.png": {
     "image/png": "[encoded data removed]"
    }
   },
   "cell_type": "markdown",
   "id": "985c6578-52af-43df-b267-9de68342dbb9",
   "metadata": {},
   "source": [
    "![image.png](attachment:a2d53030-e11d-4b34-9394-6618e0435e23.png)"
   ]
  },
  {
   "cell_type": "code",
   "execution_count": 9,
   "id": "990372af-c0d4-467d-995d-cebbee1db995",
   "metadata": {},
   "outputs": [
    {
     "name": "stdin",
     "output_type": "stream",
     "text": [
      " naga\n",
      " 24\n"
     ]
    },
    {
     "name": "stdout",
     "output_type": "stream",
     "text": [
      "naga is 24 years old\n"
     ]
    }
   ],
   "source": [
    "def message(name, arg2):\n",
    "    msg = f\"{name} is {arg2} years old\"\n",
    "    return msg\n",
    "\n",
    "name = input()\n",
    "age  = int(input())\n",
    "b = message(name, age)\n",
    "print(b)\n",
    "#message(\"abhi\", 29)"
   ]
  },
  {
   "cell_type": "code",
   "execution_count": null,
   "id": "6fc367b8-a7cb-4c72-b34b-bb11e9e3d478",
   "metadata": {},
   "outputs": [],
   "source": []
  }
 ],
 "metadata": {
  "kernelspec": {
   "display_name": "Python 3 (ipykernel)",
   "language": "python",
   "name": "python3"
  },
  "language_info": {
   "codemirror_mode": {
    "name": "ipython",
    "version": 3
   },
   "file_extension": ".py",
   "mimetype": "text/x-python",
   "name": "python",
   "nbconvert_exporter": "python",
   "pygments_lexer": "ipython3",
   "version": "3.10.2"
  }
 },
 "nbformat": 4,
 "nbformat_minor": 5
}
