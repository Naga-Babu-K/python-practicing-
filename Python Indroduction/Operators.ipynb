{
 "cells": [
  {
   "cell_type": "markdown",
   "id": "11bda50e-d21a-4984-a4d8-895e4b6f1b43",
   "metadata": {},
   "source": [
    "# **Operators**\n",
    "- Arithmetic operators\n",
    "- Assignment operators (= , +=, -=, *=, &=, %=, /=, )\n",
    "- Comparison operators (==, !=, <, >, <=, >=)\n",
    "- Logical operators\n",
    "- Identity operators\n",
    "- Membership operators\n",
    "- Bitwise operators\n",
    "- Operators are used to perform operations on variables and values."
   ]
  },
  {
   "cell_type": "code",
   "execution_count": null,
   "id": "59dff8da-6aec-4f1c-89cf-467debf45dd5",
   "metadata": {},
   "outputs": [],
   "source": []
  },
  {
   "cell_type": "markdown",
   "id": "48918c22-ecb9-4f1b-9d73-2bc333b548b3",
   "metadata": {},
   "source": [
    "## Arthmatic operators ( +, -, *, /, //, **, %)"
   ]
  },
  {
   "cell_type": "code",
   "execution_count": 1,
   "id": "9a46361b-5db7-4663-954c-0567d7c250e6",
   "metadata": {},
   "outputs": [
    {
     "name": "stdin",
     "output_type": "stream",
     "text": [
      "Enter a num1: 25\n",
      "enter a num2: 515\n"
     ]
    },
    {
     "name": "stdout",
     "output_type": "stream",
     "text": [
      "540\n"
     ]
    }
   ],
   "source": [
    "a = int(input(\"Enter a num1:\"))\n",
    "b = int(input(\"enter a num2:\"))\n",
    "c = a + b\n",
    "print(c)"
   ]
  },
  {
   "cell_type": "code",
   "execution_count": null,
   "id": "422cda14-7dbb-48b0-a86d-68520f2ab0ed",
   "metadata": {},
   "outputs": [],
   "source": [
    "a = int(input(\"Enter a num1:\"))\n",
    "b = int(input(\"enter a num2:\"))\n",
    "c = a - b\n",
    "print(c)"
   ]
  },
  {
   "cell_type": "code",
   "execution_count": 5,
   "id": "dd7c40ea-a325-4c21-9f10-731e83aba0c1",
   "metadata": {},
   "outputs": [
    {
     "name": "stdin",
     "output_type": "stream",
     "text": [
      "Enter a num1: 25\n",
      "enter a num2: 2\n"
     ]
    },
    {
     "name": "stdout",
     "output_type": "stream",
     "text": [
      "addition :  27\n",
      "substation :  23\n",
      "multiplication: 50\n",
      "division : 12.5\n",
      "floor :  12\n",
      "power : 33554432\n"
     ]
    }
   ],
   "source": [
    "a = int(input(\"Enter a num1:\"))\n",
    "b = int(input(\"enter a num2:\"))\n",
    "print(\"addition : \", a+ b)\n",
    "print(\"substation : \", a - b)\n",
    "print(\"multiplication:\", a * b)\n",
    "print(\"division :\", a /b)\n",
    "print(\"floor : \", a // b)\n",
    "print(\"power :\", b ** a)"
   ]
  },
  {
   "cell_type": "markdown",
   "id": "662449ac-8648-486d-ac06-f8639cfdc9d9",
   "metadata": {},
   "source": [
    "## **Assignment Operators** (=, +=, -=, *=, /=, %=, //=, **=, &=, |=, ^=, >>=, <<=, :=)\n",
    "\n"
   ]
  },
  {
   "cell_type": "code",
   "execution_count": 1,
   "id": "78a1ad19-c987-46f9-b3bd-fcf78aef16bf",
   "metadata": {},
   "outputs": [
    {
     "name": "stdin",
     "output_type": "stream",
     "text": [
      "enter a num :  65\n"
     ]
    },
    {
     "name": "stdout",
     "output_type": "stream",
     "text": [
      "65\n"
     ]
    }
   ],
   "source": [
    "n = int(input(\"enter a num : \"))\n",
    "print(n)"
   ]
  },
  {
   "cell_type": "code",
   "execution_count": 2,
   "id": "d03abc9a-f0f2-4454-b984-c48e63b33ed7",
   "metadata": {},
   "outputs": [
    {
     "data": {
      "text/plain": [
       "67"
      ]
     },
     "execution_count": 2,
     "metadata": {},
     "output_type": "execute_result"
    }
   ],
   "source": [
    "# n +=  2\n",
    "n= n + 2\n",
    "n"
   ]
  },
  {
   "cell_type": "code",
   "execution_count": 6,
   "id": "08a4c690-a291-46a4-bf63-d9a4e7d3b9bd",
   "metadata": {},
   "outputs": [
    {
     "name": "stdout",
     "output_type": "stream",
     "text": [
      "67\n",
      "63\n",
      "130\n"
     ]
    }
   ],
   "source": [
    "# here i'm using +=\n",
    "b = n + 2 # +=\n",
    "print(b)\n",
    "\n",
    "\n",
    "b = n-2 # -=\n",
    "print(b)\n",
    "\n",
    "\n",
    "b = n*2 # *=\n",
    "print(b)"
   ]
  },
  {
   "cell_type": "code",
   "execution_count": 11,
   "id": "e8259ea6-306f-4965-8c9c-2038f275989e",
   "metadata": {},
   "outputs": [
    {
     "name": "stdout",
     "output_type": "stream",
     "text": [
      "20\n"
     ]
    }
   ],
   "source": [
    "a = 15\n",
    "a +=5\n",
    "print(a)"
   ]
  },
  {
   "cell_type": "markdown",
   "id": "13d8a3f2-dac5-4616-8e7a-1b7efe1a502c",
   "metadata": {},
   "source": [
    "## **Comparison Operators** ( ==, !=, >, <, >=, <=)."
   ]
  },
  {
   "cell_type": "code",
   "execution_count": 1,
   "id": "35ebbbe8-fe37-47e1-a82e-0677f5a16475",
   "metadata": {},
   "outputs": [
    {
     "data": {
      "text/plain": [
       "True"
      ]
     },
     "execution_count": 1,
     "metadata": {},
     "output_type": "execute_result"
    }
   ],
   "source": [
    "c = \"megha\", \"omegha\"\n",
    "a = \"megha\", \"omegha\"\n",
    "a == c"
   ]
  },
  {
   "cell_type": "code",
   "execution_count": 8,
   "id": "9acd4bce-4c74-4ecc-bb39-d0bc635179d4",
   "metadata": {},
   "outputs": [
    {
     "name": "stdout",
     "output_type": "stream",
     "text": [
      "True\n"
     ]
    }
   ],
   "source": [
    "print(c != a)"
   ]
  },
  {
   "cell_type": "code",
   "execution_count": 12,
   "id": "bdd320d4-da78-47ed-85c7-0cb02b991541",
   "metadata": {},
   "outputs": [
    {
     "data": {
      "text/plain": [
       "True"
      ]
     },
     "execution_count": 12,
     "metadata": {},
     "output_type": "execute_result"
    }
   ],
   "source": [
    "15 == 15"
   ]
  },
  {
   "cell_type": "code",
   "execution_count": 13,
   "id": "b89afbda-2362-421b-94c8-75d21d70508a",
   "metadata": {},
   "outputs": [
    {
     "data": {
      "text/plain": [
       "False"
      ]
     },
     "execution_count": 13,
     "metadata": {},
     "output_type": "execute_result"
    }
   ],
   "source": [
    "15 != 15"
   ]
  },
  {
   "cell_type": "code",
   "execution_count": 14,
   "id": "95adbe32-b58a-4c5d-937c-2d63bc834238",
   "metadata": {},
   "outputs": [
    {
     "data": {
      "text/plain": [
       "False"
      ]
     },
     "execution_count": 14,
     "metadata": {},
     "output_type": "execute_result"
    }
   ],
   "source": [
    "15 < 10"
   ]
  },
  {
   "cell_type": "code",
   "execution_count": 15,
   "id": "4c1a1d15-c523-401d-a9b7-98b42dbd3bdc",
   "metadata": {},
   "outputs": [
    {
     "data": {
      "text/plain": [
       "True"
      ]
     },
     "execution_count": 15,
     "metadata": {},
     "output_type": "execute_result"
    }
   ],
   "source": [
    "15 >10"
   ]
  },
  {
   "cell_type": "code",
   "execution_count": 16,
   "id": "1db482ef-ca68-4915-bb8b-87dd123f20b3",
   "metadata": {},
   "outputs": [
    {
     "data": {
      "text/plain": [
       "True"
      ]
     },
     "execution_count": 16,
     "metadata": {},
     "output_type": "execute_result"
    }
   ],
   "source": [
    "15 >= 15"
   ]
  },
  {
   "cell_type": "code",
   "execution_count": 17,
   "id": "c57cd87d-dce6-4b81-b3f4-8d3f8b890c1f",
   "metadata": {},
   "outputs": [
    {
     "data": {
      "text/plain": [
       "False"
      ]
     },
     "execution_count": 17,
     "metadata": {},
     "output_type": "execute_result"
    }
   ],
   "source": [
    "15 <= 10"
   ]
  },
  {
   "cell_type": "code",
   "execution_count": null,
   "id": "e215be6b-57b6-4fe2-9c0f-a3c2da2c8944",
   "metadata": {},
   "outputs": [],
   "source": []
  },
  {
   "cell_type": "code",
   "execution_count": 10,
   "id": "d960f93d-abcb-449a-9def-1c9a29455320",
   "metadata": {},
   "outputs": [
    {
     "name": "stdin",
     "output_type": "stream",
     "text": [
      "Enter a num :  5\n",
      "Enter a num :  6\n"
     ]
    },
    {
     "name": "stdout",
     "output_type": "stream",
     "text": [
      "6 is greater num\n"
     ]
    }
   ],
   "source": [
    "n1 = int(input(\"Enter a num : \"))\n",
    "n2 = int(input(\"Enter a num : \"))\n",
    "#print(n1 >= n2)\n",
    "#print(n1<= n2)\n",
    "\n",
    "\n",
    "if n1 >= n2:\n",
    "    print(n1,\"is greater num\")\n",
    "else:\n",
    "    print(n2, \"is greater num\")"
   ]
  },
  {
   "cell_type": "code",
   "execution_count": 1,
   "id": "fa64d671-83b2-4f94-8f11-d2d84b9a2068",
   "metadata": {},
   "outputs": [
    {
     "name": "stdin",
     "output_type": "stream",
     "text": [
      "Enter a num :  15\n",
      "Enter a num :  20\n"
     ]
    },
    {
     "name": "stdout",
     "output_type": "stream",
     "text": [
      "15 is lesser num\n"
     ]
    }
   ],
   "source": [
    "# indentation is nothg but four spaces\n",
    "# when u write the \"condition\" close with colon \":\"\n",
    "\n",
    "\n",
    "n1 = int(input(\"Enter a num : \"))\n",
    "n2 = int(input(\"Enter a num : \"))\n",
    "if n1 < n2:\n",
    "    print(n1, \"is lesser num\")\n",
    "else:\n",
    "    print(n1,\"is greater num\" )"
   ]
  },
  {
   "cell_type": "code",
   "execution_count": 2,
   "id": "0b85d396-89b8-4531-8ce5-34a2f33dbc92",
   "metadata": {},
   "outputs": [
    {
     "name": "stdin",
     "output_type": "stream",
     "text": [
      "Enter a num :  25\n",
      "Enter a num :  25\n"
     ]
    },
    {
     "name": "stdout",
     "output_type": "stream",
     "text": [
      "25 is greater num\n"
     ]
    }
   ],
   "source": [
    "n1 = int(input(\"Enter a num : \"))\n",
    "n2 = int(input(\"Enter a num : \"))\n",
    "# n1 greater then n2 or equal to n2\n",
    "if n1 >= n2:\n",
    "    print(n1, \"is greater num\")\n",
    "else:\n",
    "    print(n1,\"is lesser num\" )"
   ]
  },
  {
   "cell_type": "code",
   "execution_count": 2,
   "id": "029b9e79-f867-42b4-bc02-fefa843bb8d6",
   "metadata": {},
   "outputs": [
    {
     "data": {
      "text/plain": [
       "False"
      ]
     },
     "execution_count": 2,
     "metadata": {},
     "output_type": "execute_result"
    }
   ],
   "source": [
    "5 < 2"
   ]
  },
  {
   "cell_type": "code",
   "execution_count": 3,
   "id": "d61c3176-ec40-40b5-bdb8-24c1a1d2d6ed",
   "metadata": {},
   "outputs": [
    {
     "name": "stdout",
     "output_type": "stream",
     "text": [
      "[2, 4, 6, 8, 10, 12, 14]\n"
     ]
    }
   ],
   "source": [
    "even = []\n",
    "for i in range(1,15):\n",
    "    if i %2  == 0:\n",
    "        even.append(i)\n",
    "    else:\n",
    "        pass\n",
    "\n",
    "print(even)"
   ]
  },
  {
   "cell_type": "code",
   "execution_count": null,
   "id": "52f73142-75b3-48bd-9f1a-356ec285b503",
   "metadata": {},
   "outputs": [],
   "source": [
    "[]"
   ]
  },
  {
   "attachments": {
    "81ce8ad0-3752-42e9-a3d4-bfbe66e3a189.png": {
     "image/png": "[encoded data removed]"
    }
   },
   "cell_type": "markdown",
   "id": "01e9d96f-8561-4a89-bcdc-c03fef485b02",
   "metadata": {},
   "source": [
    "## **Logical Operators** (and, or, not)\n",
    "- Logical operators are used to combine conditional statements:\n",
    "- and:  Returns True if both statements are true\n",
    "- or : Returns True if one of the statements is true\n",
    "- not: Reverse the result, returns False if the result is true.\n",
    "\n",
    "![LogicalOperators.png](attachment:81ce8ad0-3752-42e9-a3d4-bfbe66e3a189.png)"
   ]
  },
  {
   "cell_type": "code",
   "execution_count": 6,
   "id": "5288bf6c-f723-4eb4-a4d4-4a92bfb3d371",
   "metadata": {},
   "outputs": [
    {
     "name": "stdin",
     "output_type": "stream",
     "text": [
      " 5\n"
     ]
    },
    {
     "name": "stdout",
     "output_type": "stream",
     "text": [
      "odd\n"
     ]
    }
   ],
   "source": [
    "n = int(input())\n",
    "if n%2 == 0:\n",
    "    print(\"Even\")\n",
    "else:\n",
    "    print('odd')"
   ]
  },
  {
   "cell_type": "code",
   "execution_count": 20,
   "id": "ef73c9d8-e685-47e0-be89-422e61f1853b",
   "metadata": {},
   "outputs": [
    {
     "name": "stdin",
     "output_type": "stream",
     "text": [
      "Enter a num :  19\n"
     ]
    },
    {
     "name": "stdout",
     "output_type": "stream",
     "text": [
      "False\n"
     ]
    }
   ],
   "source": [
    "## Here using and operator:\n",
    "n1 = int(input(\"Enter a num : \"))\n",
    "\n",
    "if n1 <25 and n1<15:\n",
    "    print(True)\n",
    "else:\n",
    "    print(False)"
   ]
  },
  {
   "cell_type": "code",
   "execution_count": 11,
   "id": "85f4661e-2835-469c-b4d3-d60bb4734bd5",
   "metadata": {},
   "outputs": [
    {
     "name": "stdin",
     "output_type": "stream",
     "text": [
      "Enter a num :  23\n"
     ]
    },
    {
     "name": "stdout",
     "output_type": "stream",
     "text": [
      "True\n"
     ]
    }
   ],
   "source": [
    "## Here using or operator:\n",
    "n1 = int(input(\"Enter a num : \"))\n",
    "\n",
    "if n1 <25 or n1<15:\n",
    "    print(True)\n",
    "else:\n",
    "    print(False)"
   ]
  },
  {
   "cell_type": "code",
   "execution_count": 49,
   "id": "45e6b9a5-17cf-45e8-860b-27c69fd6dff3",
   "metadata": {},
   "outputs": [
    {
     "name": "stdout",
     "output_type": "stream",
     "text": [
      "False\n"
     ]
    }
   ],
   "source": [
    "# in this line of code if any one flase staement os there it obviusly cosidering false\n",
    "print(True and True and True and True and False)"
   ]
  },
  {
   "cell_type": "code",
   "execution_count": 25,
   "id": "f5e78ddf-cdba-4581-92fc-caccaa07a5f9",
   "metadata": {},
   "outputs": [
    {
     "name": "stdout",
     "output_type": "stream",
     "text": [
      "True\n"
     ]
    }
   ],
   "source": [
    "print(True or False or False or False or False)"
   ]
  },
  {
   "cell_type": "code",
   "execution_count": null,
   "id": "dff6e5e6-d233-4aee-9c5e-f36fdc580c6d",
   "metadata": {},
   "outputs": [],
   "source": []
  },
  {
   "cell_type": "code",
   "execution_count": 9,
   "id": "dd868f74-eef9-4e20-83ea-847230f7c2d9",
   "metadata": {},
   "outputs": [
    {
     "data": {
      "text/plain": [
       "True"
      ]
     },
     "execution_count": 9,
     "metadata": {},
     "output_type": "execute_result"
    }
   ],
   "source": [
    "not(10 > 15)"
   ]
  },
  {
   "cell_type": "code",
   "execution_count": null,
   "id": "02af980a-600a-4264-81dc-f760f713c892",
   "metadata": {},
   "outputs": [],
   "source": []
  },
  {
   "cell_type": "code",
   "execution_count": 22,
   "id": "2e58cfd3-20b8-4aae-87fc-87632f9eb987",
   "metadata": {},
   "outputs": [
    {
     "name": "stdout",
     "output_type": "stream",
     "text": [
      "True\n"
     ]
    }
   ],
   "source": [
    "print(True and True and True and True and True)"
   ]
  },
  {
   "cell_type": "code",
   "execution_count": 28,
   "id": "5b262d2a-ecf7-4e56-bffa-dcf3eeffb5e6",
   "metadata": {},
   "outputs": [
    {
     "name": "stdin",
     "output_type": "stream",
     "text": [
      "enter a num  15\n"
     ]
    },
    {
     "name": "stdout",
     "output_type": "stream",
     "text": [
      "True\n"
     ]
    }
   ],
   "source": [
    "n1 =  int(input(\"enter a num \"))\n",
    "if not(n1>20):\n",
    "    print(True)\n",
    "else:\n",
    "    print(False)"
   ]
  },
  {
   "cell_type": "markdown",
   "id": "77fe3a49-e00c-489a-b902-a2af68e5122e",
   "metadata": {},
   "source": [
    "## **Identity Operators** (is, is not)\n",
    "- is : Returns True if both variables are the same object.\n",
    "- is not : Returns True if both variables are not the same object.\n",
    "- Identity operators are used to compare the objects, not if they are equal, but if they are actually the same object, with the same memory location:"
   ]
  },
  {
   "cell_type": "code",
   "execution_count": 23,
   "id": "0ef768c4-0e57-41d7-a947-a6b0ea067596",
   "metadata": {},
   "outputs": [
    {
     "name": "stdout",
     "output_type": "stream",
     "text": [
      "True\n",
      "False\n",
      "True\n"
     ]
    }
   ],
   "source": [
    "x = [\"megha\", \"omegha\"]\n",
    "y = [\"megha\", \"omegha\"]\n",
    "z = x\n",
    "\n",
    "print(x is z) # true\n",
    "\n",
    "# returns True because z is the same object as x\n",
    "\n",
    "print(x is y)\n",
    "\n",
    "# returns False because x is not the same object as y, even if they have the same content\n",
    "\n",
    "print(x == y)\n",
    "\n",
    "# to demonstrate the difference betweeen \"is\" and \"==\": this comparison returns True because x is equal to y"
   ]
  },
  {
   "cell_type": "code",
   "execution_count": 2,
   "id": "c0695d37-bcfa-4999-9df1-1d3c7cf2df04",
   "metadata": {},
   "outputs": [
    {
     "name": "stdout",
     "output_type": "stream",
     "text": [
      "False\n",
      "True\n",
      "False\n"
     ]
    }
   ],
   "source": [
    "x = [\"megha\", \"omegha\"]\n",
    "y = [\"megha\", \"omegha\"]\n",
    "z = x\n",
    "\n",
    "print(x is not z)\n",
    "\n",
    "# returns False because z is the same object as x\n",
    "\n",
    "print(x is not y)\n",
    "\n",
    "# returns True because x is not the same object as y, even if they have the same content\n",
    "\n",
    "print(x != y)\n",
    "\n",
    "# to demonstrate the difference betweeen \"is not\" and \"!=\": this comparison returns False because x is equal to y"
   ]
  },
  {
   "cell_type": "code",
   "execution_count": null,
   "id": "e64509b5-31e4-4e7f-94a8-c87bbc9612c9",
   "metadata": {},
   "outputs": [],
   "source": []
  },
  {
   "cell_type": "markdown",
   "id": "63863100-c3fd-4fb7-8faa-bc94e959eb27",
   "metadata": {},
   "source": [
    "## **Membership Operators** (in, not in)\n",
    "- Membership operators are used to test if a sequence is presented in an object:\n",
    "- in :Returns True if a sequence with the specified value is present in the object.\n",
    "- not in : Returns True if a sequence with the specified value is not present in the object."
   ]
  },
  {
   "cell_type": "code",
   "execution_count": 30,
   "id": "f5ef1101-30dc-4c9a-9144-70116dd845f8",
   "metadata": {},
   "outputs": [
    {
     "name": "stdout",
     "output_type": "stream",
     "text": [
      "megha\n",
      "omegha\n",
      "abhi\n",
      "lbrc\n",
      "mic\n"
     ]
    }
   ],
   "source": [
    "print(\"megha\")\n",
    "print(\"omegha\")\n",
    "print(\"abhi\")\n",
    "print(\"lbrc\")\n",
    "print(\"mic\")"
   ]
  },
  {
   "cell_type": "code",
   "execution_count": 11,
   "id": "1ae73876-442a-458c-b28a-3d04b095c97c",
   "metadata": {},
   "outputs": [
    {
     "name": "stdout",
     "output_type": "stream",
     "text": [
      "True\n"
     ]
    }
   ],
   "source": [
    "x = [ \"megha\", \"abhi\", \"lbrc\", \"mic\"]\n",
    "print(\"megha\" in x)\n",
    "\n",
    "# returns True because a sequence with the value \"megha\" is in the list"
   ]
  },
  {
   "cell_type": "code",
   "execution_count": 26,
   "id": "996524b9-e10e-4f88-9013-e5ca63448ac6",
   "metadata": {},
   "outputs": [
    {
     "name": "stdout",
     "output_type": "stream",
     "text": [
      "False\n"
     ]
    }
   ],
   "source": [
    "x = [\"megha\", \"omegha\", \"lbrc\"]\n",
    "\n",
    "print(\"lbrc\" not in  x)\n",
    "\n",
    "# returns True because a sequence with the value \"lbrc\" is  not in the list"
   ]
  },
  {
   "cell_type": "code",
   "execution_count": 36,
   "id": "5e4f655e-7715-4b85-8f14-dc93e40e6b71",
   "metadata": {},
   "outputs": [
    {
     "name": "stdin",
     "output_type": "stream",
     "text": [
      "enter a num 2\n"
     ]
    },
    {
     "name": "stdout",
     "output_type": "stream",
     "text": [
      "2\n"
     ]
    }
   ],
   "source": [
    "n = int(input(\"enter a num\" ))\n",
    "print(n)"
   ]
  },
  {
   "cell_type": "code",
   "execution_count": null,
   "id": "396ae260-f5c7-4d42-9135-f23a6b455fc8",
   "metadata": {},
   "outputs": [],
   "source": []
  },
  {
   "cell_type": "code",
   "execution_count": null,
   "id": "0f97c02d-8b72-414a-a42f-a7e33e25b6d0",
   "metadata": {},
   "outputs": [],
   "source": []
  },
  {
   "cell_type": "markdown",
   "id": "58d80324-10ba-4312-b25a-0fd0fd8f857f",
   "metadata": {},
   "source": [
    "## **Bitwise Operators** (& , ^, |, ~, <<, >>)\n",
    "- & : Sets each bit to 1 if both bits are 1\n",
    "- ^ : Sets each bit to 1 if only one of two bits is 1\n",
    "- | : Sets each bit to 1 if one of two bits is 1\n",
    "- ~ : Inverts all the bits\n",
    "- << : Shift left by pushing zeros in from the right and let the leftmost bits fall off.\n",
    "- >>_: Shift right by pushing copies of the leftmost bit in from the left, and let the rightmost bits fall off"
   ]
  },
  {
   "cell_type": "code",
   "execution_count": 27,
   "id": "f9ed82ad-99c8-4ab6-9576-eb5d348bc285",
   "metadata": {},
   "outputs": [
    {
     "data": {
      "text/plain": [
       "'0b110111'"
      ]
     },
     "execution_count": 27,
     "metadata": {},
     "output_type": "execute_result"
    }
   ],
   "source": [
    "bin(55)"
   ]
  },
  {
   "cell_type": "code",
   "execution_count": null,
   "id": "34680117-9fcc-4595-8371-6d9f921a4d9a",
   "metadata": {},
   "outputs": [],
   "source": []
  },
  {
   "cell_type": "code",
   "execution_count": null,
   "id": "57b72817-fe43-4bb5-8e07-8c971586c9ed",
   "metadata": {},
   "outputs": [],
   "source": []
  },
  {
   "cell_type": "code",
   "execution_count": 10,
   "id": "ba71d15f-e5cd-48a7-8dba-4554d8cdf1f2",
   "metadata": {},
   "outputs": [
    {
     "name": "stdout",
     "output_type": "stream",
     "text": [
      "16\n"
     ]
    }
   ],
   "source": [
    "print(2 << 3)"
   ]
  },
  {
   "cell_type": "code",
   "execution_count": 8,
   "id": "a47947c3-016a-4dcf-9e56-a261c7cdbb38",
   "metadata": {},
   "outputs": [
    {
     "name": "stdout",
     "output_type": "stream",
     "text": [
      "0b10\n"
     ]
    }
   ],
   "source": [
    "print(bin(2))"
   ]
  },
  {
   "cell_type": "code",
   "execution_count": 9,
   "id": "29fa8940-65b5-4fcd-9c2b-6385639f4502",
   "metadata": {},
   "outputs": [
    {
     "name": "stdout",
     "output_type": "stream",
     "text": [
      "0b10000\n"
     ]
    }
   ],
   "source": [
    "print(bin(16))"
   ]
  },
  {
   "cell_type": "code",
   "execution_count": 11,
   "id": "d18db62a-a493-44f2-8b9c-ca3cd4deed2c",
   "metadata": {},
   "outputs": [
    {
     "name": "stdout",
     "output_type": "stream",
     "text": [
      "0b11000\n",
      "0b11\n"
     ]
    }
   ],
   "source": [
    "print(bin(24))\n",
    "print(bin(3))\n"
   ]
  },
  {
   "cell_type": "code",
   "execution_count": 5,
   "id": "492885a2-67d7-4a09-a15b-56091d36be2f",
   "metadata": {},
   "outputs": [
    {
     "data": {
      "text/plain": [
       "'0b110111'"
      ]
     },
     "execution_count": 5,
     "metadata": {},
     "output_type": "execute_result"
    }
   ],
   "source": [
    "bin(55)"
   ]
  },
  {
   "cell_type": "code",
   "execution_count": 8,
   "id": "a2b91e8a-c14d-41e6-b5b8-0dc1c937d722",
   "metadata": {},
   "outputs": [
    {
     "name": "stdout",
     "output_type": "stream",
     "text": [
      "64\n"
     ]
    }
   ],
   "source": [
    "print(2 << 5)"
   ]
  },
  {
   "cell_type": "code",
   "execution_count": 9,
   "id": "e9b11e2b-133d-4d5a-bd4c-fcac49e973c6",
   "metadata": {},
   "outputs": [
    {
     "name": "stdout",
     "output_type": "stream",
     "text": [
      "0b1000000\n",
      "0b10\n"
     ]
    }
   ],
   "source": [
    "print(bin(64))\n",
    "print(bin(2))"
   ]
  },
  {
   "cell_type": "code",
   "execution_count": 8,
   "id": "ae79809e-0091-45cf-b672-3ba6dc23a061",
   "metadata": {},
   "outputs": [
    {
     "name": "stdout",
     "output_type": "stream",
     "text": [
      "28672\n"
     ]
    }
   ],
   "source": [
    "print(7 << 12)\n"
   ]
  },
  {
   "cell_type": "code",
   "execution_count": 9,
   "id": "4e71a695-7157-47d8-a60b-930a7f521a0c",
   "metadata": {},
   "outputs": [
    {
     "data": {
      "text/plain": [
       "'0b111'"
      ]
     },
     "execution_count": 9,
     "metadata": {},
     "output_type": "execute_result"
    }
   ],
   "source": [
    "bin(7)"
   ]
  },
  {
   "cell_type": "code",
   "execution_count": 10,
   "id": "55b10300-48c9-4b74-9d0c-30b7ea2d8a6b",
   "metadata": {},
   "outputs": [
    {
     "data": {
      "text/plain": [
       "'0b111000000000000'"
      ]
     },
     "execution_count": 10,
     "metadata": {},
     "output_type": "execute_result"
    }
   ],
   "source": [
    "bin(28672)"
   ]
  },
  {
   "cell_type": "code",
   "execution_count": 11,
   "id": "cd93afa3-4d93-42b2-ad3a-09d8be996746",
   "metadata": {},
   "outputs": [
    {
     "name": "stdout",
     "output_type": "stream",
     "text": [
      "0\n"
     ]
    }
   ],
   "source": [
    "print(2 >> 2)"
   ]
  },
  {
   "cell_type": "code",
   "execution_count": 12,
   "id": "82dbd7ff-a0ed-47e1-aa03-ca80df01bedb",
   "metadata": {},
   "outputs": [
    {
     "data": {
      "text/plain": [
       "'0b100'"
      ]
     },
     "execution_count": 12,
     "metadata": {},
     "output_type": "execute_result"
    }
   ],
   "source": [
    "bin(4)"
   ]
  },
  {
   "cell_type": "code",
   "execution_count": null,
   "id": "ddfa2c1d-c405-4675-a975-e89b971fb641",
   "metadata": {},
   "outputs": [],
   "source": []
  }
 ],
 "metadata": {
  "kernelspec": {
   "display_name": "Python 3 (ipykernel)",
   "language": "python",
   "name": "python3"
  },
  "language_info": {
   "codemirror_mode": {
    "name": "ipython",
    "version": 3
   },
   "file_extension": ".py",
   "mimetype": "text/x-python",
   "name": "python",
   "nbconvert_exporter": "python",
   "pygments_lexer": "ipython3",
   "version": "3.10.6"
  }
 },
 "nbformat": 4,
 "nbformat_minor": 5
}
